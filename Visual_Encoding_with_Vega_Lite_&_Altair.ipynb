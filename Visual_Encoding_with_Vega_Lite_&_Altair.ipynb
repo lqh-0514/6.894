{
  "nbformat": 4,
  "nbformat_minor": 0,
  "metadata": {
    "colab": {
      "name": "Visual Encoding with Vega-Lite & Altair",
      "version": "0.3.2",
      "provenance": [],
      "collapsed_sections": [],
      "include_colab_link": true
    },
    "kernelspec": {
      "display_name": "Python [conda env:altair]",
      "language": "python",
      "name": "conda-env-altair-py"
    }
  },
  "cells": [
    {
      "cell_type": "markdown",
      "metadata": {
        "id": "view-in-github",
        "colab_type": "text"
      },
      "source": [
        "<a href=\"https://colab.research.google.com/github/lqh-0514/6.894/blob/master/Visual_Encoding_with_Vega_Lite_%26_Altair.ipynb\" target=\"_parent\"><img src=\"https://colab.research.google.com/assets/colab-badge.svg\" alt=\"Open In Colab\"/></a>"
      ]
    },
    {
      "metadata": {
        "id": "YueLLjO8YJLK",
        "colab_type": "text"
      },
      "cell_type": "markdown",
      "source": [
        "# Visual Encodings with Vega-Lite & Altair\n",
        "\n",
        "The data and image models we learned about last time gave us a language for talking about visualization design. Today, we'll be more concrete by using those models to construct visualizations.\n",
        "\n",
        "In particular, we'll be using [Altair](https://altair-viz.github.io/) which provides a Pythonic interface to the [Vega-Lite](https://vega.github.io/vega-lite/) visualization grammar. By \"grammar\", we mean that the *data*, *transformations*, *marks*, and *encoding channels* we learned about last time are all exposed as building blocks. Creating visualizations involves combining these building blocks, and describing their properties, rather than writing for-loops and low-level drawing commands. This approach is known as *declarative specification*: describing *what* we want the visualization to look like, rather than *how* it should be computed and drawn. \n",
        "\n",
        "To learn more about Vega-Lite and declarative specification, watch the [Vega-Lite presentation video from OpenVisConf 2017](https://www.youtube.com/watch?v=9uaHRWj04D4).\n",
        "\n",
        "This notebook will guide you through the basic process of creating visualizations in Altair. We recommend keeping a reference to the [Altair documentation](https://altair-viz.github.io/) handy!"
      ]
    },
    {
      "metadata": {
        "id": "Wy1RJr6YaIWG",
        "colab_type": "text"
      },
      "cell_type": "markdown",
      "source": [
        "## Imports\n",
        "\n",
        "To start, we must import the necessary libraries: Pandas for data frames and Altair for visualization."
      ]
    },
    {
      "metadata": {
        "colab_type": "code",
        "id": "zYMsJwmgJ4R7",
        "colab": {}
      },
      "cell_type": "code",
      "source": [
        "import pandas as pd\n",
        "import altair as alt"
      ],
      "execution_count": 0,
      "outputs": []
    },
    {
      "metadata": {
        "id": "LBotwpgUaaXQ",
        "colab_type": "text"
      },
      "cell_type": "markdown",
      "source": [
        "## Data\n",
        "\n",
        "Data in Altair is built around the Pandas data frame, which consists of a set of named data *columns*. We will also regularly refer to data columns as data *fields*.\n",
        "\n",
        "Altair makes it easy to load example datasets from the [vega-datasets](https://github.com/vega/vega-datasets) collection into a Pandas data frame. In this notebook, we will be visualizing global health and population data for a number of countries, over the time period of 1955 to 2005. The data was collected by the [Gapminder Foundation](https://www.gapminder.org/) and shared in [Hans Rosling's popular TED talk](https://www.youtube.com/watch?v=hVimVzgtD6w). If you haven't seen the talk, we encourage you to watch it!"
      ]
    },
    {
      "metadata": {
        "id": "86YdGphsae87",
        "colab_type": "code",
        "colab": {}
      },
      "cell_type": "code",
      "source": [
        "from vega_datasets import data as vega_data\n",
        "data = vega_data.gapminder()"
      ],
      "execution_count": 0,
      "outputs": []
    },
    {
      "metadata": {
        "id": "72R6VEQvan2d",
        "colab_type": "text"
      },
      "cell_type": "markdown",
      "source": [
        "How big is the data?"
      ]
    },
    {
      "metadata": {
        "id": "M0Sp4rLibEZe",
        "colab_type": "code",
        "outputId": "f33fcd50-3430-4aa5-955c-421c00d6051e",
        "colab": {
          "base_uri": "https://localhost:8080/",
          "height": 34
        }
      },
      "cell_type": "code",
      "source": [
        "data.shape"
      ],
      "execution_count": 0,
      "outputs": [
        {
          "output_type": "execute_result",
          "data": {
            "text/plain": [
              "(693, 6)"
            ]
          },
          "metadata": {
            "tags": []
          },
          "execution_count": 4
        }
      ]
    },
    {
      "metadata": {
        "id": "9Hjb_n7gbZgr",
        "colab_type": "text"
      },
      "cell_type": "markdown",
      "source": [
        "That's 693 rows, and 6 columns! \n",
        "\n",
        "We can also take a peak at the data to examine it in more detail:"
      ]
    },
    {
      "metadata": {
        "id": "sbeBl1ESbd0T",
        "colab_type": "code",
        "outputId": "cdde0b9b-8c28-46b4-b22c-3634802b87e7",
        "colab": {
          "base_uri": "https://localhost:8080/",
          "height": 204
        }
      },
      "cell_type": "code",
      "source": [
        "data.head(5)"
      ],
      "execution_count": 0,
      "outputs": [
        {
          "output_type": "execute_result",
          "data": {
            "text/html": [
              "<div>\n",
              "<style scoped>\n",
              "    .dataframe tbody tr th:only-of-type {\n",
              "        vertical-align: middle;\n",
              "    }\n",
              "\n",
              "    .dataframe tbody tr th {\n",
              "        vertical-align: top;\n",
              "    }\n",
              "\n",
              "    .dataframe thead th {\n",
              "        text-align: right;\n",
              "    }\n",
              "</style>\n",
              "<table border=\"1\" class=\"dataframe\">\n",
              "  <thead>\n",
              "    <tr style=\"text-align: right;\">\n",
              "      <th></th>\n",
              "      <th>cluster</th>\n",
              "      <th>country</th>\n",
              "      <th>fertility</th>\n",
              "      <th>life_expect</th>\n",
              "      <th>pop</th>\n",
              "      <th>year</th>\n",
              "    </tr>\n",
              "  </thead>\n",
              "  <tbody>\n",
              "    <tr>\n",
              "      <th>0</th>\n",
              "      <td>0</td>\n",
              "      <td>Afghanistan</td>\n",
              "      <td>7.7</td>\n",
              "      <td>30.332</td>\n",
              "      <td>8891209</td>\n",
              "      <td>1955</td>\n",
              "    </tr>\n",
              "    <tr>\n",
              "      <th>1</th>\n",
              "      <td>0</td>\n",
              "      <td>Afghanistan</td>\n",
              "      <td>7.7</td>\n",
              "      <td>31.997</td>\n",
              "      <td>9829450</td>\n",
              "      <td>1960</td>\n",
              "    </tr>\n",
              "    <tr>\n",
              "      <th>2</th>\n",
              "      <td>0</td>\n",
              "      <td>Afghanistan</td>\n",
              "      <td>7.7</td>\n",
              "      <td>34.020</td>\n",
              "      <td>10997885</td>\n",
              "      <td>1965</td>\n",
              "    </tr>\n",
              "    <tr>\n",
              "      <th>3</th>\n",
              "      <td>0</td>\n",
              "      <td>Afghanistan</td>\n",
              "      <td>7.7</td>\n",
              "      <td>36.088</td>\n",
              "      <td>12430623</td>\n",
              "      <td>1970</td>\n",
              "    </tr>\n",
              "    <tr>\n",
              "      <th>4</th>\n",
              "      <td>0</td>\n",
              "      <td>Afghanistan</td>\n",
              "      <td>7.7</td>\n",
              "      <td>38.438</td>\n",
              "      <td>14132019</td>\n",
              "      <td>1975</td>\n",
              "    </tr>\n",
              "  </tbody>\n",
              "</table>\n",
              "</div>"
            ],
            "text/plain": [
              "   cluster      country  fertility  life_expect       pop  year\n",
              "0        0  Afghanistan        7.7       30.332   8891209  1955\n",
              "1        0  Afghanistan        7.7       31.997   9829450  1960\n",
              "2        0  Afghanistan        7.7       34.020  10997885  1965\n",
              "3        0  Afghanistan        7.7       36.088  12430623  1970\n",
              "4        0  Afghanistan        7.7       38.438  14132019  1975"
            ]
          },
          "metadata": {
            "tags": []
          },
          "execution_count": 5
        }
      ]
    },
    {
      "metadata": {
        "id": "Ukm_DAvKkFDk",
        "colab_type": "text"
      },
      "cell_type": "markdown",
      "source": [
        "So, for each `country` and `year` (in 5-year intervals), we have measures of fertility in terms of the number of children per woman (`fertility`), life expectancy in years (`life_expect`), and total population (`pop`).\n",
        "\n",
        "We also see a `cluster` field with an integer code. What might this represent? We'll try and solve this mystery as we visualize the data!\n",
        "\n",
        "We can also create a smaller data frame, but filtering down the data like so:"
      ]
    },
    {
      "metadata": {
        "id": "6c6aC2DGj9oY",
        "colab_type": "code",
        "colab": {}
      },
      "cell_type": "code",
      "source": [
        "data2000 = data.loc[data['year'] == 2000]"
      ],
      "execution_count": 0,
      "outputs": []
    },
    {
      "metadata": {
        "id": "7E86kV6_OLS6",
        "colab_type": "code",
        "outputId": "f0b480c2-4ade-4bef-989b-99c15101d2b5",
        "colab": {
          "base_uri": "https://localhost:8080/",
          "height": 204
        }
      },
      "cell_type": "code",
      "source": [
        "data2000.head(5)"
      ],
      "execution_count": 0,
      "outputs": [
        {
          "output_type": "execute_result",
          "data": {
            "text/html": [
              "<div>\n",
              "<style scoped>\n",
              "    .dataframe tbody tr th:only-of-type {\n",
              "        vertical-align: middle;\n",
              "    }\n",
              "\n",
              "    .dataframe tbody tr th {\n",
              "        vertical-align: top;\n",
              "    }\n",
              "\n",
              "    .dataframe thead th {\n",
              "        text-align: right;\n",
              "    }\n",
              "</style>\n",
              "<table border=\"1\" class=\"dataframe\">\n",
              "  <thead>\n",
              "    <tr style=\"text-align: right;\">\n",
              "      <th></th>\n",
              "      <th>cluster</th>\n",
              "      <th>country</th>\n",
              "      <th>fertility</th>\n",
              "      <th>life_expect</th>\n",
              "      <th>pop</th>\n",
              "      <th>year</th>\n",
              "    </tr>\n",
              "  </thead>\n",
              "  <tbody>\n",
              "    <tr>\n",
              "      <th>9</th>\n",
              "      <td>0</td>\n",
              "      <td>Afghanistan</td>\n",
              "      <td>7.4792</td>\n",
              "      <td>42.129</td>\n",
              "      <td>23898198</td>\n",
              "      <td>2000</td>\n",
              "    </tr>\n",
              "    <tr>\n",
              "      <th>20</th>\n",
              "      <td>3</td>\n",
              "      <td>Argentina</td>\n",
              "      <td>2.3500</td>\n",
              "      <td>74.340</td>\n",
              "      <td>37497728</td>\n",
              "      <td>2000</td>\n",
              "    </tr>\n",
              "    <tr>\n",
              "      <th>31</th>\n",
              "      <td>3</td>\n",
              "      <td>Aruba</td>\n",
              "      <td>2.1240</td>\n",
              "      <td>73.451</td>\n",
              "      <td>69539</td>\n",
              "      <td>2000</td>\n",
              "    </tr>\n",
              "    <tr>\n",
              "      <th>42</th>\n",
              "      <td>4</td>\n",
              "      <td>Australia</td>\n",
              "      <td>1.7560</td>\n",
              "      <td>80.370</td>\n",
              "      <td>19164620</td>\n",
              "      <td>2000</td>\n",
              "    </tr>\n",
              "    <tr>\n",
              "      <th>53</th>\n",
              "      <td>1</td>\n",
              "      <td>Austria</td>\n",
              "      <td>1.3820</td>\n",
              "      <td>78.980</td>\n",
              "      <td>8113413</td>\n",
              "      <td>2000</td>\n",
              "    </tr>\n",
              "  </tbody>\n",
              "</table>\n",
              "</div>"
            ],
            "text/plain": [
              "    cluster      country  fertility  life_expect       pop  year\n",
              "9         0  Afghanistan     7.4792       42.129  23898198  2000\n",
              "20        3    Argentina     2.3500       74.340  37497728  2000\n",
              "31        3        Aruba     2.1240       73.451     69539  2000\n",
              "42        4    Australia     1.7560       80.370  19164620  2000\n",
              "53        1      Austria     1.3820       78.980   8113413  2000"
            ]
          },
          "metadata": {
            "tags": []
          },
          "execution_count": 7
        }
      ]
    },
    {
      "metadata": {
        "id": "GmX14naebrzG",
        "colab_type": "text"
      },
      "cell_type": "markdown",
      "source": [
        "For more information about data frames - and some useful transformations to prepare Pandas data frames for plotting with Altair! - see the [Specifying Data with Altair documentation](https://altair-viz.github.io/user_guide/data.html)."
      ]
    },
    {
      "metadata": {
        "id": "ac427IWdb7xx",
        "colab_type": "text"
      },
      "cell_type": "markdown",
      "source": [
        "## The Chart Object\n",
        "\n",
        "The fundamental object in Altair is the `Chart`, which takes a data frame as a single argument:"
      ]
    },
    {
      "metadata": {
        "id": "QqF4GKjDcG4y",
        "colab_type": "code",
        "colab": {}
      },
      "cell_type": "code",
      "source": [
        "chart = alt.Chart(data2000)"
      ],
      "execution_count": 0,
      "outputs": []
    },
    {
      "metadata": {
        "id": "9i5gX1tWcKAu",
        "colab_type": "text"
      },
      "cell_type": "markdown",
      "source": [
        "So far, we have defined the `Chart` object and passed it the simple data frame we generated above. We have not yet told the chart to *do* anything with the data."
      ]
    },
    {
      "metadata": {
        "id": "_z0gVCb8cNgx",
        "colab_type": "text"
      },
      "cell_type": "markdown",
      "source": [
        "## Marks and Encodings\n",
        "\n",
        "With a chart object in hand, we can now specify how we would like the data to be visualized. We first indicate what kind of graphical *mark* (geometric shape) we want to use to represent the data. We can set the `mark` attribute of the chart object using the the `Chart.mark_*` methods.\n",
        "\n",
        "For example, we can show the data as a point using `Chart.mark_point()`:"
      ]
    },
    {
      "metadata": {
        "id": "NmlAmwX4cXzE",
        "colab_type": "code",
        "outputId": "178b5148-b19f-48f2-ebab-fcd7332bd0b1",
        "colab": {
          "base_uri": "https://localhost:8080/",
          "height": 52
        }
      },
      "cell_type": "code",
      "source": [
        "alt.Chart(data2000).mark_point()"
      ],
      "execution_count": 0,
      "outputs": [
        {
          "output_type": "execute_result",
          "data": {
            "text/plain": [
              "Chart({\n",
              "  data:      cluster             country  fertility  life_expect         pop  year\n",
              "  9          0         Afghanistan     7.4792       42.129    23898198  2000\n",
              "  20         3           Argentina     2.3500       74.340    37497728  2000\n",
              "  31         3               Aruba     2.1240       73.451       69539  2000\n",
              "  42         4           Australia     1.7560       80.370    19164620  2000\n",
              "  53         1             Austria     1.3820       78.980     8113413  2000\n",
              "  64         3             Bahamas     2.1111       71.068      290075  2000\n",
              "  75         0          Bangladesh     3.2240       62.013   130406594  2000\n",
              "  86         3            Barbados     1.5000       75.970      273483  2000\n",
              "  97         1             Belgium     1.6380       78.320    10263618  2000\n",
              "  108        3             Bolivia     3.9585       63.883     8152620  2000\n",
              "  119        3              Brazil     2.3450       71.006   175552771  2000\n",
              "  130        3              Canada     1.5220       79.770    31278097  2000\n",
              "  141        3               Chile     2.0000       77.860    15153450  2000\n",
              "  152        4               China     1.7000       72.028  1262645000  2000\n",
              "  163        3            Colombia     2.4705       71.682    39685655  2000\n",
              "  174        3          Costa Rica     2.2815       78.123     3710558  2000\n",
              "  185        1             Croatia     1.3480       74.876     4410830  2000\n",
              "  196        3                Cuba     1.6300       77.158    11134273  2000\n",
              "  207        3  Dominican Republic     2.9500       70.847     8385828  2000\n",
              "  218        3             Ecuador     2.8175       74.173    12505204  2000\n",
              "  229        5               Egypt     3.1740       69.806    70492342  2000\n",
              "  240        3         El Salvador     2.8830       70.734     6122515  2000\n",
              "  251        1             Finland     1.7540       78.370     5168595  2000\n",
              "  262        1              France     1.8833       79.590    59381628  2000\n",
              "  273        1             Georgia     1.4780       70.476     4777209  2000\n",
              "  284        1             Germany     1.3460       78.670    82187909  2000\n",
              "  295        1              Greece     1.2770       78.256    10559110  2000\n",
              "  306        3             Grenada     2.4290       67.746       89312  2000\n",
              "  317        3               Haiti     4.0000       58.137     7306302  2000\n",
              "  328        4           Hong Kong     0.9400       81.495     6658720  2000\n",
              "  ..       ...                 ...        ...          ...         ...   ...\n",
              "  372        5                Iran     2.1240       69.451    65660289  2000\n",
              "  383        5                Iraq     4.8580       57.046    22675617  2000\n",
              "  394        1             Ireland     1.9690       77.783     3791690  2000\n",
              "  405        5              Israel     2.9060       79.696     5842454  2000\n",
              "  416        1               Italy     1.2860       80.240    57719337  2000\n",
              "  427        3             Jamaica     2.6280       72.047     2615467  2000\n",
              "  438        4               Japan     1.2910       82.000   126699784  2000\n",
              "  449        2               Kenya     5.0000       50.992    29985839  2000\n",
              "  460        4         South Korea     1.9173       66.662    21647682  2000\n",
              "  471        4         North Korea     1.2420       77.045    47351083  2000\n",
              "  482        5             Lebanon     2.3190       71.028     3578036  2000\n",
              "  493        3              Mexico     2.4005       74.902    99926620  2000\n",
              "  504        1         Netherlands     1.7260       78.530    15907853  2000\n",
              "  515        4         New Zealand     1.9640       79.110     3819762  2000\n",
              "  526        2             Nigeria     5.8450       46.608   114306700  2000\n",
              "  537        1              Norway     1.8010       79.050     4492400  2000\n",
              "  548        0            Pakistan     3.9936       63.610   146342958  2000\n",
              "  559        3                Peru     2.7005       69.906    25979722  2000\n",
              "  570        4         Philippines     3.5436       70.303    79739825  2000\n",
              "  581        1              Poland     1.2510       74.670    38654164  2000\n",
              "  592        1            Portugal     1.4540       77.290    10335597  2000\n",
              "  603        2              Rwanda     6.0100       43.413     7507056  2000\n",
              "  614        5        Saudi Arabia     3.8100       71.626    23153090  2000\n",
              "  625        2        South Africa     2.8020       53.365    44066197  2000\n",
              "  636        1               Spain     1.2870       79.780    40016081  2000\n",
              "  647        1         Switzerland     1.4150       80.620     7266920  2000\n",
              "  658        1              Turkey     2.2300       70.845    65666677  2000\n",
              "  669        1      United Kingdom     1.6950       78.471    59522468  2000\n",
              "  680        3       United States     2.0380       77.310   282338631  2000\n",
              "  691        3           Venezuela     2.7230       72.766    23542649  2000\n",
              "  \n",
              "  [63 rows x 6 columns],\n",
              "  mark: 'point'\n",
              "})"
            ],
            "text/html": [
              "<!DOCTYPE html>\n",
              "<html>\n",
              "<head>\n",
              "  <style>\n",
              "    .vega-actions a {\n",
              "        margin-right: 12px;\n",
              "        color: #757575;\n",
              "        font-weight: normal;\n",
              "        font-size: 13px;\n",
              "    }\n",
              "    .error {\n",
              "        color: red;\n",
              "    }\n",
              "  </style>\n",
              "  <script type=\"text/javascript\" src=\"https://cdn.jsdelivr.net/npm//vega@4\"></script>\n",
              "  <script type=\"text/javascript\" src=\"https://cdn.jsdelivr.net/npm//vega-lite@2.6.0\"></script>\n",
              "  <script type=\"text/javascript\" src=\"https://cdn.jsdelivr.net/npm//vega-embed@3\"></script>\n",
              "</head>\n",
              "<body>\n",
              "  <div id=\"altair-viz\"></div>\n",
              "  <script>\n",
              "      var spec = {\"data\": {\"name\": \"data-fdeb0b749a6385830bd1445d39ad6ea0\"}, \"$schema\": \"https://vega.github.io/schema/vega-lite/v2.6.0.json\", \"datasets\": {\"data-fdeb0b749a6385830bd1445d39ad6ea0\": [{\"life_expect\": 42.129, \"pop\": 23898198, \"country\": \"Afghanistan\", \"cluster\": 0, \"year\": 2000, \"fertility\": 7.4792}, {\"life_expect\": 74.34, \"pop\": 37497728, \"country\": \"Argentina\", \"cluster\": 3, \"year\": 2000, \"fertility\": 2.35}, {\"life_expect\": 73.451, \"pop\": 69539, \"country\": \"Aruba\", \"cluster\": 3, \"year\": 2000, \"fertility\": 2.124}, {\"life_expect\": 80.37, \"pop\": 19164620, \"country\": \"Australia\", \"cluster\": 4, \"year\": 2000, \"fertility\": 1.756}, {\"life_expect\": 78.98, \"pop\": 8113413, \"country\": \"Austria\", \"cluster\": 1, \"year\": 2000, \"fertility\": 1.3820000000000001}, {\"life_expect\": 71.068, \"pop\": 290075, \"country\": \"Bahamas\", \"cluster\": 3, \"year\": 2000, \"fertility\": 2.1111}, {\"life_expect\": 62.013, \"pop\": 130406594, \"country\": \"Bangladesh\", \"cluster\": 0, \"year\": 2000, \"fertility\": 3.224}, {\"life_expect\": 75.97, \"pop\": 273483, \"country\": \"Barbados\", \"cluster\": 3, \"year\": 2000, \"fertility\": 1.5}, {\"life_expect\": 78.32, \"pop\": 10263618, \"country\": \"Belgium\", \"cluster\": 1, \"year\": 2000, \"fertility\": 1.638}, {\"life_expect\": 63.883, \"pop\": 8152620, \"country\": \"Bolivia\", \"cluster\": 3, \"year\": 2000, \"fertility\": 3.9585}, {\"life_expect\": 71.006, \"pop\": 175552771, \"country\": \"Brazil\", \"cluster\": 3, \"year\": 2000, \"fertility\": 2.345}, {\"life_expect\": 79.77, \"pop\": 31278097, \"country\": \"Canada\", \"cluster\": 3, \"year\": 2000, \"fertility\": 1.522}, {\"life_expect\": 77.86, \"pop\": 15153450, \"country\": \"Chile\", \"cluster\": 3, \"year\": 2000, \"fertility\": 2.0}, {\"life_expect\": 72.028, \"pop\": 1262645000, \"country\": \"China\", \"cluster\": 4, \"year\": 2000, \"fertility\": 1.7000000000000002}, {\"life_expect\": 71.682, \"pop\": 39685655, \"country\": \"Colombia\", \"cluster\": 3, \"year\": 2000, \"fertility\": 2.4705}, {\"life_expect\": 78.123, \"pop\": 3710558, \"country\": \"Costa Rica\", \"cluster\": 3, \"year\": 2000, \"fertility\": 2.2815}, {\"life_expect\": 74.876, \"pop\": 4410830, \"country\": \"Croatia\", \"cluster\": 1, \"year\": 2000, \"fertility\": 1.348}, {\"life_expect\": 77.158, \"pop\": 11134273, \"country\": \"Cuba\", \"cluster\": 3, \"year\": 2000, \"fertility\": 1.63}, {\"life_expect\": 70.847, \"pop\": 8385828, \"country\": \"Dominican Republic\", \"cluster\": 3, \"year\": 2000, \"fertility\": 2.95}, {\"life_expect\": 74.173, \"pop\": 12505204, \"country\": \"Ecuador\", \"cluster\": 3, \"year\": 2000, \"fertility\": 2.8175}, {\"life_expect\": 69.806, \"pop\": 70492342, \"country\": \"Egypt\", \"cluster\": 5, \"year\": 2000, \"fertility\": 3.174}, {\"life_expect\": 70.734, \"pop\": 6122515, \"country\": \"El Salvador\", \"cluster\": 3, \"year\": 2000, \"fertility\": 2.883}, {\"life_expect\": 78.37, \"pop\": 5168595, \"country\": \"Finland\", \"cluster\": 1, \"year\": 2000, \"fertility\": 1.754}, {\"life_expect\": 79.59, \"pop\": 59381628, \"country\": \"France\", \"cluster\": 1, \"year\": 2000, \"fertility\": 1.8833000000000002}, {\"life_expect\": 70.476, \"pop\": 4777209, \"country\": \"Georgia\", \"cluster\": 1, \"year\": 2000, \"fertility\": 1.478}, {\"life_expect\": 78.67, \"pop\": 82187909, \"country\": \"Germany\", \"cluster\": 1, \"year\": 2000, \"fertility\": 1.346}, {\"life_expect\": 78.256, \"pop\": 10559110, \"country\": \"Greece\", \"cluster\": 1, \"year\": 2000, \"fertility\": 1.2770000000000001}, {\"life_expect\": 67.746, \"pop\": 89312, \"country\": \"Grenada\", \"cluster\": 3, \"year\": 2000, \"fertility\": 2.429}, {\"life_expect\": 58.137, \"pop\": 7306302, \"country\": \"Haiti\", \"cluster\": 3, \"year\": 2000, \"fertility\": 4.0}, {\"life_expect\": 81.495, \"pop\": 6658720, \"country\": \"Hong Kong\", \"cluster\": 4, \"year\": 2000, \"fertility\": 0.9400000000000001}, {\"life_expect\": 80.5, \"pop\": 281043, \"country\": \"Iceland\", \"cluster\": 1, \"year\": 2000, \"fertility\": 1.9929999999999999}, {\"life_expect\": 62.879, \"pop\": 1007702000, \"country\": \"India\", \"cluster\": 0, \"year\": 2000, \"fertility\": 3.1132}, {\"life_expect\": 68.588, \"pop\": 206265000, \"country\": \"Indonesia\", \"cluster\": 4, \"year\": 2000, \"fertility\": 2.3761}, {\"life_expect\": 69.451, \"pop\": 65660289, \"country\": \"Iran\", \"cluster\": 5, \"year\": 2000, \"fertility\": 2.124}, {\"life_expect\": 57.046, \"pop\": 22675617, \"country\": \"Iraq\", \"cluster\": 5, \"year\": 2000, \"fertility\": 4.858}, {\"life_expect\": 77.783, \"pop\": 3791690, \"country\": \"Ireland\", \"cluster\": 1, \"year\": 2000, \"fertility\": 1.9689999999999999}, {\"life_expect\": 79.696, \"pop\": 5842454, \"country\": \"Israel\", \"cluster\": 5, \"year\": 2000, \"fertility\": 2.906}, {\"life_expect\": 80.24, \"pop\": 57719337, \"country\": \"Italy\", \"cluster\": 1, \"year\": 2000, \"fertility\": 1.286}, {\"life_expect\": 72.047, \"pop\": 2615467, \"country\": \"Jamaica\", \"cluster\": 3, \"year\": 2000, \"fertility\": 2.628}, {\"life_expect\": 82.0, \"pop\": 126699784, \"country\": \"Japan\", \"cluster\": 4, \"year\": 2000, \"fertility\": 1.291}, {\"life_expect\": 50.992, \"pop\": 29985839, \"country\": \"Kenya\", \"cluster\": 2, \"year\": 2000, \"fertility\": 5.0}, {\"life_expect\": 66.662, \"pop\": 21647682, \"country\": \"South Korea\", \"cluster\": 4, \"year\": 2000, \"fertility\": 1.9173}, {\"life_expect\": 77.045, \"pop\": 47351083, \"country\": \"North Korea\", \"cluster\": 4, \"year\": 2000, \"fertility\": 1.242}, {\"life_expect\": 71.028, \"pop\": 3578036, \"country\": \"Lebanon\", \"cluster\": 5, \"year\": 2000, \"fertility\": 2.319}, {\"life_expect\": 74.902, \"pop\": 99926620, \"country\": \"Mexico\", \"cluster\": 3, \"year\": 2000, \"fertility\": 2.4005}, {\"life_expect\": 78.53, \"pop\": 15907853, \"country\": \"Netherlands\", \"cluster\": 1, \"year\": 2000, \"fertility\": 1.726}, {\"life_expect\": 79.11, \"pop\": 3819762, \"country\": \"New Zealand\", \"cluster\": 4, \"year\": 2000, \"fertility\": 1.964}, {\"life_expect\": 46.608, \"pop\": 114306700, \"country\": \"Nigeria\", \"cluster\": 2, \"year\": 2000, \"fertility\": 5.845}, {\"life_expect\": 79.05, \"pop\": 4492400, \"country\": \"Norway\", \"cluster\": 1, \"year\": 2000, \"fertility\": 1.8010000000000002}, {\"life_expect\": 63.61, \"pop\": 146342958, \"country\": \"Pakistan\", \"cluster\": 0, \"year\": 2000, \"fertility\": 3.9936}, {\"life_expect\": 69.906, \"pop\": 25979722, \"country\": \"Peru\", \"cluster\": 3, \"year\": 2000, \"fertility\": 2.7005}, {\"life_expect\": 70.303, \"pop\": 79739825, \"country\": \"Philippines\", \"cluster\": 4, \"year\": 2000, \"fertility\": 3.5436}, {\"life_expect\": 74.67, \"pop\": 38654164, \"country\": \"Poland\", \"cluster\": 1, \"year\": 2000, \"fertility\": 1.251}, {\"life_expect\": 77.29, \"pop\": 10335597, \"country\": \"Portugal\", \"cluster\": 1, \"year\": 2000, \"fertility\": 1.454}, {\"life_expect\": 43.413, \"pop\": 7507056, \"country\": \"Rwanda\", \"cluster\": 2, \"year\": 2000, \"fertility\": 6.01}, {\"life_expect\": 71.626, \"pop\": 23153090, \"country\": \"Saudi Arabia\", \"cluster\": 5, \"year\": 2000, \"fertility\": 3.81}, {\"life_expect\": 53.365, \"pop\": 44066197, \"country\": \"South Africa\", \"cluster\": 2, \"year\": 2000, \"fertility\": 2.802}, {\"life_expect\": 79.78, \"pop\": 40016081, \"country\": \"Spain\", \"cluster\": 1, \"year\": 2000, \"fertility\": 1.287}, {\"life_expect\": 80.62, \"pop\": 7266920, \"country\": \"Switzerland\", \"cluster\": 1, \"year\": 2000, \"fertility\": 1.415}, {\"life_expect\": 70.845, \"pop\": 65666677, \"country\": \"Turkey\", \"cluster\": 1, \"year\": 2000, \"fertility\": 2.23}, {\"life_expect\": 78.471, \"pop\": 59522468, \"country\": \"United Kingdom\", \"cluster\": 1, \"year\": 2000, \"fertility\": 1.695}, {\"life_expect\": 77.31, \"pop\": 282338631, \"country\": \"United States\", \"cluster\": 3, \"year\": 2000, \"fertility\": 2.038}, {\"life_expect\": 72.766, \"pop\": 23542649, \"country\": \"Venezuela\", \"cluster\": 3, \"year\": 2000, \"fertility\": 2.723}]}, \"config\": {\"view\": {\"width\": 400, \"height\": 300}}, \"mark\": \"point\"};\n",
              "      var embedOpt = {\"mode\": \"vega-lite\"};\n",
              "\n",
              "      function showError(el, error){\n",
              "          el.innerHTML = ('<div class=\"error\" style=\"color:red;\">'\n",
              "                          + '<p>JavaScript Error: ' + error.message + '</p>'\n",
              "                          + \"<p>This usually means there's a typo in your chart specification. \"\n",
              "                          + \"See the javascript console for the full traceback.</p>\"\n",
              "                          + '</div>');\n",
              "          throw error;\n",
              "      }\n",
              "      const el = document.getElementById('altair-viz');\n",
              "      vegaEmbed(\"#altair-viz\", spec, embedOpt)\n",
              "        .catch(error => showError(el, error));\n",
              "\n",
              "  </script>\n",
              "</body>\n",
              "</html>"
            ]
          },
          "metadata": {
            "tags": []
          },
          "execution_count": 9
        }
      ]
    },
    {
      "metadata": {
        "id": "Gudr0jvVcgAi",
        "colab_type": "text"
      },
      "cell_type": "markdown",
      "source": [
        "Here the rendering consists of one point per row in the dataset, all plotted on top of each other, since we have not yet specified positions for these points.\n",
        "\n",
        "To visually separate the points, we can map various *encoding channels*, or *channels* for short, to fields in the dataset. For example, we could *encode* the field `fertility` of the data with the `x` channel, which represents the x-axis position of the points. To specify this, use the `Chart.encode` method:"
      ]
    },
    {
      "metadata": {
        "id": "lEWZ7mWTcrik",
        "colab_type": "code",
        "outputId": "1a5fec80-ae41-405c-dc4c-ff96a78920e4",
        "colab": {
          "base_uri": "https://localhost:8080/",
          "height": 87
        }
      },
      "cell_type": "code",
      "source": [
        "alt.Chart(data2000).mark_point().encode(\n",
        "  x='fertility',\n",
        ")"
      ],
      "execution_count": 0,
      "outputs": [
        {
          "output_type": "execute_result",
          "data": {
            "text/plain": [
              "Chart({\n",
              "  data:      cluster             country  fertility  life_expect         pop  year\n",
              "  9          0         Afghanistan     7.4792       42.129    23898198  2000\n",
              "  20         3           Argentina     2.3500       74.340    37497728  2000\n",
              "  31         3               Aruba     2.1240       73.451       69539  2000\n",
              "  42         4           Australia     1.7560       80.370    19164620  2000\n",
              "  53         1             Austria     1.3820       78.980     8113413  2000\n",
              "  64         3             Bahamas     2.1111       71.068      290075  2000\n",
              "  75         0          Bangladesh     3.2240       62.013   130406594  2000\n",
              "  86         3            Barbados     1.5000       75.970      273483  2000\n",
              "  97         1             Belgium     1.6380       78.320    10263618  2000\n",
              "  108        3             Bolivia     3.9585       63.883     8152620  2000\n",
              "  119        3              Brazil     2.3450       71.006   175552771  2000\n",
              "  130        3              Canada     1.5220       79.770    31278097  2000\n",
              "  141        3               Chile     2.0000       77.860    15153450  2000\n",
              "  152        4               China     1.7000       72.028  1262645000  2000\n",
              "  163        3            Colombia     2.4705       71.682    39685655  2000\n",
              "  174        3          Costa Rica     2.2815       78.123     3710558  2000\n",
              "  185        1             Croatia     1.3480       74.876     4410830  2000\n",
              "  196        3                Cuba     1.6300       77.158    11134273  2000\n",
              "  207        3  Dominican Republic     2.9500       70.847     8385828  2000\n",
              "  218        3             Ecuador     2.8175       74.173    12505204  2000\n",
              "  229        5               Egypt     3.1740       69.806    70492342  2000\n",
              "  240        3         El Salvador     2.8830       70.734     6122515  2000\n",
              "  251        1             Finland     1.7540       78.370     5168595  2000\n",
              "  262        1              France     1.8833       79.590    59381628  2000\n",
              "  273        1             Georgia     1.4780       70.476     4777209  2000\n",
              "  284        1             Germany     1.3460       78.670    82187909  2000\n",
              "  295        1              Greece     1.2770       78.256    10559110  2000\n",
              "  306        3             Grenada     2.4290       67.746       89312  2000\n",
              "  317        3               Haiti     4.0000       58.137     7306302  2000\n",
              "  328        4           Hong Kong     0.9400       81.495     6658720  2000\n",
              "  ..       ...                 ...        ...          ...         ...   ...\n",
              "  372        5                Iran     2.1240       69.451    65660289  2000\n",
              "  383        5                Iraq     4.8580       57.046    22675617  2000\n",
              "  394        1             Ireland     1.9690       77.783     3791690  2000\n",
              "  405        5              Israel     2.9060       79.696     5842454  2000\n",
              "  416        1               Italy     1.2860       80.240    57719337  2000\n",
              "  427        3             Jamaica     2.6280       72.047     2615467  2000\n",
              "  438        4               Japan     1.2910       82.000   126699784  2000\n",
              "  449        2               Kenya     5.0000       50.992    29985839  2000\n",
              "  460        4         South Korea     1.9173       66.662    21647682  2000\n",
              "  471        4         North Korea     1.2420       77.045    47351083  2000\n",
              "  482        5             Lebanon     2.3190       71.028     3578036  2000\n",
              "  493        3              Mexico     2.4005       74.902    99926620  2000\n",
              "  504        1         Netherlands     1.7260       78.530    15907853  2000\n",
              "  515        4         New Zealand     1.9640       79.110     3819762  2000\n",
              "  526        2             Nigeria     5.8450       46.608   114306700  2000\n",
              "  537        1              Norway     1.8010       79.050     4492400  2000\n",
              "  548        0            Pakistan     3.9936       63.610   146342958  2000\n",
              "  559        3                Peru     2.7005       69.906    25979722  2000\n",
              "  570        4         Philippines     3.5436       70.303    79739825  2000\n",
              "  581        1              Poland     1.2510       74.670    38654164  2000\n",
              "  592        1            Portugal     1.4540       77.290    10335597  2000\n",
              "  603        2              Rwanda     6.0100       43.413     7507056  2000\n",
              "  614        5        Saudi Arabia     3.8100       71.626    23153090  2000\n",
              "  625        2        South Africa     2.8020       53.365    44066197  2000\n",
              "  636        1               Spain     1.2870       79.780    40016081  2000\n",
              "  647        1         Switzerland     1.4150       80.620     7266920  2000\n",
              "  658        1              Turkey     2.2300       70.845    65666677  2000\n",
              "  669        1      United Kingdom     1.6950       78.471    59522468  2000\n",
              "  680        3       United States     2.0380       77.310   282338631  2000\n",
              "  691        3           Venezuela     2.7230       72.766    23542649  2000\n",
              "  \n",
              "  [63 rows x 6 columns],\n",
              "  encoding: EncodingWithFacet({\n",
              "    x: X({\n",
              "      shorthand: 'fertility'\n",
              "    })\n",
              "  }),\n",
              "  mark: 'point'\n",
              "})"
            ],
            "text/html": [
              "<!DOCTYPE html>\n",
              "<html>\n",
              "<head>\n",
              "  <style>\n",
              "    .vega-actions a {\n",
              "        margin-right: 12px;\n",
              "        color: #757575;\n",
              "        font-weight: normal;\n",
              "        font-size: 13px;\n",
              "    }\n",
              "    .error {\n",
              "        color: red;\n",
              "    }\n",
              "  </style>\n",
              "  <script type=\"text/javascript\" src=\"https://cdn.jsdelivr.net/npm//vega@4\"></script>\n",
              "  <script type=\"text/javascript\" src=\"https://cdn.jsdelivr.net/npm//vega-lite@2.6.0\"></script>\n",
              "  <script type=\"text/javascript\" src=\"https://cdn.jsdelivr.net/npm//vega-embed@3\"></script>\n",
              "</head>\n",
              "<body>\n",
              "  <div id=\"altair-viz\"></div>\n",
              "  <script>\n",
              "      var spec = {\"datasets\": {\"data-fdeb0b749a6385830bd1445d39ad6ea0\": [{\"life_expect\": 42.129, \"pop\": 23898198, \"country\": \"Afghanistan\", \"cluster\": 0, \"year\": 2000, \"fertility\": 7.4792}, {\"life_expect\": 74.34, \"pop\": 37497728, \"country\": \"Argentina\", \"cluster\": 3, \"year\": 2000, \"fertility\": 2.35}, {\"life_expect\": 73.451, \"pop\": 69539, \"country\": \"Aruba\", \"cluster\": 3, \"year\": 2000, \"fertility\": 2.124}, {\"life_expect\": 80.37, \"pop\": 19164620, \"country\": \"Australia\", \"cluster\": 4, \"year\": 2000, \"fertility\": 1.756}, {\"life_expect\": 78.98, \"pop\": 8113413, \"country\": \"Austria\", \"cluster\": 1, \"year\": 2000, \"fertility\": 1.3820000000000001}, {\"life_expect\": 71.068, \"pop\": 290075, \"country\": \"Bahamas\", \"cluster\": 3, \"year\": 2000, \"fertility\": 2.1111}, {\"life_expect\": 62.013, \"pop\": 130406594, \"country\": \"Bangladesh\", \"cluster\": 0, \"year\": 2000, \"fertility\": 3.224}, {\"life_expect\": 75.97, \"pop\": 273483, \"country\": \"Barbados\", \"cluster\": 3, \"year\": 2000, \"fertility\": 1.5}, {\"life_expect\": 78.32, \"pop\": 10263618, \"country\": \"Belgium\", \"cluster\": 1, \"year\": 2000, \"fertility\": 1.638}, {\"life_expect\": 63.883, \"pop\": 8152620, \"country\": \"Bolivia\", \"cluster\": 3, \"year\": 2000, \"fertility\": 3.9585}, {\"life_expect\": 71.006, \"pop\": 175552771, \"country\": \"Brazil\", \"cluster\": 3, \"year\": 2000, \"fertility\": 2.345}, {\"life_expect\": 79.77, \"pop\": 31278097, \"country\": \"Canada\", \"cluster\": 3, \"year\": 2000, \"fertility\": 1.522}, {\"life_expect\": 77.86, \"pop\": 15153450, \"country\": \"Chile\", \"cluster\": 3, \"year\": 2000, \"fertility\": 2.0}, {\"life_expect\": 72.028, \"pop\": 1262645000, \"country\": \"China\", \"cluster\": 4, \"year\": 2000, \"fertility\": 1.7000000000000002}, {\"life_expect\": 71.682, \"pop\": 39685655, \"country\": \"Colombia\", \"cluster\": 3, \"year\": 2000, \"fertility\": 2.4705}, {\"life_expect\": 78.123, \"pop\": 3710558, \"country\": \"Costa Rica\", \"cluster\": 3, \"year\": 2000, \"fertility\": 2.2815}, {\"life_expect\": 74.876, \"pop\": 4410830, \"country\": \"Croatia\", \"cluster\": 1, \"year\": 2000, \"fertility\": 1.348}, {\"life_expect\": 77.158, \"pop\": 11134273, \"country\": \"Cuba\", \"cluster\": 3, \"year\": 2000, \"fertility\": 1.63}, {\"life_expect\": 70.847, \"pop\": 8385828, \"country\": \"Dominican Republic\", \"cluster\": 3, \"year\": 2000, \"fertility\": 2.95}, {\"life_expect\": 74.173, \"pop\": 12505204, \"country\": \"Ecuador\", \"cluster\": 3, \"year\": 2000, \"fertility\": 2.8175}, {\"life_expect\": 69.806, \"pop\": 70492342, \"country\": \"Egypt\", \"cluster\": 5, \"year\": 2000, \"fertility\": 3.174}, {\"life_expect\": 70.734, \"pop\": 6122515, \"country\": \"El Salvador\", \"cluster\": 3, \"year\": 2000, \"fertility\": 2.883}, {\"life_expect\": 78.37, \"pop\": 5168595, \"country\": \"Finland\", \"cluster\": 1, \"year\": 2000, \"fertility\": 1.754}, {\"life_expect\": 79.59, \"pop\": 59381628, \"country\": \"France\", \"cluster\": 1, \"year\": 2000, \"fertility\": 1.8833000000000002}, {\"life_expect\": 70.476, \"pop\": 4777209, \"country\": \"Georgia\", \"cluster\": 1, \"year\": 2000, \"fertility\": 1.478}, {\"life_expect\": 78.67, \"pop\": 82187909, \"country\": \"Germany\", \"cluster\": 1, \"year\": 2000, \"fertility\": 1.346}, {\"life_expect\": 78.256, \"pop\": 10559110, \"country\": \"Greece\", \"cluster\": 1, \"year\": 2000, \"fertility\": 1.2770000000000001}, {\"life_expect\": 67.746, \"pop\": 89312, \"country\": \"Grenada\", \"cluster\": 3, \"year\": 2000, \"fertility\": 2.429}, {\"life_expect\": 58.137, \"pop\": 7306302, \"country\": \"Haiti\", \"cluster\": 3, \"year\": 2000, \"fertility\": 4.0}, {\"life_expect\": 81.495, \"pop\": 6658720, \"country\": \"Hong Kong\", \"cluster\": 4, \"year\": 2000, \"fertility\": 0.9400000000000001}, {\"life_expect\": 80.5, \"pop\": 281043, \"country\": \"Iceland\", \"cluster\": 1, \"year\": 2000, \"fertility\": 1.9929999999999999}, {\"life_expect\": 62.879, \"pop\": 1007702000, \"country\": \"India\", \"cluster\": 0, \"year\": 2000, \"fertility\": 3.1132}, {\"life_expect\": 68.588, \"pop\": 206265000, \"country\": \"Indonesia\", \"cluster\": 4, \"year\": 2000, \"fertility\": 2.3761}, {\"life_expect\": 69.451, \"pop\": 65660289, \"country\": \"Iran\", \"cluster\": 5, \"year\": 2000, \"fertility\": 2.124}, {\"life_expect\": 57.046, \"pop\": 22675617, \"country\": \"Iraq\", \"cluster\": 5, \"year\": 2000, \"fertility\": 4.858}, {\"life_expect\": 77.783, \"pop\": 3791690, \"country\": \"Ireland\", \"cluster\": 1, \"year\": 2000, \"fertility\": 1.9689999999999999}, {\"life_expect\": 79.696, \"pop\": 5842454, \"country\": \"Israel\", \"cluster\": 5, \"year\": 2000, \"fertility\": 2.906}, {\"life_expect\": 80.24, \"pop\": 57719337, \"country\": \"Italy\", \"cluster\": 1, \"year\": 2000, \"fertility\": 1.286}, {\"life_expect\": 72.047, \"pop\": 2615467, \"country\": \"Jamaica\", \"cluster\": 3, \"year\": 2000, \"fertility\": 2.628}, {\"life_expect\": 82.0, \"pop\": 126699784, \"country\": \"Japan\", \"cluster\": 4, \"year\": 2000, \"fertility\": 1.291}, {\"life_expect\": 50.992, \"pop\": 29985839, \"country\": \"Kenya\", \"cluster\": 2, \"year\": 2000, \"fertility\": 5.0}, {\"life_expect\": 66.662, \"pop\": 21647682, \"country\": \"South Korea\", \"cluster\": 4, \"year\": 2000, \"fertility\": 1.9173}, {\"life_expect\": 77.045, \"pop\": 47351083, \"country\": \"North Korea\", \"cluster\": 4, \"year\": 2000, \"fertility\": 1.242}, {\"life_expect\": 71.028, \"pop\": 3578036, \"country\": \"Lebanon\", \"cluster\": 5, \"year\": 2000, \"fertility\": 2.319}, {\"life_expect\": 74.902, \"pop\": 99926620, \"country\": \"Mexico\", \"cluster\": 3, \"year\": 2000, \"fertility\": 2.4005}, {\"life_expect\": 78.53, \"pop\": 15907853, \"country\": \"Netherlands\", \"cluster\": 1, \"year\": 2000, \"fertility\": 1.726}, {\"life_expect\": 79.11, \"pop\": 3819762, \"country\": \"New Zealand\", \"cluster\": 4, \"year\": 2000, \"fertility\": 1.964}, {\"life_expect\": 46.608, \"pop\": 114306700, \"country\": \"Nigeria\", \"cluster\": 2, \"year\": 2000, \"fertility\": 5.845}, {\"life_expect\": 79.05, \"pop\": 4492400, \"country\": \"Norway\", \"cluster\": 1, \"year\": 2000, \"fertility\": 1.8010000000000002}, {\"life_expect\": 63.61, \"pop\": 146342958, \"country\": \"Pakistan\", \"cluster\": 0, \"year\": 2000, \"fertility\": 3.9936}, {\"life_expect\": 69.906, \"pop\": 25979722, \"country\": \"Peru\", \"cluster\": 3, \"year\": 2000, \"fertility\": 2.7005}, {\"life_expect\": 70.303, \"pop\": 79739825, \"country\": \"Philippines\", \"cluster\": 4, \"year\": 2000, \"fertility\": 3.5436}, {\"life_expect\": 74.67, \"pop\": 38654164, \"country\": \"Poland\", \"cluster\": 1, \"year\": 2000, \"fertility\": 1.251}, {\"life_expect\": 77.29, \"pop\": 10335597, \"country\": \"Portugal\", \"cluster\": 1, \"year\": 2000, \"fertility\": 1.454}, {\"life_expect\": 43.413, \"pop\": 7507056, \"country\": \"Rwanda\", \"cluster\": 2, \"year\": 2000, \"fertility\": 6.01}, {\"life_expect\": 71.626, \"pop\": 23153090, \"country\": \"Saudi Arabia\", \"cluster\": 5, \"year\": 2000, \"fertility\": 3.81}, {\"life_expect\": 53.365, \"pop\": 44066197, \"country\": \"South Africa\", \"cluster\": 2, \"year\": 2000, \"fertility\": 2.802}, {\"life_expect\": 79.78, \"pop\": 40016081, \"country\": \"Spain\", \"cluster\": 1, \"year\": 2000, \"fertility\": 1.287}, {\"life_expect\": 80.62, \"pop\": 7266920, \"country\": \"Switzerland\", \"cluster\": 1, \"year\": 2000, \"fertility\": 1.415}, {\"life_expect\": 70.845, \"pop\": 65666677, \"country\": \"Turkey\", \"cluster\": 1, \"year\": 2000, \"fertility\": 2.23}, {\"life_expect\": 78.471, \"pop\": 59522468, \"country\": \"United Kingdom\", \"cluster\": 1, \"year\": 2000, \"fertility\": 1.695}, {\"life_expect\": 77.31, \"pop\": 282338631, \"country\": \"United States\", \"cluster\": 3, \"year\": 2000, \"fertility\": 2.038}, {\"life_expect\": 72.766, \"pop\": 23542649, \"country\": \"Venezuela\", \"cluster\": 3, \"year\": 2000, \"fertility\": 2.723}]}, \"encoding\": {\"x\": {\"field\": \"fertility\", \"type\": \"quantitative\"}}, \"config\": {\"view\": {\"width\": 400, \"height\": 300}}, \"mark\": \"point\", \"$schema\": \"https://vega.github.io/schema/vega-lite/v2.6.0.json\", \"data\": {\"name\": \"data-fdeb0b749a6385830bd1445d39ad6ea0\"}};\n",
              "      var embedOpt = {\"mode\": \"vega-lite\"};\n",
              "\n",
              "      function showError(el, error){\n",
              "          el.innerHTML = ('<div class=\"error\" style=\"color:red;\">'\n",
              "                          + '<p>JavaScript Error: ' + error.message + '</p>'\n",
              "                          + \"<p>This usually means there's a typo in your chart specification. \"\n",
              "                          + \"See the javascript console for the full traceback.</p>\"\n",
              "                          + '</div>');\n",
              "          throw error;\n",
              "      }\n",
              "      const el = document.getElementById('altair-viz');\n",
              "      vegaEmbed(\"#altair-viz\", spec, embedOpt)\n",
              "        .catch(error => showError(el, error));\n",
              "\n",
              "  </script>\n",
              "</body>\n",
              "</html>"
            ]
          },
          "metadata": {
            "tags": []
          },
          "execution_count": 13
        }
      ]
    },
    {
      "metadata": {
        "id": "wbHHAt-8czdt",
        "colab_type": "text"
      },
      "cell_type": "markdown",
      "source": [
        "The `encode()` method builds a key-value mapping between encoding channels (such as `x`, `y`, `color`, `shape`, `size`, *etc.*) to fields in the dataset, accessed by field name. \n",
        "\n",
        "For Pandas data frames, Altair automatically determines an appropriate data type for the mapped column. In this case, Altair uses the *quantitative* type for numerical values. \n",
        "\n",
        "But, we can also explicitly annotate data types -- necessary when we don't use Pandas, or when we want to override the default inference (e.g., treating numeric data as nominal).\n",
        "\n",
        "For instance, here we've encoded the `cluster` field on the `y` channel. Though it is numeric data, we want to treat clusters as discrete values and so annotate it as an ordinal (`O`) data type. \n",
        "\n",
        "**What would have happened if we didn't include this annotation?** Try it out in the cell below!"
      ]
    },
    {
      "metadata": {
        "id": "gVbE3h7zdDsL",
        "colab_type": "code",
        "outputId": "6b4c0746-4840-439e-8636-f091f48e0254",
        "colab": {
          "base_uri": "https://localhost:8080/",
          "height": 192
        }
      },
      "cell_type": "code",
      "source": [
        "alt.Chart(data2000).mark_point().encode(\n",
        "    x='fertility',\n",
        "    y='cluster:O'\n",
        ")"
      ],
      "execution_count": 0,
      "outputs": [
        {
          "output_type": "execute_result",
          "data": {
            "text/plain": [
              "Chart({\n",
              "  data:      cluster             country  fertility  life_expect         pop  year\n",
              "  9          0         Afghanistan     7.4792       42.129    23898198  2000\n",
              "  20         3           Argentina     2.3500       74.340    37497728  2000\n",
              "  31         3               Aruba     2.1240       73.451       69539  2000\n",
              "  42         4           Australia     1.7560       80.370    19164620  2000\n",
              "  53         1             Austria     1.3820       78.980     8113413  2000\n",
              "  64         3             Bahamas     2.1111       71.068      290075  2000\n",
              "  75         0          Bangladesh     3.2240       62.013   130406594  2000\n",
              "  86         3            Barbados     1.5000       75.970      273483  2000\n",
              "  97         1             Belgium     1.6380       78.320    10263618  2000\n",
              "  108        3             Bolivia     3.9585       63.883     8152620  2000\n",
              "  119        3              Brazil     2.3450       71.006   175552771  2000\n",
              "  130        3              Canada     1.5220       79.770    31278097  2000\n",
              "  141        3               Chile     2.0000       77.860    15153450  2000\n",
              "  152        4               China     1.7000       72.028  1262645000  2000\n",
              "  163        3            Colombia     2.4705       71.682    39685655  2000\n",
              "  174        3          Costa Rica     2.2815       78.123     3710558  2000\n",
              "  185        1             Croatia     1.3480       74.876     4410830  2000\n",
              "  196        3                Cuba     1.6300       77.158    11134273  2000\n",
              "  207        3  Dominican Republic     2.9500       70.847     8385828  2000\n",
              "  218        3             Ecuador     2.8175       74.173    12505204  2000\n",
              "  229        5               Egypt     3.1740       69.806    70492342  2000\n",
              "  240        3         El Salvador     2.8830       70.734     6122515  2000\n",
              "  251        1             Finland     1.7540       78.370     5168595  2000\n",
              "  262        1              France     1.8833       79.590    59381628  2000\n",
              "  273        1             Georgia     1.4780       70.476     4777209  2000\n",
              "  284        1             Germany     1.3460       78.670    82187909  2000\n",
              "  295        1              Greece     1.2770       78.256    10559110  2000\n",
              "  306        3             Grenada     2.4290       67.746       89312  2000\n",
              "  317        3               Haiti     4.0000       58.137     7306302  2000\n",
              "  328        4           Hong Kong     0.9400       81.495     6658720  2000\n",
              "  ..       ...                 ...        ...          ...         ...   ...\n",
              "  372        5                Iran     2.1240       69.451    65660289  2000\n",
              "  383        5                Iraq     4.8580       57.046    22675617  2000\n",
              "  394        1             Ireland     1.9690       77.783     3791690  2000\n",
              "  405        5              Israel     2.9060       79.696     5842454  2000\n",
              "  416        1               Italy     1.2860       80.240    57719337  2000\n",
              "  427        3             Jamaica     2.6280       72.047     2615467  2000\n",
              "  438        4               Japan     1.2910       82.000   126699784  2000\n",
              "  449        2               Kenya     5.0000       50.992    29985839  2000\n",
              "  460        4         South Korea     1.9173       66.662    21647682  2000\n",
              "  471        4         North Korea     1.2420       77.045    47351083  2000\n",
              "  482        5             Lebanon     2.3190       71.028     3578036  2000\n",
              "  493        3              Mexico     2.4005       74.902    99926620  2000\n",
              "  504        1         Netherlands     1.7260       78.530    15907853  2000\n",
              "  515        4         New Zealand     1.9640       79.110     3819762  2000\n",
              "  526        2             Nigeria     5.8450       46.608   114306700  2000\n",
              "  537        1              Norway     1.8010       79.050     4492400  2000\n",
              "  548        0            Pakistan     3.9936       63.610   146342958  2000\n",
              "  559        3                Peru     2.7005       69.906    25979722  2000\n",
              "  570        4         Philippines     3.5436       70.303    79739825  2000\n",
              "  581        1              Poland     1.2510       74.670    38654164  2000\n",
              "  592        1            Portugal     1.4540       77.290    10335597  2000\n",
              "  603        2              Rwanda     6.0100       43.413     7507056  2000\n",
              "  614        5        Saudi Arabia     3.8100       71.626    23153090  2000\n",
              "  625        2        South Africa     2.8020       53.365    44066197  2000\n",
              "  636        1               Spain     1.2870       79.780    40016081  2000\n",
              "  647        1         Switzerland     1.4150       80.620     7266920  2000\n",
              "  658        1              Turkey     2.2300       70.845    65666677  2000\n",
              "  669        1      United Kingdom     1.6950       78.471    59522468  2000\n",
              "  680        3       United States     2.0380       77.310   282338631  2000\n",
              "  691        3           Venezuela     2.7230       72.766    23542649  2000\n",
              "  \n",
              "  [63 rows x 6 columns],\n",
              "  encoding: EncodingWithFacet({\n",
              "    x: X({\n",
              "      shorthand: 'fertility'\n",
              "    }),\n",
              "    y: Y({\n",
              "      shorthand: 'cluster:O'\n",
              "    })\n",
              "  }),\n",
              "  mark: 'point'\n",
              "})"
            ],
            "text/html": [
              "<!DOCTYPE html>\n",
              "<html>\n",
              "<head>\n",
              "  <style>\n",
              "    .vega-actions a {\n",
              "        margin-right: 12px;\n",
              "        color: #757575;\n",
              "        font-weight: normal;\n",
              "        font-size: 13px;\n",
              "    }\n",
              "    .error {\n",
              "        color: red;\n",
              "    }\n",
              "  </style>\n",
              "  <script type=\"text/javascript\" src=\"https://cdn.jsdelivr.net/npm//vega@4\"></script>\n",
              "  <script type=\"text/javascript\" src=\"https://cdn.jsdelivr.net/npm//vega-lite@2.6.0\"></script>\n",
              "  <script type=\"text/javascript\" src=\"https://cdn.jsdelivr.net/npm//vega-embed@3\"></script>\n",
              "</head>\n",
              "<body>\n",
              "  <div id=\"altair-viz\"></div>\n",
              "  <script>\n",
              "      var spec = {\"datasets\": {\"data-fdeb0b749a6385830bd1445d39ad6ea0\": [{\"life_expect\": 42.129, \"pop\": 23898198, \"country\": \"Afghanistan\", \"cluster\": 0, \"year\": 2000, \"fertility\": 7.4792}, {\"life_expect\": 74.34, \"pop\": 37497728, \"country\": \"Argentina\", \"cluster\": 3, \"year\": 2000, \"fertility\": 2.35}, {\"life_expect\": 73.451, \"pop\": 69539, \"country\": \"Aruba\", \"cluster\": 3, \"year\": 2000, \"fertility\": 2.124}, {\"life_expect\": 80.37, \"pop\": 19164620, \"country\": \"Australia\", \"cluster\": 4, \"year\": 2000, \"fertility\": 1.756}, {\"life_expect\": 78.98, \"pop\": 8113413, \"country\": \"Austria\", \"cluster\": 1, \"year\": 2000, \"fertility\": 1.3820000000000001}, {\"life_expect\": 71.068, \"pop\": 290075, \"country\": \"Bahamas\", \"cluster\": 3, \"year\": 2000, \"fertility\": 2.1111}, {\"life_expect\": 62.013, \"pop\": 130406594, \"country\": \"Bangladesh\", \"cluster\": 0, \"year\": 2000, \"fertility\": 3.224}, {\"life_expect\": 75.97, \"pop\": 273483, \"country\": \"Barbados\", \"cluster\": 3, \"year\": 2000, \"fertility\": 1.5}, {\"life_expect\": 78.32, \"pop\": 10263618, \"country\": \"Belgium\", \"cluster\": 1, \"year\": 2000, \"fertility\": 1.638}, {\"life_expect\": 63.883, \"pop\": 8152620, \"country\": \"Bolivia\", \"cluster\": 3, \"year\": 2000, \"fertility\": 3.9585}, {\"life_expect\": 71.006, \"pop\": 175552771, \"country\": \"Brazil\", \"cluster\": 3, \"year\": 2000, \"fertility\": 2.345}, {\"life_expect\": 79.77, \"pop\": 31278097, \"country\": \"Canada\", \"cluster\": 3, \"year\": 2000, \"fertility\": 1.522}, {\"life_expect\": 77.86, \"pop\": 15153450, \"country\": \"Chile\", \"cluster\": 3, \"year\": 2000, \"fertility\": 2.0}, {\"life_expect\": 72.028, \"pop\": 1262645000, \"country\": \"China\", \"cluster\": 4, \"year\": 2000, \"fertility\": 1.7000000000000002}, {\"life_expect\": 71.682, \"pop\": 39685655, \"country\": \"Colombia\", \"cluster\": 3, \"year\": 2000, \"fertility\": 2.4705}, {\"life_expect\": 78.123, \"pop\": 3710558, \"country\": \"Costa Rica\", \"cluster\": 3, \"year\": 2000, \"fertility\": 2.2815}, {\"life_expect\": 74.876, \"pop\": 4410830, \"country\": \"Croatia\", \"cluster\": 1, \"year\": 2000, \"fertility\": 1.348}, {\"life_expect\": 77.158, \"pop\": 11134273, \"country\": \"Cuba\", \"cluster\": 3, \"year\": 2000, \"fertility\": 1.63}, {\"life_expect\": 70.847, \"pop\": 8385828, \"country\": \"Dominican Republic\", \"cluster\": 3, \"year\": 2000, \"fertility\": 2.95}, {\"life_expect\": 74.173, \"pop\": 12505204, \"country\": \"Ecuador\", \"cluster\": 3, \"year\": 2000, \"fertility\": 2.8175}, {\"life_expect\": 69.806, \"pop\": 70492342, \"country\": \"Egypt\", \"cluster\": 5, \"year\": 2000, \"fertility\": 3.174}, {\"life_expect\": 70.734, \"pop\": 6122515, \"country\": \"El Salvador\", \"cluster\": 3, \"year\": 2000, \"fertility\": 2.883}, {\"life_expect\": 78.37, \"pop\": 5168595, \"country\": \"Finland\", \"cluster\": 1, \"year\": 2000, \"fertility\": 1.754}, {\"life_expect\": 79.59, \"pop\": 59381628, \"country\": \"France\", \"cluster\": 1, \"year\": 2000, \"fertility\": 1.8833000000000002}, {\"life_expect\": 70.476, \"pop\": 4777209, \"country\": \"Georgia\", \"cluster\": 1, \"year\": 2000, \"fertility\": 1.478}, {\"life_expect\": 78.67, \"pop\": 82187909, \"country\": \"Germany\", \"cluster\": 1, \"year\": 2000, \"fertility\": 1.346}, {\"life_expect\": 78.256, \"pop\": 10559110, \"country\": \"Greece\", \"cluster\": 1, \"year\": 2000, \"fertility\": 1.2770000000000001}, {\"life_expect\": 67.746, \"pop\": 89312, \"country\": \"Grenada\", \"cluster\": 3, \"year\": 2000, \"fertility\": 2.429}, {\"life_expect\": 58.137, \"pop\": 7306302, \"country\": \"Haiti\", \"cluster\": 3, \"year\": 2000, \"fertility\": 4.0}, {\"life_expect\": 81.495, \"pop\": 6658720, \"country\": \"Hong Kong\", \"cluster\": 4, \"year\": 2000, \"fertility\": 0.9400000000000001}, {\"life_expect\": 80.5, \"pop\": 281043, \"country\": \"Iceland\", \"cluster\": 1, \"year\": 2000, \"fertility\": 1.9929999999999999}, {\"life_expect\": 62.879, \"pop\": 1007702000, \"country\": \"India\", \"cluster\": 0, \"year\": 2000, \"fertility\": 3.1132}, {\"life_expect\": 68.588, \"pop\": 206265000, \"country\": \"Indonesia\", \"cluster\": 4, \"year\": 2000, \"fertility\": 2.3761}, {\"life_expect\": 69.451, \"pop\": 65660289, \"country\": \"Iran\", \"cluster\": 5, \"year\": 2000, \"fertility\": 2.124}, {\"life_expect\": 57.046, \"pop\": 22675617, \"country\": \"Iraq\", \"cluster\": 5, \"year\": 2000, \"fertility\": 4.858}, {\"life_expect\": 77.783, \"pop\": 3791690, \"country\": \"Ireland\", \"cluster\": 1, \"year\": 2000, \"fertility\": 1.9689999999999999}, {\"life_expect\": 79.696, \"pop\": 5842454, \"country\": \"Israel\", \"cluster\": 5, \"year\": 2000, \"fertility\": 2.906}, {\"life_expect\": 80.24, \"pop\": 57719337, \"country\": \"Italy\", \"cluster\": 1, \"year\": 2000, \"fertility\": 1.286}, {\"life_expect\": 72.047, \"pop\": 2615467, \"country\": \"Jamaica\", \"cluster\": 3, \"year\": 2000, \"fertility\": 2.628}, {\"life_expect\": 82.0, \"pop\": 126699784, \"country\": \"Japan\", \"cluster\": 4, \"year\": 2000, \"fertility\": 1.291}, {\"life_expect\": 50.992, \"pop\": 29985839, \"country\": \"Kenya\", \"cluster\": 2, \"year\": 2000, \"fertility\": 5.0}, {\"life_expect\": 66.662, \"pop\": 21647682, \"country\": \"South Korea\", \"cluster\": 4, \"year\": 2000, \"fertility\": 1.9173}, {\"life_expect\": 77.045, \"pop\": 47351083, \"country\": \"North Korea\", \"cluster\": 4, \"year\": 2000, \"fertility\": 1.242}, {\"life_expect\": 71.028, \"pop\": 3578036, \"country\": \"Lebanon\", \"cluster\": 5, \"year\": 2000, \"fertility\": 2.319}, {\"life_expect\": 74.902, \"pop\": 99926620, \"country\": \"Mexico\", \"cluster\": 3, \"year\": 2000, \"fertility\": 2.4005}, {\"life_expect\": 78.53, \"pop\": 15907853, \"country\": \"Netherlands\", \"cluster\": 1, \"year\": 2000, \"fertility\": 1.726}, {\"life_expect\": 79.11, \"pop\": 3819762, \"country\": \"New Zealand\", \"cluster\": 4, \"year\": 2000, \"fertility\": 1.964}, {\"life_expect\": 46.608, \"pop\": 114306700, \"country\": \"Nigeria\", \"cluster\": 2, \"year\": 2000, \"fertility\": 5.845}, {\"life_expect\": 79.05, \"pop\": 4492400, \"country\": \"Norway\", \"cluster\": 1, \"year\": 2000, \"fertility\": 1.8010000000000002}, {\"life_expect\": 63.61, \"pop\": 146342958, \"country\": \"Pakistan\", \"cluster\": 0, \"year\": 2000, \"fertility\": 3.9936}, {\"life_expect\": 69.906, \"pop\": 25979722, \"country\": \"Peru\", \"cluster\": 3, \"year\": 2000, \"fertility\": 2.7005}, {\"life_expect\": 70.303, \"pop\": 79739825, \"country\": \"Philippines\", \"cluster\": 4, \"year\": 2000, \"fertility\": 3.5436}, {\"life_expect\": 74.67, \"pop\": 38654164, \"country\": \"Poland\", \"cluster\": 1, \"year\": 2000, \"fertility\": 1.251}, {\"life_expect\": 77.29, \"pop\": 10335597, \"country\": \"Portugal\", \"cluster\": 1, \"year\": 2000, \"fertility\": 1.454}, {\"life_expect\": 43.413, \"pop\": 7507056, \"country\": \"Rwanda\", \"cluster\": 2, \"year\": 2000, \"fertility\": 6.01}, {\"life_expect\": 71.626, \"pop\": 23153090, \"country\": \"Saudi Arabia\", \"cluster\": 5, \"year\": 2000, \"fertility\": 3.81}, {\"life_expect\": 53.365, \"pop\": 44066197, \"country\": \"South Africa\", \"cluster\": 2, \"year\": 2000, \"fertility\": 2.802}, {\"life_expect\": 79.78, \"pop\": 40016081, \"country\": \"Spain\", \"cluster\": 1, \"year\": 2000, \"fertility\": 1.287}, {\"life_expect\": 80.62, \"pop\": 7266920, \"country\": \"Switzerland\", \"cluster\": 1, \"year\": 2000, \"fertility\": 1.415}, {\"life_expect\": 70.845, \"pop\": 65666677, \"country\": \"Turkey\", \"cluster\": 1, \"year\": 2000, \"fertility\": 2.23}, {\"life_expect\": 78.471, \"pop\": 59522468, \"country\": \"United Kingdom\", \"cluster\": 1, \"year\": 2000, \"fertility\": 1.695}, {\"life_expect\": 77.31, \"pop\": 282338631, \"country\": \"United States\", \"cluster\": 3, \"year\": 2000, \"fertility\": 2.038}, {\"life_expect\": 72.766, \"pop\": 23542649, \"country\": \"Venezuela\", \"cluster\": 3, \"year\": 2000, \"fertility\": 2.723}]}, \"encoding\": {\"y\": {\"field\": \"cluster\", \"type\": \"ordinal\"}, \"x\": {\"field\": \"fertility\", \"type\": \"quantitative\"}}, \"config\": {\"view\": {\"width\": 400, \"height\": 300}}, \"mark\": \"point\", \"$schema\": \"https://vega.github.io/schema/vega-lite/v2.6.0.json\", \"data\": {\"name\": \"data-fdeb0b749a6385830bd1445d39ad6ea0\"}};\n",
              "      var embedOpt = {\"mode\": \"vega-lite\"};\n",
              "\n",
              "      function showError(el, error){\n",
              "          el.innerHTML = ('<div class=\"error\" style=\"color:red;\">'\n",
              "                          + '<p>JavaScript Error: ' + error.message + '</p>'\n",
              "                          + \"<p>This usually means there's a typo in your chart specification. \"\n",
              "                          + \"See the javascript console for the full traceback.</p>\"\n",
              "                          + '</div>');\n",
              "          throw error;\n",
              "      }\n",
              "      const el = document.getElementById('altair-viz');\n",
              "      vegaEmbed(\"#altair-viz\", spec, embedOpt)\n",
              "        .catch(error => showError(el, error));\n",
              "\n",
              "  </script>\n",
              "</body>\n",
              "</html>"
            ]
          },
          "metadata": {
            "tags": []
          },
          "execution_count": 5
        }
      ]
    },
    {
      "metadata": {
        "id": "Ya2UCgS7dSbS",
        "colab_type": "text"
      },
      "cell_type": "markdown",
      "source": [
        "## Activity: Practice Visual Encodings"
      ]
    },
    {
      "metadata": {
        "id": "_HhsZXzyd4Ba",
        "colab_type": "text"
      },
      "cell_type": "markdown",
      "source": [
        "For the following activities, you may find it useful to refer to Altair's documentation on [marks](https://altair-viz.github.io/user_guide/marks.html) and [visual encodings](https://altair-viz.github.io/user_guide/encoding.html)."
      ]
    },
    {
      "metadata": {
        "id": "vc3LGseSPMxM",
        "colab_type": "text"
      },
      "cell_type": "markdown",
      "source": [
        "### 1D or Univariate Visualizations\n",
        "\n",
        "Univariate visualizations are a useful first step to get a summary of your data values and understand their distribution.\n",
        "\n",
        "**Recreate the following visualization (called a \"strip plot\") of life expectancy in the year 2000.**\n",
        "\n",
        "![A strip plot of life expectancy in the year 2000](https://drive.google.com/uc?export=view&id=17i0ucQrcD5JrtmRPqEy3dl7vSboP0G_1)"
      ]
    },
    {
      "metadata": {
        "id": "c3oR4nuzP_Ri",
        "colab_type": "code",
        "colab": {}
      },
      "cell_type": "code",
      "source": [
        ""
      ],
      "execution_count": 0,
      "outputs": []
    },
    {
      "metadata": {
        "id": "PymSzMx4P_zb",
        "colab_type": "text"
      },
      "cell_type": "markdown",
      "source": [
        "Depending on the type of mark used, strip plots may also be known as dot plots. \n",
        "\n",
        "Histograms are another type of univariate visualizations, depiciting the number of data values that fall within discrete groups. \n",
        "\n",
        "**Recreate the following histogram showing the number of countries in each cluster in the year 2000.** _Hint_: A special `count()` function can be used instead of a field when specifying a visual encoding. \n",
        "\n",
        "![Cluster histogram](https://drive.google.com/uc?export=view&id=1Ds66sSGcvoZodJSpEvKd9aBTexurn_RB)\n",
        "\n"
      ]
    },
    {
      "metadata": {
        "id": "FsHY_INFEp7w",
        "colab_type": "code",
        "colab": {}
      },
      "cell_type": "code",
      "source": [
        ""
      ],
      "execution_count": 0,
      "outputs": []
    },
    {
      "metadata": {
        "id": "5o_RhHt2Eqay",
        "colab_type": "text"
      },
      "cell_type": "markdown",
      "source": [
        "We can also produce histograms of quantitative fields by discretizing the data into _bins_. \n",
        "\n",
        "_Note:_ To produce this histogram, we'll need to use the more verbose form of defining encodings (e.g., `alt.X()` instead of `x=`) which allows us to specifying [a binning strategy](https://altair-viz.github.io/user_guide/encoding.html#binning-and-aggregation).\n",
        "\n",
        "**Recreate the following binned histogram of life expectancy in the year 2000:**\n",
        "\n",
        "![Binned histogram of life expectancy](https://drive.google.com/uc?export=view&id=1dv1llnCxgR8opOAFooEUiLo0z_bRJBPh)"
      ]
    },
    {
      "metadata": {
        "id": "Y1yCizc2GQWA",
        "colab_type": "code",
        "colab": {}
      },
      "cell_type": "code",
      "source": [
        ""
      ],
      "execution_count": 0,
      "outputs": []
    },
    {
      "metadata": {
        "id": "e66Ee-8rGQsY",
        "colab_type": "text"
      },
      "cell_type": "markdown",
      "source": [
        "**Compare and contrast the two univariate summaries of life expectancy.**\n",
        "\n",
        "What are the strengths of the strip plot vs. the binned histogram and vice-versa?"
      ]
    },
    {
      "metadata": {
        "id": "NjUHFKWOGzxa",
        "colab_type": "text"
      },
      "cell_type": "markdown",
      "source": [
        ""
      ]
    },
    {
      "metadata": {
        "id": "BH5dNSvkG1LR",
        "colab_type": "text"
      },
      "cell_type": "markdown",
      "source": [
        "**Create 2 more univariate visualizations of the full dataset (`data`).** \n",
        "\n",
        "Experiment with a variety of mark types and encoding channels."
      ]
    },
    {
      "metadata": {
        "id": "BFxP_PBWHPb6",
        "colab_type": "code",
        "colab": {}
      },
      "cell_type": "code",
      "source": [
        ""
      ],
      "execution_count": 0,
      "outputs": []
    },
    {
      "metadata": {
        "id": "M_VrOcgbHPsp",
        "colab_type": "code",
        "colab": {}
      },
      "cell_type": "code",
      "source": [
        ""
      ],
      "execution_count": 0,
      "outputs": []
    },
    {
      "metadata": {
        "id": "H4YIOBpVT7eg",
        "colab_type": "text"
      },
      "cell_type": "markdown",
      "source": [
        "### 2D or Bivariate Visualizations\n",
        "\n",
        "While univariate visualizations help us understand one single variable at a time, bivariate (or 2D) visualizations can help us identify the relationship between two variables in our dataset.\n",
        "\n",
        "**Recreate the following bivariate visualizations (using the full dataset, `data`):**\n",
        "\n",
        "![A scatterplot of life expectancy against fertility](https://drive.google.com/uc?export=view&id=11AINUEhqdei4Uz19j9qaDtOOeUFfsWUV)"
      ]
    },
    {
      "metadata": {
        "id": "oIjMHqL3dKuL",
        "colab_type": "code",
        "colab": {}
      },
      "cell_type": "code",
      "source": [
        ""
      ],
      "execution_count": 0,
      "outputs": []
    },
    {
      "metadata": {
        "id": "Xserd46UdLCL",
        "colab_type": "text"
      },
      "cell_type": "markdown",
      "source": [
        "Bivariate visualizations do not have to only use the `x` and `y` encoding channels. For example, **recreate the following bivariate chart:**\n",
        "\n",
        "![A bubble chart of population against fertility](https://drive.google.com/uc?export=view&id=1Qmdix71Y6rzOxqTHcFlv0GJu3bmO7HiG)"
      ]
    },
    {
      "metadata": {
        "id": "S_zjoolYhN_8",
        "colab_type": "code",
        "colab": {}
      },
      "cell_type": "code",
      "source": [
        ""
      ],
      "execution_count": 0,
      "outputs": []
    },
    {
      "metadata": {
        "id": "nhsIr_ElqZn0",
        "colab_type": "text"
      },
      "cell_type": "markdown",
      "source": [
        "And we can also explore non-quantitative fields as part of bivariate visualizations. For instance, **recreate** China's fertility over the years:\n",
        "\n",
        "![A line chart of China's fertility](https://drive.google.com/uc?export=view&id=1UzX1glTA71N1lAQYdkJeN1X089y9V-Ku)\n",
        "\n"
      ]
    },
    {
      "metadata": {
        "id": "oDUjPFfxVohM",
        "colab_type": "code",
        "colab": {}
      },
      "cell_type": "code",
      "source": [
        ""
      ],
      "execution_count": 0,
      "outputs": []
    },
    {
      "metadata": {
        "id": "yZNP6uDehPEs",
        "colab_type": "text"
      },
      "cell_type": "markdown",
      "source": [
        "Similarly, **recreate the following dot plot of life expectancy over the years:**\n",
        "\n",
        "![A dot plot of year against life expectancy](https://drive.google.com/uc?export=view&id=1I42Ns11TCKGV_E_A1iWWvMESqlYb-Azj)"
      ]
    },
    {
      "metadata": {
        "id": "hPbnPyKirndQ",
        "colab_type": "code",
        "colab": {}
      },
      "cell_type": "code",
      "source": [
        ""
      ],
      "execution_count": 0,
      "outputs": []
    },
    {
      "metadata": {
        "id": "AYEcYCB4lMd9",
        "colab_type": "text"
      },
      "cell_type": "markdown",
      "source": [
        "And  **[layer](https://altair-viz.github.io/user_guide/compound_charts.html#layer-chart) a reference mean line**:\n",
        "\n",
        "![Dot plot of life expectancy over years with a reference mean line](https://drive.google.com/uc?export=view&id=1GiJ8mmjXBfTAKiSM4Z0t3KWbuXji8ent)\n",
        "\n"
      ]
    },
    {
      "metadata": {
        "id": "bdoYevxIlPnH",
        "colab_type": "code",
        "colab": {}
      },
      "cell_type": "code",
      "source": [
        ""
      ],
      "execution_count": 0,
      "outputs": []
    },
    {
      "metadata": {
        "id": "BWp8-8j1QpiL",
        "colab_type": "text"
      },
      "cell_type": "markdown",
      "source": [
        "We can also represent the above data distribution as a **two-dimensional histogram**:\n",
        "\n",
        "![2D histogram of year x life expectancy](https://drive.google.com/uc?export=view&id=1DE98kz8_5goPMGLsmHv2inIKztg2LPKt)"
      ]
    },
    {
      "metadata": {
        "id": "gh7YKEA7W8rM",
        "colab_type": "code",
        "colab": {}
      },
      "cell_type": "code",
      "source": [
        ""
      ],
      "execution_count": 0,
      "outputs": []
    },
    {
      "metadata": {
        "id": "Xs-juQU8W_xO",
        "colab_type": "text"
      },
      "cell_type": "markdown",
      "source": [
        "Or, alternatively, as a **heatmap**:\n",
        "\n",
        "![Heatmap of year x life expectancy](https://drive.google.com/uc?export=view&id=1LiabjR1aM6z8zVZ4z4KvmnALcGAAAZn0)"
      ]
    },
    {
      "metadata": {
        "id": "7nj_4qW5XWnq",
        "colab_type": "code",
        "colab": {}
      },
      "cell_type": "code",
      "source": [
        ""
      ],
      "execution_count": 0,
      "outputs": []
    },
    {
      "metadata": {
        "id": "_PWwG0wpXXuI",
        "colab_type": "text"
      },
      "cell_type": "markdown",
      "source": [
        "**Compare the *size* and *color*-based 2D histograms above. Which encoding do you think should be preferred? Why? In which plot can you more precisely compare the magnitude of individual values? In which plot can you more accurately see the overall density of values?**"
      ]
    },
    {
      "metadata": {
        "id": "JoQtpgJ5XaGL",
        "colab_type": "text"
      },
      "cell_type": "markdown",
      "source": [
        ""
      ]
    },
    {
      "metadata": {
        "id": "P4V-8-02-UvX",
        "colab_type": "text"
      },
      "cell_type": "markdown",
      "source": [
        "**Create 2 more bivariate visualizations, exploring a range of marks and encoding channels.**"
      ]
    },
    {
      "metadata": {
        "id": "hEDwEglg-ZGq",
        "colab_type": "code",
        "colab": {}
      },
      "cell_type": "code",
      "source": [
        ""
      ],
      "execution_count": 0,
      "outputs": []
    },
    {
      "metadata": {
        "id": "6ER9qihr-Zb9",
        "colab_type": "code",
        "colab": {}
      },
      "cell_type": "code",
      "source": [
        ""
      ],
      "execution_count": 0,
      "outputs": []
    },
    {
      "metadata": {
        "id": "NbejTYxv-dv-",
        "colab_type": "text"
      },
      "cell_type": "markdown",
      "source": [
        "### N-D or Multivariate Visualizations\n",
        "\n"
      ]
    },
    {
      "metadata": {
        "id": "ihUTCZb6QEhr",
        "colab_type": "text"
      },
      "cell_type": "markdown",
      "source": [
        "But, of course, we don't have to stop at two dimensions. \n",
        "\n",
        "**Recreate the following multi-line chart**. _Hint_: You might find the [`query`](https://pandas.pydata.org/pandas-docs/stable/reference/api/pandas.DataFrame.query.html) pandas function handy.\n",
        "\n",
        "![Multi-line chart of China, India, and the United States' fertility over the years](https://drive.google.com/uc?export=view&id=1V6WS1TN2LdfafLgNZSXCE0AAzVWqZpUT)"
      ]
    },
    {
      "metadata": {
        "id": "OmafQrxHQT_2",
        "colab_type": "code",
        "colab": {}
      },
      "cell_type": "code",
      "source": [
        ""
      ],
      "execution_count": 0,
      "outputs": []
    },
    {
      "metadata": {
        "id": "qVVV2SjwIX_j",
        "colab_type": "text"
      },
      "cell_type": "markdown",
      "source": [
        "Bubble charts are a popular means of visualizing 3+ dimensions. **Recreate the following bubble chart for the year 2000:**\n",
        "\n",
        "![Gapminder bubble chart](https://drive.google.com/uc?export=view&id=1koeBxLHMZ-VTErxK2ndTDtBnhrQmWa6m)"
      ]
    },
    {
      "metadata": {
        "id": "eR_uAfHrE7QB",
        "colab_type": "code",
        "colab": {}
      },
      "cell_type": "code",
      "source": [
        ""
      ],
      "execution_count": 0,
      "outputs": []
    },
    {
      "metadata": {
        "id": "q8hGJrfFxwlU",
        "colab_type": "text"
      },
      "cell_type": "markdown",
      "source": [
        "So far, we've focused on displaying all variables within a single plot. However, we quickly approach the limits of this strategy. For example, if we encode any more data in the bubble chart above (e.g., using opacity or shape), we begin to make it more difficult for readers to decode insights from the visualization\n",
        "\n",
        "For multi-dimensional data, a promising approach is a family of techniques called _small multiple displays_: using a series of charts that use the same (or similar) visual encodings such that they can be easily compared.\n",
        "\n",
        "One example of small multiples is the **Trellis plot**: the full dataset is partitioned by a nominal or ordinal variable, and each resulting subset of the data is displayed arrayed across [rows or columns](https://altair-viz.github.io/user_guide/encoding.html?highlight=facet#encoding-channels). These partitions are often called **[facets](https://altair-viz.github.io/user_guide/compound_charts.html#faceted-charts).**\n",
        "\n",
        "**Recreate the following Trellis plot**, reusing our bubble chart visualization and partitioning our data by `year`.\n",
        "\n",
        "![Trellis Bubble Chart](https://drive.google.com/uc?export=view&id=1uTAg17wsa2kLGyJNjfQ52_Dq9dDvEx5b)\n",
        "\n",
        "_Hint: You may find it useful to specify a `width` and `height` in your `Chart` constructor to facilitate comparisons across subviews._"
      ]
    },
    {
      "metadata": {
        "id": "4QO9pIB14DFm",
        "colab_type": "code",
        "colab": {}
      },
      "cell_type": "code",
      "source": [
        ""
      ],
      "execution_count": 0,
      "outputs": []
    },
    {
      "metadata": {
        "id": "_02SFiE64Dg_",
        "colab_type": "text"
      },
      "cell_type": "markdown",
      "source": [
        "Another example of a small multiples display is called the **Scatterplot Matrix or SPLOM.** Instead of partitioning our data into subsets, the SPLOM [repeats](https://altair-viz.github.io/user_guide/compound_charts.html#repeated-charts) the full dataset and visualizes pairs of variables at a time.  "
      ]
    },
    {
      "metadata": {
        "id": "Pt-6LYOLkv-U",
        "colab_type": "code",
        "outputId": "659b6119-06ff-40ef-81e4-706643bbc575",
        "colab": {
          "base_uri": "https://localhost:8080/",
          "height": 719
        }
      },
      "cell_type": "code",
      "source": [
        "alt.Chart(data, width=175, height=175).mark_point().encode(\n",
        "  alt.X(alt.repeat('column'), type='quantitative'),\n",
        "  alt.Y(alt.repeat('row'), type='quantitative')\n",
        ").repeat(\n",
        "  row=['life_expect', 'fertility', 'pop'],\n",
        "  column=['life_expect', 'fertility', 'pop']\n",
        ")"
      ],
      "execution_count": 0,
      "outputs": [
        {
          "output_type": "execute_result",
          "data": {
            "text/plain": [
              "RepeatChart({\n",
              "  repeat: Repeat({\n",
              "    column: ['life_expect', 'fertility', 'pop'],\n",
              "    row: ['life_expect', 'fertility', 'pop']\n",
              "  }),\n",
              "  spec: Chart({\n",
              "    data:      cluster         country  fertility  life_expect        pop  year\n",
              "    0          0     Afghanistan     7.7000       30.332    8891209  1955\n",
              "    1          0     Afghanistan     7.7000       31.997    9829450  1960\n",
              "    2          0     Afghanistan     7.7000       34.020   10997885  1965\n",
              "    3          0     Afghanistan     7.7000       36.088   12430623  1970\n",
              "    4          0     Afghanistan     7.7000       38.438   14132019  1975\n",
              "    5          0     Afghanistan     7.8000       39.854   15112149  1980\n",
              "    6          0     Afghanistan     7.9000       40.822   13796928  1985\n",
              "    7          0     Afghanistan     8.0000       41.674   14669339  1990\n",
              "    8          0     Afghanistan     8.0000       41.763   20881480  1995\n",
              "    9          0     Afghanistan     7.4792       42.129   23898198  2000\n",
              "    10         0     Afghanistan     7.0685       43.828   29928987  2005\n",
              "    11         3       Argentina     3.1265       64.399   18927821  1955\n",
              "    12         3       Argentina     3.0895       65.142   20616009  1960\n",
              "    13         3       Argentina     3.0490       65.634   22283100  1965\n",
              "    14         3       Argentina     3.1455       67.065   23962313  1970\n",
              "    15         3       Argentina     3.4400       68.481   26081880  1975\n",
              "    16         3       Argentina     3.1500       69.942   28369799  1980\n",
              "    17         3       Argentina     3.0530       70.774   30675059  1985\n",
              "    18         3       Argentina     2.9000       71.868   33022202  1990\n",
              "    19         3       Argentina     2.6300       73.275   35311049  1995\n",
              "    20         3       Argentina     2.3500       74.340   37497728  2000\n",
              "    21         3       Argentina     2.2540       75.320   39537943  2005\n",
              "    22         3           Aruba     5.1500       64.381      53865  1955\n",
              "    23         3           Aruba     4.3990       66.606      57203  1960\n",
              "    24         3           Aruba     3.3010       68.336      59020  1965\n",
              "    25         3           Aruba     2.6510       70.941      59039  1970\n",
              "    26         3           Aruba     2.4500       71.830      59390  1975\n",
              "    27         3           Aruba     2.3580       74.116      60266  1980\n",
              "    28         3           Aruba     2.3000       74.494      64129  1985\n",
              "    29         3           Aruba     2.2800       74.108      66653  1990\n",
              "    ..       ...             ...        ...          ...        ...   ...\n",
              "    663        1  United Kingdom     2.0400       72.010   55632000  1970\n",
              "    664        1  United Kingdom     1.7200       72.760   56215000  1975\n",
              "    665        1  United Kingdom     1.8000       74.040   56314000  1980\n",
              "    666        1  United Kingdom     1.8100       75.007   56620240  1985\n",
              "    667        1  United Kingdom     1.7800       76.420   57493307  1990\n",
              "    668        1  United Kingdom     1.7000       77.218   58426014  1995\n",
              "    669        1  United Kingdom     1.6950       78.471   59522468  2000\n",
              "    670        1  United Kingdom     1.8150       79.425   60441457  2005\n",
              "    671        3   United States     3.7060       69.490  165931000  1955\n",
              "    672        3   United States     3.3140       70.210  180671000  1960\n",
              "    673        3   United States     2.5450       70.760  194303000  1965\n",
              "    674        3   United States     2.0160       71.340  205052000  1970\n",
              "    675        3   United States     1.7880       73.380  215973000  1975\n",
              "    676        3   United States     1.8250       74.650  227726463  1980\n",
              "    677        3   United States     1.9240       75.020  238466283  1985\n",
              "    678        3   United States     2.0250       76.090  250131894  1990\n",
              "    679        3   United States     1.9940       76.810  266557091  1995\n",
              "    680        3   United States     2.0380       77.310  282338631  2000\n",
              "    681        3   United States     2.0540       78.242  295734134  2005\n",
              "    682        3       Venezuela     6.4585       57.907    6170497  1955\n",
              "    683        3       Venezuela     6.6570       60.770    7556483  1960\n",
              "    684        3       Venezuela     5.9045       63.479    9067735  1965\n",
              "    685        3       Venezuela     4.9410       65.712   10758017  1970\n",
              "    686        3       Venezuela     4.4685       67.456   12674987  1975\n",
              "    687        3       Venezuela     3.9570       68.557   14767890  1980\n",
              "    688        3       Venezuela     3.6485       70.190   16997509  1985\n",
              "    689        3       Venezuela     3.2500       71.150   19325222  1990\n",
              "    690        3       Venezuela     2.9415       72.146   21555902  1995\n",
              "    691        3       Venezuela     2.7230       72.766   23542649  2000\n",
              "    692        3       Venezuela     2.5470       73.747   25375281  2005\n",
              "    \n",
              "    [693 rows x 6 columns],\n",
              "    encoding: EncodingWithFacet({\n",
              "      x: X({\n",
              "        shorthand: RepeatRef({\n",
              "          repeat: 'column'\n",
              "        }),\n",
              "        type: 'quantitative'\n",
              "      }),\n",
              "      y: Y({\n",
              "        shorthand: RepeatRef({\n",
              "          repeat: 'row'\n",
              "        }),\n",
              "        type: 'quantitative'\n",
              "      })\n",
              "    }),\n",
              "    height: 175,\n",
              "    mark: 'point',\n",
              "    width: 175\n",
              "  })\n",
              "})"
            ],
            "text/html": [
              "<!DOCTYPE html>\n",
              "<html>\n",
              "<head>\n",
              "  <style>\n",
              "    .vega-actions a {\n",
              "        margin-right: 12px;\n",
              "        color: #757575;\n",
              "        font-weight: normal;\n",
              "        font-size: 13px;\n",
              "    }\n",
              "    .error {\n",
              "        color: red;\n",
              "    }\n",
              "  </style>\n",
              "  <script type=\"text/javascript\" src=\"https://cdn.jsdelivr.net/npm//vega@4\"></script>\n",
              "  <script type=\"text/javascript\" src=\"https://cdn.jsdelivr.net/npm//vega-lite@2.6.0\"></script>\n",
              "  <script type=\"text/javascript\" src=\"https://cdn.jsdelivr.net/npm//vega-embed@3\"></script>\n",
              "</head>\n",
              "<body>\n",
              "  <div id=\"altair-viz\"></div>\n",
              "  <script>\n",
              "      var spec = {\"datasets\": {\"data-89be1acdd14c7effd56f4dd0fabf92c3\": [{\"life_expect\": 30.332, \"pop\": 8891209, \"country\": \"Afghanistan\", \"cluster\": 0, \"year\": 1955, \"fertility\": 7.7}, {\"life_expect\": 31.997, \"pop\": 9829450, \"country\": \"Afghanistan\", \"cluster\": 0, \"year\": 1960, \"fertility\": 7.7}, {\"life_expect\": 34.02, \"pop\": 10997885, \"country\": \"Afghanistan\", \"cluster\": 0, \"year\": 1965, \"fertility\": 7.7}, {\"life_expect\": 36.088, \"pop\": 12430623, \"country\": \"Afghanistan\", \"cluster\": 0, \"year\": 1970, \"fertility\": 7.7}, {\"life_expect\": 38.438, \"pop\": 14132019, \"country\": \"Afghanistan\", \"cluster\": 0, \"year\": 1975, \"fertility\": 7.7}, {\"life_expect\": 39.854, \"pop\": 15112149, \"country\": \"Afghanistan\", \"cluster\": 0, \"year\": 1980, \"fertility\": 7.8}, {\"life_expect\": 40.822, \"pop\": 13796928, \"country\": \"Afghanistan\", \"cluster\": 0, \"year\": 1985, \"fertility\": 7.9}, {\"life_expect\": 41.674, \"pop\": 14669339, \"country\": \"Afghanistan\", \"cluster\": 0, \"year\": 1990, \"fertility\": 8.0}, {\"life_expect\": 41.763, \"pop\": 20881480, \"country\": \"Afghanistan\", \"cluster\": 0, \"year\": 1995, \"fertility\": 8.0}, {\"life_expect\": 42.129, \"pop\": 23898198, \"country\": \"Afghanistan\", \"cluster\": 0, \"year\": 2000, \"fertility\": 7.4792}, {\"life_expect\": 43.828, \"pop\": 29928987, \"country\": \"Afghanistan\", \"cluster\": 0, \"year\": 2005, \"fertility\": 7.0685}, {\"life_expect\": 64.399, \"pop\": 18927821, \"country\": \"Argentina\", \"cluster\": 3, \"year\": 1955, \"fertility\": 3.1265}, {\"life_expect\": 65.142, \"pop\": 20616009, \"country\": \"Argentina\", \"cluster\": 3, \"year\": 1960, \"fertility\": 3.0895}, {\"life_expect\": 65.634, \"pop\": 22283100, \"country\": \"Argentina\", \"cluster\": 3, \"year\": 1965, \"fertility\": 3.049}, {\"life_expect\": 67.065, \"pop\": 23962313, \"country\": \"Argentina\", \"cluster\": 3, \"year\": 1970, \"fertility\": 3.1455}, {\"life_expect\": 68.481, \"pop\": 26081880, \"country\": \"Argentina\", \"cluster\": 3, \"year\": 1975, \"fertility\": 3.44}, {\"life_expect\": 69.942, \"pop\": 28369799, \"country\": \"Argentina\", \"cluster\": 3, \"year\": 1980, \"fertility\": 3.15}, {\"life_expect\": 70.774, \"pop\": 30675059, \"country\": \"Argentina\", \"cluster\": 3, \"year\": 1985, \"fertility\": 3.053}, {\"life_expect\": 71.868, \"pop\": 33022202, \"country\": \"Argentina\", \"cluster\": 3, \"year\": 1990, \"fertility\": 2.9}, {\"life_expect\": 73.275, \"pop\": 35311049, \"country\": \"Argentina\", \"cluster\": 3, \"year\": 1995, \"fertility\": 2.63}, {\"life_expect\": 74.34, \"pop\": 37497728, \"country\": \"Argentina\", \"cluster\": 3, \"year\": 2000, \"fertility\": 2.35}, {\"life_expect\": 75.32, \"pop\": 39537943, \"country\": \"Argentina\", \"cluster\": 3, \"year\": 2005, \"fertility\": 2.254}, {\"life_expect\": 64.381, \"pop\": 53865, \"country\": \"Aruba\", \"cluster\": 3, \"year\": 1955, \"fertility\": 5.15}, {\"life_expect\": 66.606, \"pop\": 57203, \"country\": \"Aruba\", \"cluster\": 3, \"year\": 1960, \"fertility\": 4.399}, {\"life_expect\": 68.336, \"pop\": 59020, \"country\": \"Aruba\", \"cluster\": 3, \"year\": 1965, \"fertility\": 3.301}, {\"life_expect\": 70.941, \"pop\": 59039, \"country\": \"Aruba\", \"cluster\": 3, \"year\": 1970, \"fertility\": 2.651}, {\"life_expect\": 71.83, \"pop\": 59390, \"country\": \"Aruba\", \"cluster\": 3, \"year\": 1975, \"fertility\": 2.45}, {\"life_expect\": 74.116, \"pop\": 60266, \"country\": \"Aruba\", \"cluster\": 3, \"year\": 1980, \"fertility\": 2.358}, {\"life_expect\": 74.494, \"pop\": 64129, \"country\": \"Aruba\", \"cluster\": 3, \"year\": 1985, \"fertility\": 2.3}, {\"life_expect\": 74.108, \"pop\": 66653, \"country\": \"Aruba\", \"cluster\": 3, \"year\": 1990, \"fertility\": 2.2800000000000002}, {\"life_expect\": 73.011, \"pop\": 67836, \"country\": \"Aruba\", \"cluster\": 3, \"year\": 1995, \"fertility\": 2.208}, {\"life_expect\": 73.451, \"pop\": 69539, \"country\": \"Aruba\", \"cluster\": 3, \"year\": 2000, \"fertility\": 2.124}, {\"life_expect\": 74.239, \"pop\": 71566, \"country\": \"Aruba\", \"cluster\": 3, \"year\": 2005, \"fertility\": 2.04}, {\"life_expect\": 70.33, \"pop\": 9277087, \"country\": \"Australia\", \"cluster\": 4, \"year\": 1955, \"fertility\": 3.406}, {\"life_expect\": 70.93, \"pop\": 10361273, \"country\": \"Australia\", \"cluster\": 4, \"year\": 1960, \"fertility\": 3.274}, {\"life_expect\": 71.1, \"pop\": 11439384, \"country\": \"Australia\", \"cluster\": 4, \"year\": 1965, \"fertility\": 2.871}, {\"life_expect\": 71.93, \"pop\": 12660160, \"country\": \"Australia\", \"cluster\": 4, \"year\": 1970, \"fertility\": 2.535}, {\"life_expect\": 73.49, \"pop\": 13771400, \"country\": \"Australia\", \"cluster\": 4, \"year\": 1975, \"fertility\": 1.9889999999999999}, {\"life_expect\": 74.74, \"pop\": 14615900, \"country\": \"Australia\", \"cluster\": 4, \"year\": 1980, \"fertility\": 1.907}, {\"life_expect\": 76.32, \"pop\": 15788300, \"country\": \"Australia\", \"cluster\": 4, \"year\": 1985, \"fertility\": 1.859}, {\"life_expect\": 77.56, \"pop\": 17022133, \"country\": \"Australia\", \"cluster\": 4, \"year\": 1990, \"fertility\": 1.8599999999999999}, {\"life_expect\": 78.83, \"pop\": 18116171, \"country\": \"Australia\", \"cluster\": 4, \"year\": 1995, \"fertility\": 1.776}, {\"life_expect\": 80.37, \"pop\": 19164620, \"country\": \"Australia\", \"cluster\": 4, \"year\": 2000, \"fertility\": 1.756}, {\"life_expect\": 81.235, \"pop\": 20090437, \"country\": \"Australia\", \"cluster\": 4, \"year\": 2005, \"fertility\": 1.788}, {\"life_expect\": 67.48, \"pop\": 6946885, \"country\": \"Austria\", \"cluster\": 1, \"year\": 1955, \"fertility\": 2.52}, {\"life_expect\": 69.54, \"pop\": 7047437, \"country\": \"Austria\", \"cluster\": 1, \"year\": 1960, \"fertility\": 2.7800000000000002}, {\"life_expect\": 70.14, \"pop\": 7270889, \"country\": \"Austria\", \"cluster\": 1, \"year\": 1965, \"fertility\": 2.5300000000000002}, {\"life_expect\": 70.63, \"pop\": 7467086, \"country\": \"Austria\", \"cluster\": 1, \"year\": 1970, \"fertility\": 2.02}, {\"life_expect\": 72.17, \"pop\": 7578903, \"country\": \"Austria\", \"cluster\": 1, \"year\": 1975, \"fertility\": 1.6400000000000001}, {\"life_expect\": 73.18, \"pop\": 7549433, \"country\": \"Austria\", \"cluster\": 1, \"year\": 1980, \"fertility\": 1.62}, {\"life_expect\": 74.94, \"pop\": 7559776, \"country\": \"Austria\", \"cluster\": 1, \"year\": 1985, \"fertility\": 1.45}, {\"life_expect\": 76.04, \"pop\": 7722953, \"country\": \"Austria\", \"cluster\": 1, \"year\": 1990, \"fertility\": 1.47}, {\"life_expect\": 77.51, \"pop\": 8047433, \"country\": \"Austria\", \"cluster\": 1, \"year\": 1995, \"fertility\": 1.388}, {\"life_expect\": 78.98, \"pop\": 8113413, \"country\": \"Austria\", \"cluster\": 1, \"year\": 2000, \"fertility\": 1.3820000000000001}, {\"life_expect\": 79.829, \"pop\": 8184691, \"country\": \"Austria\", \"cluster\": 1, \"year\": 2005, \"fertility\": 1.42}, {\"life_expect\": 62.405, \"pop\": 87138, \"country\": \"Bahamas\", \"cluster\": 3, \"year\": 1955, \"fertility\": 4.305}, {\"life_expect\": 64.209, \"pop\": 112234, \"country\": \"Bahamas\", \"cluster\": 3, \"year\": 1960, \"fertility\": 4.503}, {\"life_expect\": 65.795, \"pop\": 139205, \"country\": \"Bahamas\", \"cluster\": 3, \"year\": 1965, \"fertility\": 3.794}, {\"life_expect\": 66.515, \"pop\": 170323, \"country\": \"Bahamas\", \"cluster\": 3, \"year\": 1970, \"fertility\": 3.444}, {\"life_expect\": 67.199, \"pop\": 189139, \"country\": \"Bahamas\", \"cluster\": 3, \"year\": 1975, \"fertility\": 3.221}, {\"life_expect\": 67.874, \"pop\": 209944, \"country\": \"Bahamas\", \"cluster\": 3, \"year\": 1980, \"fertility\": 3.16}, {\"life_expect\": 69.524, \"pop\": 234988, \"country\": \"Bahamas\", \"cluster\": 3, \"year\": 1985, \"fertility\": 2.62}, {\"life_expect\": 69.171, \"pop\": 257253, \"country\": \"Bahamas\", \"cluster\": 3, \"year\": 1990, \"fertility\": 2.6}, {\"life_expect\": 68.472, \"pop\": 275303, \"country\": \"Bahamas\", \"cluster\": 3, \"year\": 1995, \"fertility\": 2.4}, {\"life_expect\": 71.068, \"pop\": 290075, \"country\": \"Bahamas\", \"cluster\": 3, \"year\": 2000, \"fertility\": 2.1111}, {\"life_expect\": 73.495, \"pop\": 301790, \"country\": \"Bahamas\", \"cluster\": 3, \"year\": 2005, \"fertility\": 2.0221}, {\"life_expect\": 39.348, \"pop\": 49601520, \"country\": \"Bangladesh\", \"cluster\": 0, \"year\": 1955, \"fertility\": 6.76}, {\"life_expect\": 41.216, \"pop\": 54621538, \"country\": \"Bangladesh\", \"cluster\": 0, \"year\": 1960, \"fertility\": 6.85}, {\"life_expect\": 43.453, \"pop\": 60332117, \"country\": \"Bangladesh\", \"cluster\": 0, \"year\": 1965, \"fertility\": 6.6}, {\"life_expect\": 45.252, \"pop\": 67402621, \"country\": \"Bangladesh\", \"cluster\": 0, \"year\": 1970, \"fertility\": 6.15}, {\"life_expect\": 46.923, \"pop\": 76253310, \"country\": \"Bangladesh\", \"cluster\": 0, \"year\": 1975, \"fertility\": 5.6}, {\"life_expect\": 50.009, \"pop\": 88076996, \"country\": \"Bangladesh\", \"cluster\": 0, \"year\": 1980, \"fertility\": 5.25}, {\"life_expect\": 52.819, \"pop\": 99752733, \"country\": \"Bangladesh\", \"cluster\": 0, \"year\": 1985, \"fertility\": 4.629}, {\"life_expect\": 56.018, \"pop\": 109896945, \"country\": \"Bangladesh\", \"cluster\": 0, \"year\": 1990, \"fertility\": 4.117}, {\"life_expect\": 59.412, \"pop\": 119186448, \"country\": \"Bangladesh\", \"cluster\": 0, \"year\": 1995, \"fertility\": 3.5042999999999997}, {\"life_expect\": 62.013, \"pop\": 130406594, \"country\": \"Bangladesh\", \"cluster\": 0, \"year\": 2000, \"fertility\": 3.224}, {\"life_expect\": 64.062, \"pop\": 144319628, \"country\": \"Bangladesh\", \"cluster\": 0, \"year\": 2005, \"fertility\": 2.826}, {\"life_expect\": 62.57, \"pop\": 227255, \"country\": \"Barbados\", \"cluster\": 3, \"year\": 1955, \"fertility\": 4.67}, {\"life_expect\": 65.87, \"pop\": 232339, \"country\": \"Barbados\", \"cluster\": 3, \"year\": 1960, \"fertility\": 4.26}, {\"life_expect\": 67.62, \"pop\": 234980, \"country\": \"Barbados\", \"cluster\": 3, \"year\": 1965, \"fertility\": 3.45}, {\"life_expect\": 69.42, \"pop\": 238756, \"country\": \"Barbados\", \"cluster\": 3, \"year\": 1970, \"fertility\": 2.74}, {\"life_expect\": 71.27, \"pop\": 247147, \"country\": \"Barbados\", \"cluster\": 3, \"year\": 1975, \"fertility\": 2.19}, {\"life_expect\": 72.695, \"pop\": 251966, \"country\": \"Barbados\", \"cluster\": 3, \"year\": 1980, \"fertility\": 1.92}, {\"life_expect\": 74.027, \"pop\": 257446, \"country\": \"Barbados\", \"cluster\": 3, \"year\": 1985, \"fertility\": 1.75}, {\"life_expect\": 74.894, \"pop\": 262624, \"country\": \"Barbados\", \"cluster\": 3, \"year\": 1990, \"fertility\": 1.6}, {\"life_expect\": 74.912, \"pop\": 267907, \"country\": \"Barbados\", \"cluster\": 3, \"year\": 1995, \"fertility\": 1.5}, {\"life_expect\": 75.97, \"pop\": 273483, \"country\": \"Barbados\", \"cluster\": 3, \"year\": 2000, \"fertility\": 1.5}, {\"life_expect\": 77.296, \"pop\": 278870, \"country\": \"Barbados\", \"cluster\": 3, \"year\": 2005, \"fertility\": 1.5}, {\"life_expect\": 69.24, \"pop\": 8868475, \"country\": \"Belgium\", \"cluster\": 1, \"year\": 1955, \"fertility\": 2.496}, {\"life_expect\": 70.25, \"pop\": 9118700, \"country\": \"Belgium\", \"cluster\": 1, \"year\": 1960, \"fertility\": 2.644}, {\"life_expect\": 70.94, \"pop\": 9448100, \"country\": \"Belgium\", \"cluster\": 1, \"year\": 1965, \"fertility\": 2.392}, {\"life_expect\": 71.44, \"pop\": 9637800, \"country\": \"Belgium\", \"cluster\": 1, \"year\": 1970, \"fertility\": 2.015}, {\"life_expect\": 72.8, \"pop\": 9794800, \"country\": \"Belgium\", \"cluster\": 1, \"year\": 1975, \"fertility\": 1.705}, {\"life_expect\": 73.93, \"pop\": 9846800, \"country\": \"Belgium\", \"cluster\": 1, \"year\": 1980, \"fertility\": 1.595}, {\"life_expect\": 75.35, \"pop\": 9858200, \"country\": \"Belgium\", \"cluster\": 1, \"year\": 1985, \"fertility\": 1.5590000000000002}, {\"life_expect\": 76.46, \"pop\": 9969310, \"country\": \"Belgium\", \"cluster\": 1, \"year\": 1990, \"fertility\": 1.613}, {\"life_expect\": 77.53, \"pop\": 10155459, \"country\": \"Belgium\", \"cluster\": 1, \"year\": 1995, \"fertility\": 1.604}, {\"life_expect\": 78.32, \"pop\": 10263618, \"country\": \"Belgium\", \"cluster\": 1, \"year\": 2000, \"fertility\": 1.638}, {\"life_expect\": 79.441, \"pop\": 10364388, \"country\": \"Belgium\", \"cluster\": 1, \"year\": 2005, \"fertility\": 1.646}, {\"life_expect\": 41.89, \"pop\": 3074311, \"country\": \"Bolivia\", \"cluster\": 3, \"year\": 1955, \"fertility\": 6.75}, {\"life_expect\": 43.428, \"pop\": 3434073, \"country\": \"Bolivia\", \"cluster\": 3, \"year\": 1960, \"fertility\": 6.63}, {\"life_expect\": 45.032, \"pop\": 3853315, \"country\": \"Bolivia\", \"cluster\": 3, \"year\": 1965, \"fertility\": 6.5600000000000005}, {\"life_expect\": 46.714, \"pop\": 4346218, \"country\": \"Bolivia\", \"cluster\": 3, \"year\": 1970, \"fertility\": 6.5}, {\"life_expect\": 50.023, \"pop\": 4914316, \"country\": \"Bolivia\", \"cluster\": 3, \"year\": 1975, \"fertility\": 5.8}, {\"life_expect\": 53.859, \"pop\": 5441298, \"country\": \"Bolivia\", \"cluster\": 3, \"year\": 1980, \"fertility\": 5.2995}, {\"life_expect\": 57.251, \"pop\": 5934935, \"country\": \"Bolivia\", \"cluster\": 3, \"year\": 1985, \"fertility\": 5.0}, {\"life_expect\": 59.957, \"pop\": 6573900, \"country\": \"Bolivia\", \"cluster\": 3, \"year\": 1990, \"fertility\": 4.8}, {\"life_expect\": 62.05, \"pop\": 7376582, \"country\": \"Bolivia\", \"cluster\": 3, \"year\": 1995, \"fertility\": 4.324}, {\"life_expect\": 63.883, \"pop\": 8152620, \"country\": \"Bolivia\", \"cluster\": 3, \"year\": 2000, \"fertility\": 3.9585}, {\"life_expect\": 65.554, \"pop\": 8857870, \"country\": \"Bolivia\", \"cluster\": 3, \"year\": 2005, \"fertility\": 3.5}, {\"life_expect\": 53.285, \"pop\": 61773546, \"country\": \"Brazil\", \"cluster\": 3, \"year\": 1955, \"fertility\": 6.1501}, {\"life_expect\": 55.665, \"pop\": 71694810, \"country\": \"Brazil\", \"cluster\": 3, \"year\": 1960, \"fertility\": 6.1501}, {\"life_expect\": 57.632, \"pop\": 83092908, \"country\": \"Brazil\", \"cluster\": 3, \"year\": 1965, \"fertility\": 5.38}, {\"life_expect\": 59.504, \"pop\": 95684297, \"country\": \"Brazil\", \"cluster\": 3, \"year\": 1970, \"fertility\": 4.7175}, {\"life_expect\": 61.489, \"pop\": 108823732, \"country\": \"Brazil\", \"cluster\": 3, \"year\": 1975, \"fertility\": 4.305}, {\"life_expect\": 63.336, \"pop\": 122958132, \"country\": \"Brazil\", \"cluster\": 3, \"year\": 1980, \"fertility\": 3.8}, {\"life_expect\": 65.205, \"pop\": 137302933, \"country\": \"Brazil\", \"cluster\": 3, \"year\": 1985, \"fertility\": 3.1}, {\"life_expect\": 67.057, \"pop\": 151083809, \"country\": \"Brazil\", \"cluster\": 3, \"year\": 1990, \"fertility\": 2.6}, {\"life_expect\": 69.388, \"pop\": 163542501, \"country\": \"Brazil\", \"cluster\": 3, \"year\": 1995, \"fertility\": 2.45}, {\"life_expect\": 71.006, \"pop\": 175552771, \"country\": \"Brazil\", \"cluster\": 3, \"year\": 2000, \"fertility\": 2.345}, {\"life_expect\": 72.39, \"pop\": 186112794, \"country\": \"Brazil\", \"cluster\": 3, \"year\": 2005, \"fertility\": 2.245}, {\"life_expect\": 69.96, \"pop\": 16050356, \"country\": \"Canada\", \"cluster\": 3, \"year\": 1955, \"fertility\": 3.882}, {\"life_expect\": 71.3, \"pop\": 18266765, \"country\": \"Canada\", \"cluster\": 3, \"year\": 1960, \"fertility\": 3.675}, {\"life_expect\": 72.13, \"pop\": 20071104, \"country\": \"Canada\", \"cluster\": 3, \"year\": 1965, \"fertility\": 2.61}, {\"life_expect\": 72.88, \"pop\": 21749986, \"country\": \"Canada\", \"cluster\": 3, \"year\": 1970, \"fertility\": 1.976}, {\"life_expect\": 74.21, \"pop\": 23209200, \"country\": \"Canada\", \"cluster\": 3, \"year\": 1975, \"fertility\": 1.734}, {\"life_expect\": 75.76, \"pop\": 24593300, \"country\": \"Canada\", \"cluster\": 3, \"year\": 1980, \"fertility\": 1.634}, {\"life_expect\": 76.86, \"pop\": 25941600, \"country\": \"Canada\", \"cluster\": 3, \"year\": 1985, \"fertility\": 1.616}, {\"life_expect\": 77.95, \"pop\": 27790600, \"country\": \"Canada\", \"cluster\": 3, \"year\": 1990, \"fertility\": 1.694}, {\"life_expect\": 78.61, \"pop\": 29619002, \"country\": \"Canada\", \"cluster\": 3, \"year\": 1995, \"fertility\": 1.564}, {\"life_expect\": 79.77, \"pop\": 31278097, \"country\": \"Canada\", \"cluster\": 3, \"year\": 2000, \"fertility\": 1.522}, {\"life_expect\": 80.653, \"pop\": 32805041, \"country\": \"Canada\", \"cluster\": 3, \"year\": 2005, \"fertility\": 1.5270000000000001}, {\"life_expect\": 56.074, \"pop\": 6743269, \"country\": \"Chile\", \"cluster\": 3, \"year\": 1955, \"fertility\": 5.486}, {\"life_expect\": 57.924, \"pop\": 7585349, \"country\": \"Chile\", \"cluster\": 3, \"year\": 1960, \"fertility\": 5.4385}, {\"life_expect\": 60.523, \"pop\": 8509950, \"country\": \"Chile\", \"cluster\": 3, \"year\": 1965, \"fertility\": 4.4405}, {\"life_expect\": 63.441, \"pop\": 9368558, \"country\": \"Chile\", \"cluster\": 3, \"year\": 1970, \"fertility\": 3.63}, {\"life_expect\": 67.052, \"pop\": 10251542, \"country\": \"Chile\", \"cluster\": 3, \"year\": 1975, \"fertility\": 2.803}, {\"life_expect\": 70.565, \"pop\": 11093718, \"country\": \"Chile\", \"cluster\": 3, \"year\": 1980, \"fertility\": 2.6710000000000003}, {\"life_expect\": 72.492, \"pop\": 12066701, \"country\": \"Chile\", \"cluster\": 3, \"year\": 1985, \"fertility\": 2.65}, {\"life_expect\": 74.126, \"pop\": 13127760, \"country\": \"Chile\", \"cluster\": 3, \"year\": 1990, \"fertility\": 2.55}, {\"life_expect\": 75.816, \"pop\": 14205449, \"country\": \"Chile\", \"cluster\": 3, \"year\": 1995, \"fertility\": 2.21}, {\"life_expect\": 77.86, \"pop\": 15153450, \"country\": \"Chile\", \"cluster\": 3, \"year\": 2000, \"fertility\": 2.0}, {\"life_expect\": 78.553, \"pop\": 15980912, \"country\": \"Chile\", \"cluster\": 3, \"year\": 2005, \"fertility\": 1.944}, {\"life_expect\": 50.54896, \"pop\": 608655000, \"country\": \"China\", \"cluster\": 4, \"year\": 1955, \"fertility\": 5.59}, {\"life_expect\": 44.50136, \"pop\": 667070000, \"country\": \"China\", \"cluster\": 4, \"year\": 1960, \"fertility\": 5.72}, {\"life_expect\": 58.38112, \"pop\": 715185000, \"country\": \"China\", \"cluster\": 4, \"year\": 1965, \"fertility\": 6.06}, {\"life_expect\": 63.11888, \"pop\": 818315000, \"country\": \"China\", \"cluster\": 4, \"year\": 1970, \"fertility\": 4.86}, {\"life_expect\": 63.96736, \"pop\": 916395000, \"country\": \"China\", \"cluster\": 4, \"year\": 1975, \"fertility\": 3.32}, {\"life_expect\": 65.525, \"pop\": 981235000, \"country\": \"China\", \"cluster\": 4, \"year\": 1980, \"fertility\": 2.55}, {\"life_expect\": 67.274, \"pop\": 1051040000, \"country\": \"China\", \"cluster\": 4, \"year\": 1985, \"fertility\": 2.46}, {\"life_expect\": 68.69, \"pop\": 1135185000, \"country\": \"China\", \"cluster\": 4, \"year\": 1990, \"fertility\": 1.92}, {\"life_expect\": 70.426, \"pop\": 1204855000, \"country\": \"China\", \"cluster\": 4, \"year\": 1995, \"fertility\": 1.7810000000000001}, {\"life_expect\": 72.028, \"pop\": 1262645000, \"country\": \"China\", \"cluster\": 4, \"year\": 2000, \"fertility\": 1.7000000000000002}, {\"life_expect\": 72.961, \"pop\": 1303182268, \"country\": \"China\", \"cluster\": 4, \"year\": 2005, \"fertility\": 1.725}, {\"life_expect\": 55.118, \"pop\": 13588405, \"country\": \"Colombia\", \"cluster\": 3, \"year\": 1955, \"fertility\": 6.76}, {\"life_expect\": 57.863, \"pop\": 15952727, \"country\": \"Colombia\", \"cluster\": 3, \"year\": 1960, \"fertility\": 6.76}, {\"life_expect\": 59.963, \"pop\": 18646175, \"country\": \"Colombia\", \"cluster\": 3, \"year\": 1965, \"fertility\": 6.18}, {\"life_expect\": 61.623, \"pop\": 21429658, \"country\": \"Colombia\", \"cluster\": 3, \"year\": 1970, \"fertility\": 5.0005}, {\"life_expect\": 63.837, \"pop\": 24114177, \"country\": \"Colombia\", \"cluster\": 3, \"year\": 1975, \"fertility\": 4.3385}, {\"life_expect\": 66.653, \"pop\": 26582811, \"country\": \"Colombia\", \"cluster\": 3, \"year\": 1980, \"fertility\": 3.685}, {\"life_expect\": 67.768, \"pop\": 29678395, \"country\": \"Colombia\", \"cluster\": 3, \"year\": 1985, \"fertility\": 3.172}, {\"life_expect\": 68.421, \"pop\": 32858579, \"country\": \"Colombia\", \"cluster\": 3, \"year\": 1990, \"fertility\": 2.93005}, {\"life_expect\": 70.313, \"pop\": 36280883, \"country\": \"Colombia\", \"cluster\": 3, \"year\": 1995, \"fertility\": 2.7}, {\"life_expect\": 71.682, \"pop\": 39685655, \"country\": \"Colombia\", \"cluster\": 3, \"year\": 2000, \"fertility\": 2.4705}, {\"life_expect\": 72.889, \"pop\": 42954279, \"country\": \"Colombia\", \"cluster\": 3, \"year\": 2005, \"fertility\": 2.2205}, {\"life_expect\": 60.026, \"pop\": 1031782, \"country\": \"Costa Rica\", \"cluster\": 3, \"year\": 1955, \"fertility\": 7.1135}, {\"life_expect\": 62.842, \"pop\": 1248022, \"country\": \"Costa Rica\", \"cluster\": 3, \"year\": 1960, \"fertility\": 7.2245}, {\"life_expect\": 65.424, \"pop\": 1487605, \"country\": \"Costa Rica\", \"cluster\": 3, \"year\": 1965, \"fertility\": 5.801}, {\"life_expect\": 67.849, \"pop\": 1735523, \"country\": \"Costa Rica\", \"cluster\": 3, \"year\": 1970, \"fertility\": 4.346}, {\"life_expect\": 70.75, \"pop\": 1991580, \"country\": \"Costa Rica\", \"cluster\": 3, \"year\": 1975, \"fertility\": 3.7755}, {\"life_expect\": 73.45, \"pop\": 2299124, \"country\": \"Costa Rica\", \"cluster\": 3, \"year\": 1980, \"fertility\": 3.527}, {\"life_expect\": 74.752, \"pop\": 2643808, \"country\": \"Costa Rica\", \"cluster\": 3, \"year\": 1985, \"fertility\": 3.374}, {\"life_expect\": 75.713, \"pop\": 3027175, \"country\": \"Costa Rica\", \"cluster\": 3, \"year\": 1990, \"fertility\": 2.9450000000000003}, {\"life_expect\": 77.26, \"pop\": 3383786, \"country\": \"Costa Rica\", \"cluster\": 3, \"year\": 1995, \"fertility\": 2.5835}, {\"life_expect\": 78.123, \"pop\": 3710558, \"country\": \"Costa Rica\", \"cluster\": 3, \"year\": 2000, \"fertility\": 2.2815}, {\"life_expect\": 78.782, \"pop\": 4016173, \"country\": \"Costa Rica\", \"cluster\": 3, \"year\": 2005, \"fertility\": 2.0985}, {\"life_expect\": 64.77, \"pop\": 3955526, \"country\": \"Croatia\", \"cluster\": 1, \"year\": 1955, \"fertility\": 2.42}, {\"life_expect\": 67.13, \"pop\": 4036145, \"country\": \"Croatia\", \"cluster\": 1, \"year\": 1960, \"fertility\": 2.27}, {\"life_expect\": 68.5, \"pop\": 4133313, \"country\": \"Croatia\", \"cluster\": 1, \"year\": 1965, \"fertility\": 2.09}, {\"life_expect\": 69.61, \"pop\": 4205389, \"country\": \"Croatia\", \"cluster\": 1, \"year\": 1970, \"fertility\": 1.96}, {\"life_expect\": 70.64, \"pop\": 4255000, \"country\": \"Croatia\", \"cluster\": 1, \"year\": 1975, \"fertility\": 2.02}, {\"life_expect\": 70.46, \"pop\": 4383000, \"country\": \"Croatia\", \"cluster\": 1, \"year\": 1980, \"fertility\": 1.96}, {\"life_expect\": 71.52, \"pop\": 4457874, \"country\": \"Croatia\", \"cluster\": 1, \"year\": 1985, \"fertility\": 1.8399999999999999}, {\"life_expect\": 72.527, \"pop\": 4508347, \"country\": \"Croatia\", \"cluster\": 1, \"year\": 1990, \"fertility\": 1.52}, {\"life_expect\": 73.68, \"pop\": 4496683, \"country\": \"Croatia\", \"cluster\": 1, \"year\": 1995, \"fertility\": 1.537}, {\"life_expect\": 74.876, \"pop\": 4410830, \"country\": \"Croatia\", \"cluster\": 1, \"year\": 2000, \"fertility\": 1.348}, {\"life_expect\": 75.748, \"pop\": 4495904, \"country\": \"Croatia\", \"cluster\": 1, \"year\": 2005, \"fertility\": 1.346}, {\"life_expect\": 62.325, \"pop\": 6381106, \"country\": \"Cuba\", \"cluster\": 3, \"year\": 1955, \"fertility\": 3.6995}, {\"life_expect\": 65.246, \"pop\": 7027210, \"country\": \"Cuba\", \"cluster\": 3, \"year\": 1960, \"fertility\": 4.6805}, {\"life_expect\": 68.29, \"pop\": 7809916, \"country\": \"Cuba\", \"cluster\": 3, \"year\": 1965, \"fertility\": 4.3}, {\"life_expect\": 70.723, \"pop\": 8542746, \"country\": \"Cuba\", \"cluster\": 3, \"year\": 1970, \"fertility\": 3.6}, {\"life_expect\": 72.649, \"pop\": 9290074, \"country\": \"Cuba\", \"cluster\": 3, \"year\": 1975, \"fertility\": 2.15}, {\"life_expect\": 73.717, \"pop\": 9652975, \"country\": \"Cuba\", \"cluster\": 3, \"year\": 1980, \"fertility\": 1.8495}, {\"life_expect\": 74.174, \"pop\": 10078658, \"country\": \"Cuba\", \"cluster\": 3, \"year\": 1985, \"fertility\": 1.8495}, {\"life_expect\": 74.414, \"pop\": 10544793, \"country\": \"Cuba\", \"cluster\": 3, \"year\": 1990, \"fertility\": 1.6505}, {\"life_expect\": 76.151, \"pop\": 10896802, \"country\": \"Cuba\", \"cluster\": 3, \"year\": 1995, \"fertility\": 1.6095000000000002}, {\"life_expect\": 77.158, \"pop\": 11134273, \"country\": \"Cuba\", \"cluster\": 3, \"year\": 2000, \"fertility\": 1.63}, {\"life_expect\": 78.273, \"pop\": 11346670, \"country\": \"Cuba\", \"cluster\": 3, \"year\": 2005, \"fertility\": 1.49}, {\"life_expect\": 49.828, \"pop\": 2737257, \"country\": \"Dominican Republic\", \"cluster\": 3, \"year\": 1955, \"fertility\": 7.6405}, {\"life_expect\": 53.459, \"pop\": 3231488, \"country\": \"Dominican Republic\", \"cluster\": 3, \"year\": 1960, \"fertility\": 7.3505}, {\"life_expect\": 56.751, \"pop\": 3805881, \"country\": \"Dominican Republic\", \"cluster\": 3, \"year\": 1965, \"fertility\": 6.6495}, {\"life_expect\": 59.631, \"pop\": 4422755, \"country\": \"Dominican Republic\", \"cluster\": 3, \"year\": 1970, \"fertility\": 5.71}, {\"life_expect\": 61.788, \"pop\": 5048499, \"country\": \"Dominican Republic\", \"cluster\": 3, \"year\": 1975, \"fertility\": 4.76}, {\"life_expect\": 63.727, \"pop\": 5696855, \"country\": \"Dominican Republic\", \"cluster\": 3, \"year\": 1980, \"fertility\": 4.0}, {\"life_expect\": 66.046, \"pop\": 6377765, \"country\": \"Dominican Republic\", \"cluster\": 3, \"year\": 1985, \"fertility\": 3.47}, {\"life_expect\": 68.457, \"pop\": 7077651, \"country\": \"Dominican Republic\", \"cluster\": 3, \"year\": 1990, \"fertility\": 3.1995}, {\"life_expect\": 69.957, \"pop\": 7730224, \"country\": \"Dominican Republic\", \"cluster\": 3, \"year\": 1995, \"fertility\": 3.05}, {\"life_expect\": 70.847, \"pop\": 8385828, \"country\": \"Dominican Republic\", \"cluster\": 3, \"year\": 2000, \"fertility\": 2.95}, {\"life_expect\": 72.235, \"pop\": 9049595, \"country\": \"Dominican Republic\", \"cluster\": 3, \"year\": 2005, \"fertility\": 2.81}, {\"life_expect\": 51.356, \"pop\": 3842399, \"country\": \"Ecuador\", \"cluster\": 3, \"year\": 1955, \"fertility\": 6.7}, {\"life_expect\": 54.64, \"pop\": 4415956, \"country\": \"Ecuador\", \"cluster\": 3, \"year\": 1960, \"fertility\": 6.7}, {\"life_expect\": 56.678, \"pop\": 5117779, \"country\": \"Ecuador\", \"cluster\": 3, \"year\": 1965, \"fertility\": 6.5}, {\"life_expect\": 58.796, \"pop\": 5939246, \"country\": \"Ecuador\", \"cluster\": 3, \"year\": 1970, \"fertility\": 6.0005}, {\"life_expect\": 61.31, \"pop\": 6871698, \"country\": \"Ecuador\", \"cluster\": 3, \"year\": 1975, \"fertility\": 5.4005}, {\"life_expect\": 64.342, \"pop\": 7920499, \"country\": \"Ecuador\", \"cluster\": 3, \"year\": 1980, \"fertility\": 4.7005}, {\"life_expect\": 67.231, \"pop\": 9061664, \"country\": \"Ecuador\", \"cluster\": 3, \"year\": 1985, \"fertility\": 4.0}, {\"life_expect\": 69.613, \"pop\": 10318036, \"country\": \"Ecuador\", \"cluster\": 3, \"year\": 1990, \"fertility\": 3.4005}, {\"life_expect\": 72.312, \"pop\": 11438004, \"country\": \"Ecuador\", \"cluster\": 3, \"year\": 1995, \"fertility\": 3.1}, {\"life_expect\": 74.173, \"pop\": 12505204, \"country\": \"Ecuador\", \"cluster\": 3, \"year\": 2000, \"fertility\": 2.8175}, {\"life_expect\": 74.994, \"pop\": 13363593, \"country\": \"Ecuador\", \"cluster\": 3, \"year\": 2005, \"fertility\": 2.578}, {\"life_expect\": 44.444, \"pop\": 23855527, \"country\": \"Egypt\", \"cluster\": 5, \"year\": 1955, \"fertility\": 6.97}, {\"life_expect\": 46.992, \"pop\": 26846610, \"country\": \"Egypt\", \"cluster\": 5, \"year\": 1960, \"fertility\": 7.073}, {\"life_expect\": 49.293, \"pop\": 30265148, \"country\": \"Egypt\", \"cluster\": 5, \"year\": 1965, \"fertility\": 6.5600000000000005}, {\"life_expect\": 51.137, \"pop\": 33574026, \"country\": \"Egypt\", \"cluster\": 5, \"year\": 1970, \"fertility\": 5.855}, {\"life_expect\": 53.319, \"pop\": 36952499, \"country\": \"Egypt\", \"cluster\": 5, \"year\": 1975, \"fertility\": 5.609}, {\"life_expect\": 56.006, \"pop\": 42634215, \"country\": \"Egypt\", \"cluster\": 5, \"year\": 1980, \"fertility\": 5.332}, {\"life_expect\": 59.797, \"pop\": 50052381, \"country\": \"Egypt\", \"cluster\": 5, \"year\": 1985, \"fertility\": 4.833}, {\"life_expect\": 63.674, \"pop\": 56694413, \"country\": \"Egypt\", \"cluster\": 5, \"year\": 1990, \"fertility\": 3.908}, {\"life_expect\": 67.217, \"pop\": 63321615, \"country\": \"Egypt\", \"cluster\": 5, \"year\": 1995, \"fertility\": 3.5}, {\"life_expect\": 69.806, \"pop\": 70492342, \"country\": \"Egypt\", \"cluster\": 5, \"year\": 2000, \"fertility\": 3.174}, {\"life_expect\": 71.338, \"pop\": 77505756, \"country\": \"Egypt\", \"cluster\": 5, \"year\": 2005, \"fertility\": 2.891}, {\"life_expect\": 48.57, \"pop\": 2221139, \"country\": \"El Salvador\", \"cluster\": 3, \"year\": 1955, \"fertility\": 6.8065}, {\"life_expect\": 52.307, \"pop\": 2581583, \"country\": \"El Salvador\", \"cluster\": 3, \"year\": 1960, \"fertility\": 6.8469999999999995}, {\"life_expect\": 55.855, \"pop\": 3017852, \"country\": \"El Salvador\", \"cluster\": 3, \"year\": 1965, \"fertility\": 6.621}, {\"life_expect\": 58.207, \"pop\": 3603907, \"country\": \"El Salvador\", \"cluster\": 3, \"year\": 1970, \"fertility\": 6.0995}, {\"life_expect\": 56.696, \"pop\": 4071179, \"country\": \"El Salvador\", \"cluster\": 3, \"year\": 1975, \"fertility\": 5.5996}, {\"life_expect\": 56.604, \"pop\": 4566199, \"country\": \"El Salvador\", \"cluster\": 3, \"year\": 1980, \"fertility\": 4.5}, {\"life_expect\": 63.154, \"pop\": 4664361, \"country\": \"El Salvador\", \"cluster\": 3, \"year\": 1985, \"fertility\": 3.901}, {\"life_expect\": 66.798, \"pop\": 5099884, \"country\": \"El Salvador\", \"cluster\": 3, \"year\": 1990, \"fertility\": 3.52}, {\"life_expect\": 69.535, \"pop\": 5568437, \"country\": \"El Salvador\", \"cluster\": 3, \"year\": 1995, \"fertility\": 3.17}, {\"life_expect\": 70.734, \"pop\": 6122515, \"country\": \"El Salvador\", \"cluster\": 3, \"year\": 2000, \"fertility\": 2.883}, {\"life_expect\": 71.878, \"pop\": 6704932, \"country\": \"El Salvador\", \"cluster\": 3, \"year\": 2005, \"fertility\": 2.6825}, {\"life_expect\": 67.49, \"pop\": 4234900, \"country\": \"Finland\", \"cluster\": 1, \"year\": 1955, \"fertility\": 2.769}, {\"life_expect\": 68.75, \"pop\": 4429600, \"country\": \"Finland\", \"cluster\": 1, \"year\": 1960, \"fertility\": 2.66}, {\"life_expect\": 69.83, \"pop\": 4563732, \"country\": \"Finland\", \"cluster\": 1, \"year\": 1965, \"fertility\": 2.191}, {\"life_expect\": 70.87, \"pop\": 4606307, \"country\": \"Finland\", \"cluster\": 1, \"year\": 1970, \"fertility\": 1.623}, {\"life_expect\": 72.52, \"pop\": 4711439, \"country\": \"Finland\", \"cluster\": 1, \"year\": 1975, \"fertility\": 1.663}, {\"life_expect\": 74.55, \"pop\": 4779535, \"country\": \"Finland\", \"cluster\": 1, \"year\": 1980, \"fertility\": 1.685}, {\"life_expect\": 74.83, \"pop\": 4901783, \"country\": \"Finland\", \"cluster\": 1, \"year\": 1985, \"fertility\": 1.6600000000000001}, {\"life_expect\": 75.7, \"pop\": 4986431, \"country\": \"Finland\", \"cluster\": 1, \"year\": 1990, \"fertility\": 1.819}, {\"life_expect\": 77.13, \"pop\": 5104654, \"country\": \"Finland\", \"cluster\": 1, \"year\": 1995, \"fertility\": 1.7429999999999999}, {\"life_expect\": 78.37, \"pop\": 5168595, \"country\": \"Finland\", \"cluster\": 1, \"year\": 2000, \"fertility\": 1.754}, {\"life_expect\": 79.313, \"pop\": 5223442, \"country\": \"Finland\", \"cluster\": 1, \"year\": 2005, \"fertility\": 1.8250000000000002}, {\"life_expect\": 68.93, \"pop\": 43427669, \"country\": \"France\", \"cluster\": 1, \"year\": 1955, \"fertility\": 2.7119999999999997}, {\"life_expect\": 70.51, \"pop\": 45670000, \"country\": \"France\", \"cluster\": 1, \"year\": 1960, \"fertility\": 2.85}, {\"life_expect\": 71.55, \"pop\": 48763000, \"country\": \"France\", \"cluster\": 1, \"year\": 1965, \"fertility\": 2.607}, {\"life_expect\": 72.38, \"pop\": 50787000, \"country\": \"France\", \"cluster\": 1, \"year\": 1970, \"fertility\": 2.31}, {\"life_expect\": 73.83, \"pop\": 52758427, \"country\": \"France\", \"cluster\": 1, \"year\": 1975, \"fertility\": 1.862}, {\"life_expect\": 74.89, \"pop\": 53869743, \"country\": \"France\", \"cluster\": 1, \"year\": 1980, \"fertility\": 1.866}, {\"life_expect\": 76.34, \"pop\": 55171224, \"country\": \"France\", \"cluster\": 1, \"year\": 1985, \"fertility\": 1.8050000000000002}, {\"life_expect\": 77.46, \"pop\": 56735161, \"country\": \"France\", \"cluster\": 1, \"year\": 1990, \"fertility\": 1.713}, {\"life_expect\": 78.64, \"pop\": 58149727, \"country\": \"France\", \"cluster\": 1, \"year\": 1995, \"fertility\": 1.7624}, {\"life_expect\": 79.59, \"pop\": 59381628, \"country\": \"France\", \"cluster\": 1, \"year\": 2000, \"fertility\": 1.8833000000000002}, {\"life_expect\": 80.657, \"pop\": 60656178, \"country\": \"France\", \"cluster\": 1, \"year\": 2005, \"fertility\": 1.8916}, {\"life_expect\": 62.625, \"pop\": 3827154, \"country\": \"Georgia\", \"cluster\": 1, \"year\": 1955, \"fertility\": 2.909}, {\"life_expect\": 64.644, \"pop\": 4146570, \"country\": \"Georgia\", \"cluster\": 1, \"year\": 1960, \"fertility\": 2.979}, {\"life_expect\": 66.654, \"pop\": 4464959, \"country\": \"Georgia\", \"cluster\": 1, \"year\": 1965, \"fertility\": 2.6109999999999998}, {\"life_expect\": 68.158, \"pop\": 4694491, \"country\": \"Georgia\", \"cluster\": 1, \"year\": 1970, \"fertility\": 2.601}, {\"life_expect\": 69.634, \"pop\": 4897656, \"country\": \"Georgia\", \"cluster\": 1, \"year\": 1975, \"fertility\": 2.39}, {\"life_expect\": 69.638, \"pop\": 5045697, \"country\": \"Georgia\", \"cluster\": 1, \"year\": 1980, \"fertility\": 2.269}, {\"life_expect\": 70.45, \"pop\": 5192957, \"country\": \"Georgia\", \"cluster\": 1, \"year\": 1985, \"fertility\": 2.263}, {\"life_expect\": 70.465, \"pop\": 5426207, \"country\": \"Georgia\", \"cluster\": 1, \"year\": 1990, \"fertility\": 1.9500000000000002}, {\"life_expect\": 70.49, \"pop\": 5012952, \"country\": \"Georgia\", \"cluster\": 1, \"year\": 1995, \"fertility\": 1.58}, {\"life_expect\": 70.476, \"pop\": 4777209, \"country\": \"Georgia\", \"cluster\": 1, \"year\": 2000, \"fertility\": 1.478}, {\"life_expect\": 70.987, \"pop\": 4677401, \"country\": \"Georgia\", \"cluster\": 1, \"year\": 2005, \"fertility\": 1.407}, {\"life_expect\": 69.1, \"pop\": 70195612, \"country\": \"Germany\", \"cluster\": 1, \"year\": 1955, \"fertility\": 2.3}, {\"life_expect\": 70.3, \"pop\": 72480869, \"country\": \"Germany\", \"cluster\": 1, \"year\": 1960, \"fertility\": 2.49}, {\"life_expect\": 70.8, \"pop\": 75638851, \"country\": \"Germany\", \"cluster\": 1, \"year\": 1965, \"fertility\": 2.32}, {\"life_expect\": 71.0, \"pop\": 77783164, \"country\": \"Germany\", \"cluster\": 1, \"year\": 1970, \"fertility\": 1.6400000000000001}, {\"life_expect\": 72.5, \"pop\": 78682325, \"country\": \"Germany\", \"cluster\": 1, \"year\": 1975, \"fertility\": 1.52}, {\"life_expect\": 73.8, \"pop\": 78297904, \"country\": \"Germany\", \"cluster\": 1, \"year\": 1980, \"fertility\": 1.46}, {\"life_expect\": 74.847, \"pop\": 77684907, \"country\": \"Germany\", \"cluster\": 1, \"year\": 1985, \"fertility\": 1.43}, {\"life_expect\": 76.07, \"pop\": 79380394, \"country\": \"Germany\", \"cluster\": 1, \"year\": 1990, \"fertility\": 1.31}, {\"life_expect\": 77.34, \"pop\": 81653702, \"country\": \"Germany\", \"cluster\": 1, \"year\": 1995, \"fertility\": 1.34}, {\"life_expect\": 78.67, \"pop\": 82187909, \"country\": \"Germany\", \"cluster\": 1, \"year\": 2000, \"fertility\": 1.346}, {\"life_expect\": 79.406, \"pop\": 82431390, \"country\": \"Germany\", \"cluster\": 1, \"year\": 2005, \"fertility\": 1.3599999999999999}, {\"life_expect\": 67.86, \"pop\": 7965538, \"country\": \"Greece\", \"cluster\": 1, \"year\": 1955, \"fertility\": 2.27}, {\"life_expect\": 69.51, \"pop\": 8327405, \"country\": \"Greece\", \"cluster\": 1, \"year\": 1960, \"fertility\": 2.2}, {\"life_expect\": 71.0, \"pop\": 8550333, \"country\": \"Greece\", \"cluster\": 1, \"year\": 1965, \"fertility\": 2.38}, {\"life_expect\": 72.34, \"pop\": 8792806, \"country\": \"Greece\", \"cluster\": 1, \"year\": 1970, \"fertility\": 2.32}, {\"life_expect\": 73.68, \"pop\": 9046542, \"country\": \"Greece\", \"cluster\": 1, \"year\": 1975, \"fertility\": 2.32}, {\"life_expect\": 75.24, \"pop\": 9642505, \"country\": \"Greece\", \"cluster\": 1, \"year\": 1980, \"fertility\": 1.96}, {\"life_expect\": 76.67, \"pop\": 9923253, \"country\": \"Greece\", \"cluster\": 1, \"year\": 1985, \"fertility\": 1.53}, {\"life_expect\": 77.03, \"pop\": 10129603, \"country\": \"Greece\", \"cluster\": 1, \"year\": 1990, \"fertility\": 1.37}, {\"life_expect\": 77.869, \"pop\": 10457554, \"country\": \"Greece\", \"cluster\": 1, \"year\": 1995, \"fertility\": 1.296}, {\"life_expect\": 78.256, \"pop\": 10559110, \"country\": \"Greece\", \"cluster\": 1, \"year\": 2000, \"fertility\": 1.2770000000000001}, {\"life_expect\": 79.483, \"pop\": 10668354, \"country\": \"Greece\", \"cluster\": 1, \"year\": 2005, \"fertility\": 1.325}, {\"life_expect\": 63.114, \"pop\": 84621, \"country\": \"Grenada\", \"cluster\": 3, \"year\": 1955, \"fertility\": 6.7}, {\"life_expect\": 63.608, \"pop\": 90148, \"country\": \"Grenada\", \"cluster\": 3, \"year\": 1960, \"fertility\": 6.4}, {\"life_expect\": 64.091, \"pop\": 93290, \"country\": \"Grenada\", \"cluster\": 3, \"year\": 1965, \"fertility\": 4.8}, {\"life_expect\": 64.577, \"pop\": 95410, \"country\": \"Grenada\", \"cluster\": 3, \"year\": 1970, \"fertility\": 4.6}, {\"life_expect\": 65.035, \"pop\": 95819, \"country\": \"Grenada\", \"cluster\": 3, \"year\": 1975, \"fertility\": 4.3}, {\"life_expect\": 65.503, \"pop\": 90164, \"country\": \"Grenada\", \"cluster\": 3, \"year\": 1980, \"fertility\": 4.23}, {\"life_expect\": 66.002, \"pop\": 92203, \"country\": \"Grenada\", \"cluster\": 3, \"year\": 1985, \"fertility\": 4.14}, {\"life_expect\": 66.469, \"pop\": 92360, \"country\": \"Grenada\", \"cluster\": 3, \"year\": 1990, \"fertility\": 3.26}, {\"life_expect\": 66.986, \"pop\": 90603, \"country\": \"Grenada\", \"cluster\": 3, \"year\": 1995, \"fertility\": 2.814}, {\"life_expect\": 67.746, \"pop\": 89312, \"country\": \"Grenada\", \"cluster\": 3, \"year\": 2000, \"fertility\": 2.429}, {\"life_expect\": 68.724, \"pop\": 89502, \"country\": \"Grenada\", \"cluster\": 3, \"year\": 2005, \"fertility\": 2.302}, {\"life_expect\": 40.696, \"pop\": 3376419, \"country\": \"Haiti\", \"cluster\": 3, \"year\": 1955, \"fertility\": 6.3}, {\"life_expect\": 43.59, \"pop\": 3722743, \"country\": \"Haiti\", \"cluster\": 3, \"year\": 1960, \"fertility\": 6.3}, {\"life_expect\": 46.243, \"pop\": 4137405, \"country\": \"Haiti\", \"cluster\": 3, \"year\": 1965, \"fertility\": 6.0}, {\"life_expect\": 48.042, \"pop\": 4604915, \"country\": \"Haiti\", \"cluster\": 3, \"year\": 1970, \"fertility\": 5.6005}, {\"life_expect\": 49.923, \"pop\": 4828338, \"country\": \"Haiti\", \"cluster\": 3, \"year\": 1975, \"fertility\": 5.8}, {\"life_expect\": 51.461, \"pop\": 5029725, \"country\": \"Haiti\", \"cluster\": 3, \"year\": 1980, \"fertility\": 6.2099}, {\"life_expect\": 53.636, \"pop\": 5517977, \"country\": \"Haiti\", \"cluster\": 3, \"year\": 1985, \"fertility\": 5.69985}, {\"life_expect\": 55.089, \"pop\": 6126101, \"country\": \"Haiti\", \"cluster\": 3, \"year\": 1990, \"fertility\": 5.14985}, {\"life_expect\": 56.671, \"pop\": 6675578, \"country\": \"Haiti\", \"cluster\": 3, \"year\": 1995, \"fertility\": 4.61995}, {\"life_expect\": 58.137, \"pop\": 7306302, \"country\": \"Haiti\", \"cluster\": 3, \"year\": 2000, \"fertility\": 4.0}, {\"life_expect\": 60.916, \"pop\": 8121622, \"country\": \"Haiti\", \"cluster\": 3, \"year\": 2005, \"fertility\": 3.5445}, {\"life_expect\": 64.75, \"pop\": 2490400, \"country\": \"Hong Kong\", \"cluster\": 4, \"year\": 1955, \"fertility\": 4.72}, {\"life_expect\": 67.65, \"pop\": 3075300, \"country\": \"Hong Kong\", \"cluster\": 4, \"year\": 1960, \"fertility\": 5.31}, {\"life_expect\": 70.0, \"pop\": 3597900, \"country\": \"Hong Kong\", \"cluster\": 4, \"year\": 1965, \"fertility\": 4.02}, {\"life_expect\": 72.0, \"pop\": 3959000, \"country\": \"Hong Kong\", \"cluster\": 4, \"year\": 1970, \"fertility\": 2.89}, {\"life_expect\": 73.6, \"pop\": 4395800, \"country\": \"Hong Kong\", \"cluster\": 4, \"year\": 1975, \"fertility\": 2.32}, {\"life_expect\": 75.45, \"pop\": 5063100, \"country\": \"Hong Kong\", \"cluster\": 4, \"year\": 1980, \"fertility\": 1.8}, {\"life_expect\": 76.2, \"pop\": 5456200, \"country\": \"Hong Kong\", \"cluster\": 4, \"year\": 1985, \"fertility\": 1.31}, {\"life_expect\": 77.601, \"pop\": 5687959, \"country\": \"Hong Kong\", \"cluster\": 4, \"year\": 1990, \"fertility\": 1.288}, {\"life_expect\": 80.0, \"pop\": 6225347, \"country\": \"Hong Kong\", \"cluster\": 4, \"year\": 1995, \"fertility\": 1.08}, {\"life_expect\": 81.495, \"pop\": 6658720, \"country\": \"Hong Kong\", \"cluster\": 4, \"year\": 2000, \"fertility\": 0.9400000000000001}, {\"life_expect\": 82.208, \"pop\": 6898686, \"country\": \"Hong Kong\", \"cluster\": 4, \"year\": 2005, \"fertility\": 0.966}, {\"life_expect\": 73.47, \"pop\": 158044, \"country\": \"Iceland\", \"cluster\": 1, \"year\": 1955, \"fertility\": 4.023}, {\"life_expect\": 73.68, \"pop\": 175860, \"country\": \"Iceland\", \"cluster\": 1, \"year\": 1960, \"fertility\": 3.943}, {\"life_expect\": 73.73, \"pop\": 192288, \"country\": \"Iceland\", \"cluster\": 1, \"year\": 1965, \"fertility\": 3.154}, {\"life_expect\": 74.46, \"pop\": 204104, \"country\": \"Iceland\", \"cluster\": 1, \"year\": 1970, \"fertility\": 2.843}, {\"life_expect\": 76.11, \"pop\": 218031, \"country\": \"Iceland\", \"cluster\": 1, \"year\": 1975, \"fertility\": 2.287}, {\"life_expect\": 76.99, \"pop\": 228161, \"country\": \"Iceland\", \"cluster\": 1, \"year\": 1980, \"fertility\": 2.248}, {\"life_expect\": 77.23, \"pop\": 241403, \"country\": \"Iceland\", \"cluster\": 1, \"year\": 1985, \"fertility\": 2.116}, {\"life_expect\": 78.77, \"pop\": 254719, \"country\": \"Iceland\", \"cluster\": 1, \"year\": 1990, \"fertility\": 2.194}, {\"life_expect\": 78.95, \"pop\": 267527, \"country\": \"Iceland\", \"cluster\": 1, \"year\": 1995, \"fertility\": 2.056}, {\"life_expect\": 80.5, \"pop\": 281043, \"country\": \"Iceland\", \"cluster\": 1, \"year\": 2000, \"fertility\": 1.9929999999999999}, {\"life_expect\": 81.757, \"pop\": 296737, \"country\": \"Iceland\", \"cluster\": 1, \"year\": 2005, \"fertility\": 2.052}, {\"life_expect\": 40.249, \"pop\": 393000000, \"country\": \"India\", \"cluster\": 0, \"year\": 1955, \"fertility\": 5.8961}, {\"life_expect\": 43.605, \"pop\": 434000000, \"country\": \"India\", \"cluster\": 0, \"year\": 1960, \"fertility\": 5.8216}, {\"life_expect\": 47.193, \"pop\": 485000000, \"country\": \"India\", \"cluster\": 0, \"year\": 1965, \"fertility\": 5.6058}, {\"life_expect\": 50.651, \"pop\": 541000000, \"country\": \"India\", \"cluster\": 0, \"year\": 1970, \"fertility\": 5.264}, {\"life_expect\": 54.208, \"pop\": 607000000, \"country\": \"India\", \"cluster\": 0, \"year\": 1975, \"fertility\": 4.8888}, {\"life_expect\": 56.596, \"pop\": 679000000, \"country\": \"India\", \"cluster\": 0, \"year\": 1980, \"fertility\": 4.4975}, {\"life_expect\": 58.553, \"pop\": 755000000, \"country\": \"India\", \"cluster\": 0, \"year\": 1985, \"fertility\": 4.15}, {\"life_expect\": 60.223, \"pop\": 839000000, \"country\": \"India\", \"cluster\": 0, \"year\": 1990, \"fertility\": 3.8648}, {\"life_expect\": 61.765, \"pop\": 927000000, \"country\": \"India\", \"cluster\": 0, \"year\": 1995, \"fertility\": 3.4551}, {\"life_expect\": 62.879, \"pop\": 1007702000, \"country\": \"India\", \"cluster\": 0, \"year\": 2000, \"fertility\": 3.1132}, {\"life_expect\": 64.698, \"pop\": 1080264388, \"country\": \"India\", \"cluster\": 0, \"year\": 2005, \"fertility\": 2.8073}, {\"life_expect\": 39.918, \"pop\": 86807000, \"country\": \"Indonesia\", \"cluster\": 4, \"year\": 1955, \"fertility\": 5.672}, {\"life_expect\": 42.518, \"pop\": 95254000, \"country\": \"Indonesia\", \"cluster\": 4, \"year\": 1960, \"fertility\": 5.62}, {\"life_expect\": 45.964, \"pop\": 105093000, \"country\": \"Indonesia\", \"cluster\": 4, \"year\": 1965, \"fertility\": 5.568}, {\"life_expect\": 49.203, \"pop\": 116044000, \"country\": \"Indonesia\", \"cluster\": 4, \"year\": 1970, \"fertility\": 5.3}, {\"life_expect\": 52.702, \"pop\": 130297000, \"country\": \"Indonesia\", \"cluster\": 4, \"year\": 1975, \"fertility\": 4.73}, {\"life_expect\": 56.159, \"pop\": 146995000, \"country\": \"Indonesia\", \"cluster\": 4, \"year\": 1980, \"fertility\": 4.109}, {\"life_expect\": 60.137, \"pop\": 163403000, \"country\": \"Indonesia\", \"cluster\": 4, \"year\": 1985, \"fertility\": 3.4}, {\"life_expect\": 62.681, \"pop\": 178500000, \"country\": \"Indonesia\", \"cluster\": 4, \"year\": 1990, \"fertility\": 2.9}, {\"life_expect\": 66.041, \"pop\": 194755000, \"country\": \"Indonesia\", \"cluster\": 4, \"year\": 1995, \"fertility\": 2.55}, {\"life_expect\": 68.588, \"pop\": 206265000, \"country\": \"Indonesia\", \"cluster\": 4, \"year\": 2000, \"fertility\": 2.3761}, {\"life_expect\": 70.65, \"pop\": 218465000, \"country\": \"Indonesia\", \"cluster\": 4, \"year\": 2005, \"fertility\": 2.182}, {\"life_expect\": 47.181, \"pop\": 18729000, \"country\": \"Iran\", \"cluster\": 5, \"year\": 1955, \"fertility\": 7.0}, {\"life_expect\": 49.325, \"pop\": 21577000, \"country\": \"Iran\", \"cluster\": 5, \"year\": 1960, \"fertility\": 7.0}, {\"life_expect\": 52.469, \"pop\": 25000000, \"country\": \"Iran\", \"cluster\": 5, \"year\": 1965, \"fertility\": 6.8}, {\"life_expect\": 55.234, \"pop\": 28933000, \"country\": \"Iran\", \"cluster\": 5, \"year\": 1970, \"fertility\": 6.4}, {\"life_expect\": 57.702, \"pop\": 33379000, \"country\": \"Iran\", \"cluster\": 5, \"year\": 1975, \"fertility\": 6.5}, {\"life_expect\": 59.62, \"pop\": 39583397, \"country\": \"Iran\", \"cluster\": 5, \"year\": 1980, \"fertility\": 6.63}, {\"life_expect\": 63.04, \"pop\": 48439952, \"country\": \"Iran\", \"cluster\": 5, \"year\": 1985, \"fertility\": 5.62}, {\"life_expect\": 65.742, \"pop\": 57035717, \"country\": \"Iran\", \"cluster\": 5, \"year\": 1990, \"fertility\": 4.328}, {\"life_expect\": 68.042, \"pop\": 61628116, \"country\": \"Iran\", \"cluster\": 5, \"year\": 1995, \"fertility\": 2.534}, {\"life_expect\": 69.451, \"pop\": 65660289, \"country\": \"Iran\", \"cluster\": 5, \"year\": 2000, \"fertility\": 2.124}, {\"life_expect\": 70.964, \"pop\": 68017860, \"country\": \"Iran\", \"cluster\": 5, \"year\": 2005, \"fertility\": 2.04}, {\"life_expect\": 48.437, \"pop\": 5903253, \"country\": \"Iraq\", \"cluster\": 5, \"year\": 1955, \"fertility\": 7.3}, {\"life_expect\": 51.457, \"pop\": 6822030, \"country\": \"Iraq\", \"cluster\": 5, \"year\": 1960, \"fertility\": 7.25}, {\"life_expect\": 54.459, \"pop\": 7970746, \"country\": \"Iraq\", \"cluster\": 5, \"year\": 1965, \"fertility\": 7.2}, {\"life_expect\": 56.95, \"pop\": 9413671, \"country\": \"Iraq\", \"cluster\": 5, \"year\": 1970, \"fertility\": 7.15}, {\"life_expect\": 60.413, \"pop\": 11117804, \"country\": \"Iraq\", \"cluster\": 5, \"year\": 1975, \"fertility\": 6.8}, {\"life_expect\": 62.038, \"pop\": 13232839, \"country\": \"Iraq\", \"cluster\": 5, \"year\": 1980, \"fertility\": 6.35}, {\"life_expect\": 65.044, \"pop\": 15693620, \"country\": \"Iraq\", \"cluster\": 5, \"year\": 1985, \"fertility\": 6.15}, {\"life_expect\": 59.461, \"pop\": 18134702, \"country\": \"Iraq\", \"cluster\": 5, \"year\": 1990, \"fertility\": 5.7}, {\"life_expect\": 58.811, \"pop\": 19557247, \"country\": \"Iraq\", \"cluster\": 5, \"year\": 1995, \"fertility\": 5.37}, {\"life_expect\": 57.046, \"pop\": 22675617, \"country\": \"Iraq\", \"cluster\": 5, \"year\": 2000, \"fertility\": 4.858}, {\"life_expect\": 59.545, \"pop\": 26074906, \"country\": \"Iraq\", \"cluster\": 5, \"year\": 2005, \"fertility\": 4.264}, {\"life_expect\": 68.9, \"pop\": 2916133, \"country\": \"Ireland\", \"cluster\": 1, \"year\": 1955, \"fertility\": 3.68}, {\"life_expect\": 70.29, \"pop\": 2832000, \"country\": \"Ireland\", \"cluster\": 1, \"year\": 1960, \"fertility\": 3.979}, {\"life_expect\": 71.08, \"pop\": 2876000, \"country\": \"Ireland\", \"cluster\": 1, \"year\": 1965, \"fertility\": 3.873}, {\"life_expect\": 71.28, \"pop\": 2950100, \"country\": \"Ireland\", \"cluster\": 1, \"year\": 1970, \"fertility\": 3.815}, {\"life_expect\": 72.03, \"pop\": 3177300, \"country\": \"Ireland\", \"cluster\": 1, \"year\": 1975, \"fertility\": 3.478}, {\"life_expect\": 73.1, \"pop\": 3401000, \"country\": \"Ireland\", \"cluster\": 1, \"year\": 1980, \"fertility\": 2.877}, {\"life_expect\": 74.36, \"pop\": 3540000, \"country\": \"Ireland\", \"cluster\": 1, \"year\": 1985, \"fertility\": 2.287}, {\"life_expect\": 75.467, \"pop\": 3508200, \"country\": \"Ireland\", \"cluster\": 1, \"year\": 1990, \"fertility\": 1.9689999999999999}, {\"life_expect\": 76.122, \"pop\": 3613890, \"country\": \"Ireland\", \"cluster\": 1, \"year\": 1995, \"fertility\": 1.9}, {\"life_expect\": 77.783, \"pop\": 3791690, \"country\": \"Ireland\", \"cluster\": 1, \"year\": 2000, \"fertility\": 1.9689999999999999}, {\"life_expect\": 78.885, \"pop\": 4015676, \"country\": \"Ireland\", \"cluster\": 1, \"year\": 2005, \"fertility\": 1.964}, {\"life_expect\": 67.84, \"pop\": 1772032, \"country\": \"Israel\", \"cluster\": 5, \"year\": 1955, \"fertility\": 3.893}, {\"life_expect\": 69.39, \"pop\": 2141495, \"country\": \"Israel\", \"cluster\": 5, \"year\": 1960, \"fertility\": 3.852}, {\"life_expect\": 70.75, \"pop\": 2578184, \"country\": \"Israel\", \"cluster\": 5, \"year\": 1965, \"fertility\": 3.79}, {\"life_expect\": 71.63, \"pop\": 2903434, \"country\": \"Israel\", \"cluster\": 5, \"year\": 1970, \"fertility\": 3.77}, {\"life_expect\": 73.06, \"pop\": 3354242, \"country\": \"Israel\", \"cluster\": 5, \"year\": 1975, \"fertility\": 3.409}, {\"life_expect\": 74.45, \"pop\": 3737473, \"country\": \"Israel\", \"cluster\": 5, \"year\": 1980, \"fertility\": 3.125}, {\"life_expect\": 75.6, \"pop\": 4074965, \"country\": \"Israel\", \"cluster\": 5, \"year\": 1985, \"fertility\": 3.051}, {\"life_expect\": 76.93, \"pop\": 4512068, \"country\": \"Israel\", \"cluster\": 5, \"year\": 1990, \"fertility\": 2.933}, {\"life_expect\": 78.269, \"pop\": 5305120, \"country\": \"Israel\", \"cluster\": 5, \"year\": 1995, \"fertility\": 2.942}, {\"life_expect\": 79.696, \"pop\": 5842454, \"country\": \"Israel\", \"cluster\": 5, \"year\": 2000, \"fertility\": 2.906}, {\"life_expect\": 80.745, \"pop\": 6276883, \"country\": \"Israel\", \"cluster\": 5, \"year\": 2005, \"fertility\": 2.75}, {\"life_expect\": 67.81, \"pop\": 48633000, \"country\": \"Italy\", \"cluster\": 1, \"year\": 1955, \"fertility\": 2.35}, {\"life_expect\": 69.24, \"pop\": 50197600, \"country\": \"Italy\", \"cluster\": 1, \"year\": 1960, \"fertility\": 2.498}, {\"life_expect\": 71.06, \"pop\": 51987100, \"country\": \"Italy\", \"cluster\": 1, \"year\": 1965, \"fertility\": 2.493}, {\"life_expect\": 72.19, \"pop\": 53661100, \"country\": \"Italy\", \"cluster\": 1, \"year\": 1970, \"fertility\": 2.325}, {\"life_expect\": 73.48, \"pop\": 55571894, \"country\": \"Italy\", \"cluster\": 1, \"year\": 1975, \"fertility\": 1.889}, {\"life_expect\": 74.98, \"pop\": 56451247, \"country\": \"Italy\", \"cluster\": 1, \"year\": 1980, \"fertility\": 1.53}, {\"life_expect\": 76.42, \"pop\": 56731215, \"country\": \"Italy\", \"cluster\": 1, \"year\": 1985, \"fertility\": 1.349}, {\"life_expect\": 77.44, \"pop\": 56742886, \"country\": \"Italy\", \"cluster\": 1, \"year\": 1990, \"fertility\": 1.275}, {\"life_expect\": 78.82, \"pop\": 57274531, \"country\": \"Italy\", \"cluster\": 1, \"year\": 1995, \"fertility\": 1.213}, {\"life_expect\": 80.24, \"pop\": 57719337, \"country\": \"Italy\", \"cluster\": 1, \"year\": 2000, \"fertility\": 1.286}, {\"life_expect\": 80.546, \"pop\": 58103033, \"country\": \"Italy\", \"cluster\": 1, \"year\": 2005, \"fertility\": 1.379}, {\"life_expect\": 62.61, \"pop\": 1488805, \"country\": \"Jamaica\", \"cluster\": 3, \"year\": 1955, \"fertility\": 5.08}, {\"life_expect\": 65.61, \"pop\": 1631784, \"country\": \"Jamaica\", \"cluster\": 3, \"year\": 1960, \"fertility\": 5.64}, {\"life_expect\": 67.51, \"pop\": 1777397, \"country\": \"Jamaica\", \"cluster\": 3, \"year\": 1965, \"fertility\": 5.78}, {\"life_expect\": 69.0, \"pop\": 1943787, \"country\": \"Jamaica\", \"cluster\": 3, \"year\": 1970, \"fertility\": 5.0}, {\"life_expect\": 70.11, \"pop\": 2104879, \"country\": \"Jamaica\", \"cluster\": 3, \"year\": 1975, \"fertility\": 4.0}, {\"life_expect\": 71.21, \"pop\": 2228803, \"country\": \"Jamaica\", \"cluster\": 3, \"year\": 1980, \"fertility\": 3.55}, {\"life_expect\": 71.77, \"pop\": 2318652, \"country\": \"Jamaica\", \"cluster\": 3, \"year\": 1985, \"fertility\": 3.1}, {\"life_expect\": 71.766, \"pop\": 2347922, \"country\": \"Jamaica\", \"cluster\": 3, \"year\": 1990, \"fertility\": 2.84}, {\"life_expect\": 72.262, \"pop\": 2469389, \"country\": \"Jamaica\", \"cluster\": 3, \"year\": 1995, \"fertility\": 2.67}, {\"life_expect\": 72.047, \"pop\": 2615467, \"country\": \"Jamaica\", \"cluster\": 3, \"year\": 2000, \"fertility\": 2.628}, {\"life_expect\": 72.567, \"pop\": 2735520, \"country\": \"Jamaica\", \"cluster\": 3, \"year\": 2005, \"fertility\": 2.4289}, {\"life_expect\": 65.5, \"pop\": 89815060, \"country\": \"Japan\", \"cluster\": 4, \"year\": 1955, \"fertility\": 2.08}, {\"life_expect\": 68.73, \"pop\": 94091638, \"country\": \"Japan\", \"cluster\": 4, \"year\": 1960, \"fertility\": 2.02}, {\"life_expect\": 71.43, \"pop\": 98882534, \"country\": \"Japan\", \"cluster\": 4, \"year\": 1965, \"fertility\": 2.0}, {\"life_expect\": 73.42, \"pop\": 104344973, \"country\": \"Japan\", \"cluster\": 4, \"year\": 1970, \"fertility\": 2.07}, {\"life_expect\": 75.38, \"pop\": 111573116, \"country\": \"Japan\", \"cluster\": 4, \"year\": 1975, \"fertility\": 1.81}, {\"life_expect\": 77.11, \"pop\": 116807309, \"country\": \"Japan\", \"cluster\": 4, \"year\": 1980, \"fertility\": 1.76}, {\"life_expect\": 78.67, \"pop\": 120754335, \"country\": \"Japan\", \"cluster\": 4, \"year\": 1985, \"fertility\": 1.6600000000000001}, {\"life_expect\": 79.36, \"pop\": 123537399, \"country\": \"Japan\", \"cluster\": 4, \"year\": 1990, \"fertility\": 1.49}, {\"life_expect\": 80.69, \"pop\": 125341354, \"country\": \"Japan\", \"cluster\": 4, \"year\": 1995, \"fertility\": 1.3900000000000001}, {\"life_expect\": 82.0, \"pop\": 126699784, \"country\": \"Japan\", \"cluster\": 4, \"year\": 2000, \"fertility\": 1.291}, {\"life_expect\": 82.603, \"pop\": 127417244, \"country\": \"Japan\", \"cluster\": 4, \"year\": 2005, \"fertility\": 1.27}, {\"life_expect\": 44.686, \"pop\": 7033999, \"country\": \"Kenya\", \"cluster\": 2, \"year\": 1955, \"fertility\": 7.816}, {\"life_expect\": 47.949, \"pop\": 8156827, \"country\": \"Kenya\", \"cluster\": 2, \"year\": 1960, \"fertility\": 8.12}, {\"life_expect\": 50.654, \"pop\": 9549179, \"country\": \"Kenya\", \"cluster\": 2, \"year\": 1965, \"fertility\": 8.12}, {\"life_expect\": 53.559, \"pop\": 11247182, \"country\": \"Kenya\", \"cluster\": 2, \"year\": 1970, \"fertility\": 8.0}, {\"life_expect\": 56.155, \"pop\": 13433414, \"country\": \"Kenya\", \"cluster\": 2, \"year\": 1975, \"fertility\": 7.6}, {\"life_expect\": 58.766, \"pop\": 16331401, \"country\": \"Kenya\", \"cluster\": 2, \"year\": 1980, \"fertility\": 7.2}, {\"life_expect\": 59.339, \"pop\": 19763285, \"country\": \"Kenya\", \"cluster\": 2, \"year\": 1985, \"fertility\": 6.5}, {\"life_expect\": 59.285, \"pop\": 23358413, \"country\": \"Kenya\", \"cluster\": 2, \"year\": 1990, \"fertility\": 5.4}, {\"life_expect\": 54.407, \"pop\": 27060142, \"country\": \"Kenya\", \"cluster\": 2, \"year\": 1995, \"fertility\": 5.0}, {\"life_expect\": 50.992, \"pop\": 29985839, \"country\": \"Kenya\", \"cluster\": 2, \"year\": 2000, \"fertility\": 5.0}, {\"life_expect\": 54.11, \"pop\": 33829590, \"country\": \"Kenya\", \"cluster\": 2, \"year\": 2005, \"fertility\": 4.959}, {\"life_expect\": 54.081, \"pop\": 8839427, \"country\": \"South Korea\", \"cluster\": 4, \"year\": 1955, \"fertility\": 3.8}, {\"life_expect\": 56.656, \"pop\": 10391909, \"country\": \"South Korea\", \"cluster\": 4, \"year\": 1960, \"fertility\": 3.41}, {\"life_expect\": 59.942, \"pop\": 11868751, \"country\": \"South Korea\", \"cluster\": 4, \"year\": 1965, \"fertility\": 4.09}, {\"life_expect\": 63.983, \"pop\": 13911902, \"country\": \"South Korea\", \"cluster\": 4, \"year\": 1970, \"fertility\": 3.7199999999999998}, {\"life_expect\": 67.159, \"pop\": 15801308, \"country\": \"South Korea\", \"cluster\": 4, \"year\": 1975, \"fertility\": 2.58}, {\"life_expect\": 69.1, \"pop\": 17113626, \"country\": \"South Korea\", \"cluster\": 4, \"year\": 1980, \"fertility\": 2.93}, {\"life_expect\": 70.647, \"pop\": 18481420, \"country\": \"South Korea\", \"cluster\": 4, \"year\": 1985, \"fertility\": 2.45}, {\"life_expect\": 69.978, \"pop\": 20018546, \"country\": \"South Korea\", \"cluster\": 4, \"year\": 1990, \"fertility\": 2.35}, {\"life_expect\": 67.727, \"pop\": 21561856, \"country\": \"South Korea\", \"cluster\": 4, \"year\": 1995, \"fertility\": 2.0938}, {\"life_expect\": 66.662, \"pop\": 21647682, \"country\": \"South Korea\", \"cluster\": 4, \"year\": 2000, \"fertility\": 1.9173}, {\"life_expect\": 67.297, \"pop\": 22912177, \"country\": \"South Korea\", \"cluster\": 4, \"year\": 2005, \"fertility\": 1.85}, {\"life_expect\": 52.681, \"pop\": 21551834, \"country\": \"North Korea\", \"cluster\": 4, \"year\": 1955, \"fertility\": 6.332}, {\"life_expect\": 55.292, \"pop\": 24784140, \"country\": \"North Korea\", \"cluster\": 4, \"year\": 1960, \"fertility\": 5.63}, {\"life_expect\": 57.716, \"pop\": 28705000, \"country\": \"North Korea\", \"cluster\": 4, \"year\": 1965, \"fertility\": 4.708}, {\"life_expect\": 62.612, \"pop\": 32241000, \"country\": \"North Korea\", \"cluster\": 4, \"year\": 1970, \"fertility\": 4.281}, {\"life_expect\": 64.766, \"pop\": 35281000, \"country\": \"North Korea\", \"cluster\": 4, \"year\": 1975, \"fertility\": 2.919}, {\"life_expect\": 67.123, \"pop\": 38124000, \"country\": \"North Korea\", \"cluster\": 4, \"year\": 1980, \"fertility\": 2.234}, {\"life_expect\": 69.81, \"pop\": 40806000, \"country\": \"North Korea\", \"cluster\": 4, \"year\": 1985, \"fertility\": 1.601}, {\"life_expect\": 72.244, \"pop\": 42869000, \"country\": \"North Korea\", \"cluster\": 4, \"year\": 1990, \"fertility\": 1.6960000000000002}, {\"life_expect\": 74.647, \"pop\": 45264146, \"country\": \"North Korea\", \"cluster\": 4, \"year\": 1995, \"fertility\": 1.514}, {\"life_expect\": 77.045, \"pop\": 47351083, \"country\": \"North Korea\", \"cluster\": 4, \"year\": 2000, \"fertility\": 1.242}, {\"life_expect\": 78.623, \"pop\": 48640671, \"country\": \"North Korea\", \"cluster\": 4, \"year\": 2005, \"fertility\": 1.21}, {\"life_expect\": 59.489, \"pop\": 1560985, \"country\": \"Lebanon\", \"cluster\": 5, \"year\": 1955, \"fertility\": 5.72}, {\"life_expect\": 62.094, \"pop\": 1786235, \"country\": \"Lebanon\", \"cluster\": 5, \"year\": 1960, \"fertility\": 5.689}, {\"life_expect\": 63.87, \"pop\": 2057945, \"country\": \"Lebanon\", \"cluster\": 5, \"year\": 1965, \"fertility\": 5.336}, {\"life_expect\": 65.421, \"pop\": 2383029, \"country\": \"Lebanon\", \"cluster\": 5, \"year\": 1970, \"fertility\": 4.78}, {\"life_expect\": 66.099, \"pop\": 3098159, \"country\": \"Lebanon\", \"cluster\": 5, \"year\": 1975, \"fertility\": 4.311}, {\"life_expect\": 66.983, \"pop\": 3085876, \"country\": \"Lebanon\", \"cluster\": 5, \"year\": 1980, \"fertility\": 3.895}, {\"life_expect\": 67.926, \"pop\": 3088235, \"country\": \"Lebanon\", \"cluster\": 5, \"year\": 1985, \"fertility\": 3.313}, {\"life_expect\": 69.292, \"pop\": 3147267, \"country\": \"Lebanon\", \"cluster\": 5, \"year\": 1990, \"fertility\": 3.0}, {\"life_expect\": 70.265, \"pop\": 3334733, \"country\": \"Lebanon\", \"cluster\": 5, \"year\": 1995, \"fertility\": 2.6950000000000003}, {\"life_expect\": 71.028, \"pop\": 3578036, \"country\": \"Lebanon\", \"cluster\": 5, \"year\": 2000, \"fertility\": 2.319}, {\"life_expect\": 71.993, \"pop\": 3826018, \"country\": \"Lebanon\", \"cluster\": 5, \"year\": 2005, \"fertility\": 2.209}, {\"life_expect\": 55.19, \"pop\": 32929914, \"country\": \"Mexico\", \"cluster\": 3, \"year\": 1955, \"fertility\": 6.8}, {\"life_expect\": 58.299, \"pop\": 38578505, \"country\": \"Mexico\", \"cluster\": 3, \"year\": 1960, \"fertility\": 6.7495}, {\"life_expect\": 60.11, \"pop\": 45142399, \"country\": \"Mexico\", \"cluster\": 3, \"year\": 1965, \"fertility\": 6.7495}, {\"life_expect\": 62.361, \"pop\": 52775158, \"country\": \"Mexico\", \"cluster\": 3, \"year\": 1970, \"fertility\": 6.5}, {\"life_expect\": 65.032, \"pop\": 60678045, \"country\": \"Mexico\", \"cluster\": 3, \"year\": 1975, \"fertility\": 5.2505}, {\"life_expect\": 67.405, \"pop\": 68347479, \"country\": \"Mexico\", \"cluster\": 3, \"year\": 1980, \"fertility\": 4.25}, {\"life_expect\": 69.498, \"pop\": 76767225, \"country\": \"Mexico\", \"cluster\": 3, \"year\": 1985, \"fertility\": 3.6295}, {\"life_expect\": 71.455, \"pop\": 84913652, \"country\": \"Mexico\", \"cluster\": 3, \"year\": 1990, \"fertility\": 3.1905}, {\"life_expect\": 73.67, \"pop\": 92880353, \"country\": \"Mexico\", \"cluster\": 3, \"year\": 1995, \"fertility\": 2.6705}, {\"life_expect\": 74.902, \"pop\": 99926620, \"country\": \"Mexico\", \"cluster\": 3, \"year\": 2000, \"fertility\": 2.4005}, {\"life_expect\": 76.195, \"pop\": 106202903, \"country\": \"Mexico\", \"cluster\": 3, \"year\": 2005, \"fertility\": 2.211}, {\"life_expect\": 72.99, \"pop\": 10750842, \"country\": \"Netherlands\", \"cluster\": 1, \"year\": 1955, \"fertility\": 3.095}, {\"life_expect\": 73.23, \"pop\": 11486000, \"country\": \"Netherlands\", \"cluster\": 1, \"year\": 1960, \"fertility\": 3.168}, {\"life_expect\": 73.82, \"pop\": 12292000, \"country\": \"Netherlands\", \"cluster\": 1, \"year\": 1965, \"fertility\": 2.797}, {\"life_expect\": 73.75, \"pop\": 13032335, \"country\": \"Netherlands\", \"cluster\": 1, \"year\": 1970, \"fertility\": 2.059}, {\"life_expect\": 75.24, \"pop\": 13653438, \"country\": \"Netherlands\", \"cluster\": 1, \"year\": 1975, \"fertility\": 1.596}, {\"life_expect\": 76.05, \"pop\": 14143901, \"country\": \"Netherlands\", \"cluster\": 1, \"year\": 1980, \"fertility\": 1.5150000000000001}, {\"life_expect\": 76.83, \"pop\": 14491380, \"country\": \"Netherlands\", \"cluster\": 1, \"year\": 1985, \"fertility\": 1.5550000000000002}, {\"life_expect\": 77.42, \"pop\": 14951510, \"country\": \"Netherlands\", \"cluster\": 1, \"year\": 1990, \"fertility\": 1.583}, {\"life_expect\": 78.03, \"pop\": 15459054, \"country\": \"Netherlands\", \"cluster\": 1, \"year\": 1995, \"fertility\": 1.6}, {\"life_expect\": 78.53, \"pop\": 15907853, \"country\": \"Netherlands\", \"cluster\": 1, \"year\": 2000, \"fertility\": 1.726}, {\"life_expect\": 79.762, \"pop\": 16407491, \"country\": \"Netherlands\", \"cluster\": 1, \"year\": 2005, \"fertility\": 1.721}, {\"life_expect\": 70.26, \"pop\": 2136168, \"country\": \"New Zealand\", \"cluster\": 4, \"year\": 1955, \"fertility\": 4.07}, {\"life_expect\": 71.24, \"pop\": 2371746, \"country\": \"New Zealand\", \"cluster\": 4, \"year\": 1960, \"fertility\": 4.022}, {\"life_expect\": 71.52, \"pop\": 2640400, \"country\": \"New Zealand\", \"cluster\": 4, \"year\": 1965, \"fertility\": 3.348}, {\"life_expect\": 71.89, \"pop\": 2828050, \"country\": \"New Zealand\", \"cluster\": 4, \"year\": 1970, \"fertility\": 2.843}, {\"life_expect\": 72.22, \"pop\": 3117800, \"country\": \"New Zealand\", \"cluster\": 4, \"year\": 1975, \"fertility\": 2.178}, {\"life_expect\": 73.84, \"pop\": 3170150, \"country\": \"New Zealand\", \"cluster\": 4, \"year\": 1980, \"fertility\": 1.963}, {\"life_expect\": 74.32, \"pop\": 3298050, \"country\": \"New Zealand\", \"cluster\": 4, \"year\": 1985, \"fertility\": 2.053}, {\"life_expect\": 76.33, \"pop\": 3359604, \"country\": \"New Zealand\", \"cluster\": 4, \"year\": 1990, \"fertility\": 2.061}, {\"life_expect\": 77.55, \"pop\": 3565990, \"country\": \"New Zealand\", \"cluster\": 4, \"year\": 1995, \"fertility\": 1.952}, {\"life_expect\": 79.11, \"pop\": 3819762, \"country\": \"New Zealand\", \"cluster\": 4, \"year\": 2000, \"fertility\": 1.964}, {\"life_expect\": 80.204, \"pop\": 4035461, \"country\": \"New Zealand\", \"cluster\": 4, \"year\": 2005, \"fertility\": 1.994}, {\"life_expect\": 37.802, \"pop\": 35458978, \"country\": \"Nigeria\", \"cluster\": 2, \"year\": 1955, \"fertility\": 6.9}, {\"life_expect\": 39.36, \"pop\": 39914593, \"country\": \"Nigeria\", \"cluster\": 2, \"year\": 1960, \"fertility\": 6.9}, {\"life_expect\": 41.04, \"pop\": 45020052, \"country\": \"Nigeria\", \"cluster\": 2, \"year\": 1965, \"fertility\": 6.9}, {\"life_expect\": 42.821, \"pop\": 51027516, \"country\": \"Nigeria\", \"cluster\": 2, \"year\": 1970, \"fertility\": 6.9}, {\"life_expect\": 44.514, \"pop\": 58522112, \"country\": \"Nigeria\", \"cluster\": 2, \"year\": 1975, \"fertility\": 6.9}, {\"life_expect\": 45.826, \"pop\": 68550274, \"country\": \"Nigeria\", \"cluster\": 2, \"year\": 1980, \"fertility\": 6.9}, {\"life_expect\": 46.886, \"pop\": 77573154, \"country\": \"Nigeria\", \"cluster\": 2, \"year\": 1985, \"fertility\": 6.834}, {\"life_expect\": 47.472, \"pop\": 88510354, \"country\": \"Nigeria\", \"cluster\": 2, \"year\": 1990, \"fertility\": 6.635}, {\"life_expect\": 47.464, \"pop\": 100960105, \"country\": \"Nigeria\", \"cluster\": 2, \"year\": 1995, \"fertility\": 6.246}, {\"life_expect\": 46.608, \"pop\": 114306700, \"country\": \"Nigeria\", \"cluster\": 2, \"year\": 2000, \"fertility\": 5.845}, {\"life_expect\": 46.859, \"pop\": 128765768, \"country\": \"Nigeria\", \"cluster\": 2, \"year\": 2005, \"fertility\": 5.322}, {\"life_expect\": 73.44, \"pop\": 3427409, \"country\": \"Norway\", \"cluster\": 1, \"year\": 1955, \"fertility\": 2.8369999999999997}, {\"life_expect\": 73.47, \"pop\": 3581239, \"country\": \"Norway\", \"cluster\": 1, \"year\": 1960, \"fertility\": 2.898}, {\"life_expect\": 74.08, \"pop\": 3723153, \"country\": \"Norway\", \"cluster\": 1, \"year\": 1965, \"fertility\": 2.719}, {\"life_expect\": 74.34, \"pop\": 3877386, \"country\": \"Norway\", \"cluster\": 1, \"year\": 1970, \"fertility\": 2.248}, {\"life_expect\": 75.37, \"pop\": 4007313, \"country\": \"Norway\", \"cluster\": 1, \"year\": 1975, \"fertility\": 1.81}, {\"life_expect\": 75.97, \"pop\": 4085620, \"country\": \"Norway\", \"cluster\": 1, \"year\": 1980, \"fertility\": 1.687}, {\"life_expect\": 75.89, \"pop\": 4152419, \"country\": \"Norway\", \"cluster\": 1, \"year\": 1985, \"fertility\": 1.8}, {\"life_expect\": 77.32, \"pop\": 4242006, \"country\": \"Norway\", \"cluster\": 1, \"year\": 1990, \"fertility\": 1.8860000000000001}, {\"life_expect\": 78.32, \"pop\": 4359101, \"country\": \"Norway\", \"cluster\": 1, \"year\": 1995, \"fertility\": 1.853}, {\"life_expect\": 79.05, \"pop\": 4492400, \"country\": \"Norway\", \"cluster\": 1, \"year\": 2000, \"fertility\": 1.8010000000000002}, {\"life_expect\": 80.196, \"pop\": 4593041, \"country\": \"Norway\", \"cluster\": 1, \"year\": 2005, \"fertility\": 1.8479999999999999}, {\"life_expect\": 45.557, \"pop\": 44434445, \"country\": \"Pakistan\", \"cluster\": 0, \"year\": 1955, \"fertility\": 6.6}, {\"life_expect\": 47.67, \"pop\": 50386898, \"country\": \"Pakistan\", \"cluster\": 0, \"year\": 1960, \"fertility\": 6.6}, {\"life_expect\": 49.8, \"pop\": 57494940, \"country\": \"Pakistan\", \"cluster\": 0, \"year\": 1965, \"fertility\": 6.6}, {\"life_expect\": 51.929, \"pop\": 65705964, \"country\": \"Pakistan\", \"cluster\": 0, \"year\": 1970, \"fertility\": 6.6}, {\"life_expect\": 54.043, \"pop\": 74711541, \"country\": \"Pakistan\", \"cluster\": 0, \"year\": 1975, \"fertility\": 6.6}, {\"life_expect\": 56.158, \"pop\": 85219117, \"country\": \"Pakistan\", \"cluster\": 0, \"year\": 1980, \"fertility\": 6.6}, {\"life_expect\": 58.245, \"pop\": 99060352, \"country\": \"Pakistan\", \"cluster\": 0, \"year\": 1985, \"fertility\": 6.66}, {\"life_expect\": 60.838, \"pop\": 114578478, \"country\": \"Pakistan\", \"cluster\": 0, \"year\": 1990, \"fertility\": 5.8}, {\"life_expect\": 61.818, \"pop\": 128690285, \"country\": \"Pakistan\", \"cluster\": 0, \"year\": 1995, \"fertility\": 4.9596}, {\"life_expect\": 63.61, \"pop\": 146342958, \"country\": \"Pakistan\", \"cluster\": 0, \"year\": 2000, \"fertility\": 3.9936}, {\"life_expect\": 65.483, \"pop\": 162419946, \"country\": \"Pakistan\", \"cluster\": 0, \"year\": 2005, \"fertility\": 3.5211}, {\"life_expect\": 46.263, \"pop\": 8671500, \"country\": \"Peru\", \"cluster\": 3, \"year\": 1955, \"fertility\": 6.853}, {\"life_expect\": 49.096, \"pop\": 9931000, \"country\": \"Peru\", \"cluster\": 3, \"year\": 1960, \"fertility\": 6.853}, {\"life_expect\": 51.445, \"pop\": 11467300, \"country\": \"Peru\", \"cluster\": 3, \"year\": 1965, \"fertility\": 6.5600000000000005}, {\"life_expect\": 55.448, \"pop\": 13192800, \"country\": \"Peru\", \"cluster\": 3, \"year\": 1970, \"fertility\": 6.0}, {\"life_expect\": 58.447, \"pop\": 15161199, \"country\": \"Peru\", \"cluster\": 3, \"year\": 1975, \"fertility\": 5.378}, {\"life_expect\": 61.406, \"pop\": 17295298, \"country\": \"Peru\", \"cluster\": 3, \"year\": 1980, \"fertility\": 4.65}, {\"life_expect\": 64.134, \"pop\": 19348926, \"country\": \"Peru\", \"cluster\": 3, \"year\": 1985, \"fertility\": 4.1}, {\"life_expect\": 66.458, \"pop\": 21511443, \"country\": \"Peru\", \"cluster\": 3, \"year\": 1990, \"fertility\": 3.7}, {\"life_expect\": 68.386, \"pop\": 23846388, \"country\": \"Peru\", \"cluster\": 3, \"year\": 1995, \"fertility\": 3.0995}, {\"life_expect\": 69.906, \"pop\": 25979722, \"country\": \"Peru\", \"cluster\": 3, \"year\": 2000, \"fertility\": 2.7005}, {\"life_expect\": 71.421, \"pop\": 27925628, \"country\": \"Peru\", \"cluster\": 3, \"year\": 2005, \"fertility\": 2.5065}, {\"life_expect\": 51.334, \"pop\": 24553055, \"country\": \"Philippines\", \"cluster\": 4, \"year\": 1955, \"fertility\": 7.13}, {\"life_expect\": 54.757, \"pop\": 28528939, \"country\": \"Philippines\", \"cluster\": 4, \"year\": 1960, \"fertility\": 6.85}, {\"life_expect\": 56.393, \"pop\": 33267569, \"country\": \"Philippines\", \"cluster\": 4, \"year\": 1965, \"fertility\": 6.5}, {\"life_expect\": 58.065, \"pop\": 38603696, \"country\": \"Philippines\", \"cluster\": 4, \"year\": 1970, \"fertility\": 6.0}, {\"life_expect\": 60.06, \"pop\": 44336842, \"country\": \"Philippines\", \"cluster\": 4, \"year\": 1975, \"fertility\": 5.5}, {\"life_expect\": 62.082, \"pop\": 50940182, \"country\": \"Philippines\", \"cluster\": 4, \"year\": 1980, \"fertility\": 4.95}, {\"life_expect\": 64.151, \"pop\": 57288037, \"country\": \"Philippines\", \"cluster\": 4, \"year\": 1985, \"fertility\": 4.55}, {\"life_expect\": 66.458, \"pop\": 64318120, \"country\": \"Philippines\", \"cluster\": 4, \"year\": 1990, \"fertility\": 4.143}, {\"life_expect\": 68.564, \"pop\": 71717437, \"country\": \"Philippines\", \"cluster\": 4, \"year\": 1995, \"fertility\": 3.7248}, {\"life_expect\": 70.303, \"pop\": 79739825, \"country\": \"Philippines\", \"cluster\": 4, \"year\": 2000, \"fertility\": 3.5436}, {\"life_expect\": 71.688, \"pop\": 87857473, \"country\": \"Philippines\", \"cluster\": 4, \"year\": 2005, \"fertility\": 3.2327}, {\"life_expect\": 65.77, \"pop\": 27220668, \"country\": \"Poland\", \"cluster\": 1, \"year\": 1955, \"fertility\": 3.29}, {\"life_expect\": 67.64, \"pop\": 29589842, \"country\": \"Poland\", \"cluster\": 1, \"year\": 1960, \"fertility\": 2.65}, {\"life_expect\": 69.61, \"pop\": 31262358, \"country\": \"Poland\", \"cluster\": 1, \"year\": 1965, \"fertility\": 2.27}, {\"life_expect\": 70.85, \"pop\": 32526000, \"country\": \"Poland\", \"cluster\": 1, \"year\": 1970, \"fertility\": 2.25}, {\"life_expect\": 70.67, \"pop\": 33969240, \"country\": \"Poland\", \"cluster\": 1, \"year\": 1975, \"fertility\": 2.26}, {\"life_expect\": 71.32, \"pop\": 35578016, \"country\": \"Poland\", \"cluster\": 1, \"year\": 1980, \"fertility\": 2.33}, {\"life_expect\": 70.98, \"pop\": 37225792, \"country\": \"Poland\", \"cluster\": 1, \"year\": 1985, \"fertility\": 2.15}, {\"life_expect\": 70.99, \"pop\": 38119408, \"country\": \"Poland\", \"cluster\": 1, \"year\": 1990, \"fertility\": 1.8900000000000001}, {\"life_expect\": 72.75, \"pop\": 38600642, \"country\": \"Poland\", \"cluster\": 1, \"year\": 1995, \"fertility\": 1.478}, {\"life_expect\": 74.67, \"pop\": 38654164, \"country\": \"Poland\", \"cluster\": 1, \"year\": 2000, \"fertility\": 1.251}, {\"life_expect\": 75.563, \"pop\": 38557984, \"country\": \"Poland\", \"cluster\": 1, \"year\": 2005, \"fertility\": 1.227}, {\"life_expect\": 61.51, \"pop\": 8692600, \"country\": \"Portugal\", \"cluster\": 1, \"year\": 1955, \"fertility\": 3.03}, {\"life_expect\": 64.39, \"pop\": 9036700, \"country\": \"Portugal\", \"cluster\": 1, \"year\": 1960, \"fertility\": 3.074}, {\"life_expect\": 66.6, \"pop\": 9128850, \"country\": \"Portugal\", \"cluster\": 1, \"year\": 1965, \"fertility\": 2.849}, {\"life_expect\": 69.26, \"pop\": 9044200, \"country\": \"Portugal\", \"cluster\": 1, \"year\": 1970, \"fertility\": 2.748}, {\"life_expect\": 70.41, \"pop\": 9411090, \"country\": \"Portugal\", \"cluster\": 1, \"year\": 1975, \"fertility\": 2.41}, {\"life_expect\": 72.77, \"pop\": 9777800, \"country\": \"Portugal\", \"cluster\": 1, \"year\": 1980, \"fertility\": 1.982}, {\"life_expect\": 74.06, \"pop\": 9897192, \"country\": \"Portugal\", \"cluster\": 1, \"year\": 1985, \"fertility\": 1.5939999999999999}, {\"life_expect\": 74.86, \"pop\": 9922689, \"country\": \"Portugal\", \"cluster\": 1, \"year\": 1990, \"fertility\": 1.516}, {\"life_expect\": 75.97, \"pop\": 10065543, \"country\": \"Portugal\", \"cluster\": 1, \"year\": 1995, \"fertility\": 1.475}, {\"life_expect\": 77.29, \"pop\": 10335597, \"country\": \"Portugal\", \"cluster\": 1, \"year\": 2000, \"fertility\": 1.454}, {\"life_expect\": 78.098, \"pop\": 10566212, \"country\": \"Portugal\", \"cluster\": 1, \"year\": 2005, \"fertility\": 1.455}, {\"life_expect\": 41.5, \"pop\": 2698272, \"country\": \"Rwanda\", \"cluster\": 2, \"year\": 1955, \"fertility\": 8.0}, {\"life_expect\": 43.0, \"pop\": 3031804, \"country\": \"Rwanda\", \"cluster\": 2, \"year\": 1960, \"fertility\": 8.1}, {\"life_expect\": 44.1, \"pop\": 3264640, \"country\": \"Rwanda\", \"cluster\": 2, \"year\": 1965, \"fertility\": 8.2}, {\"life_expect\": 44.6, \"pop\": 3769171, \"country\": \"Rwanda\", \"cluster\": 2, \"year\": 1970, \"fertility\": 8.29}, {\"life_expect\": 45.0, \"pop\": 4356863, \"country\": \"Rwanda\", \"cluster\": 2, \"year\": 1975, \"fertility\": 8.492}, {\"life_expect\": 46.218, \"pop\": 5138689, \"country\": \"Rwanda\", \"cluster\": 2, \"year\": 1980, \"fertility\": 8.5}, {\"life_expect\": 44.02, \"pop\": 6009833, \"country\": \"Rwanda\", \"cluster\": 2, \"year\": 1985, \"fertility\": 8.25}, {\"life_expect\": 23.599, \"pop\": 6923738, \"country\": \"Rwanda\", \"cluster\": 2, \"year\": 1990, \"fertility\": 6.9}, {\"life_expect\": 36.087, \"pop\": 5706501, \"country\": \"Rwanda\", \"cluster\": 2, \"year\": 1995, \"fertility\": 6.0993}, {\"life_expect\": 43.413, \"pop\": 7507056, \"country\": \"Rwanda\", \"cluster\": 2, \"year\": 2000, \"fertility\": 6.01}, {\"life_expect\": 46.242, \"pop\": 8440820, \"country\": \"Rwanda\", \"cluster\": 2, \"year\": 2005, \"fertility\": 5.9169}, {\"life_expect\": 42.868, \"pop\": 4243218, \"country\": \"Saudi Arabia\", \"cluster\": 5, \"year\": 1955, \"fertility\": 7.175}, {\"life_expect\": 45.914, \"pop\": 4718301, \"country\": \"Saudi Arabia\", \"cluster\": 5, \"year\": 1960, \"fertility\": 7.257}, {\"life_expect\": 49.901, \"pop\": 5327432, \"country\": \"Saudi Arabia\", \"cluster\": 5, \"year\": 1965, \"fertility\": 7.257}, {\"life_expect\": 53.886, \"pop\": 6109051, \"country\": \"Saudi Arabia\", \"cluster\": 5, \"year\": 1970, \"fertility\": 7.298}, {\"life_expect\": 58.69, \"pop\": 7204820, \"country\": \"Saudi Arabia\", \"cluster\": 5, \"year\": 1975, \"fertility\": 7.2780000000000005}, {\"life_expect\": 63.012, \"pop\": 9999161, \"country\": \"Saudi Arabia\", \"cluster\": 5, \"year\": 1980, \"fertility\": 7.015}, {\"life_expect\": 66.295, \"pop\": 13330067, \"country\": \"Saudi Arabia\", \"cluster\": 5, \"year\": 1985, \"fertility\": 6.217}, {\"life_expect\": 68.768, \"pop\": 16060761, \"country\": \"Saudi Arabia\", \"cluster\": 5, \"year\": 1990, \"fertility\": 5.446}, {\"life_expect\": 70.533, \"pop\": 19966998, \"country\": \"Saudi Arabia\", \"cluster\": 5, \"year\": 1995, \"fertility\": 4.621}, {\"life_expect\": 71.626, \"pop\": 23153090, \"country\": \"Saudi Arabia\", \"cluster\": 5, \"year\": 2000, \"fertility\": 3.81}, {\"life_expect\": 72.777, \"pop\": 26417599, \"country\": \"Saudi Arabia\", \"cluster\": 5, \"year\": 2005, \"fertility\": 3.352}, {\"life_expect\": 47.985, \"pop\": 15368551, \"country\": \"South Africa\", \"cluster\": 2, \"year\": 1955, \"fertility\": 6.5}, {\"life_expect\": 49.951, \"pop\": 17416653, \"country\": \"South Africa\", \"cluster\": 2, \"year\": 1960, \"fertility\": 6.3}, {\"life_expect\": 51.927, \"pop\": 19898242, \"country\": \"South Africa\", \"cluster\": 2, \"year\": 1965, \"fertility\": 5.7}, {\"life_expect\": 53.696, \"pop\": 22739921, \"country\": \"South Africa\", \"cluster\": 2, \"year\": 1970, \"fertility\": 5.47}, {\"life_expect\": 55.527, \"pop\": 25815144, \"country\": \"South Africa\", \"cluster\": 2, \"year\": 1975, \"fertility\": 5.0}, {\"life_expect\": 58.161, \"pop\": 29251588, \"country\": \"South Africa\", \"cluster\": 2, \"year\": 1980, \"fertility\": 4.556}, {\"life_expect\": 60.834, \"pop\": 34254092, \"country\": \"South Africa\", \"cluster\": 2, \"year\": 1985, \"fertility\": 3.85}, {\"life_expect\": 61.888, \"pop\": 38391094, \"country\": \"South Africa\", \"cluster\": 2, \"year\": 1990, \"fertility\": 3.343}, {\"life_expect\": 60.236, \"pop\": 41779149, \"country\": \"South Africa\", \"cluster\": 2, \"year\": 1995, \"fertility\": 2.954}, {\"life_expect\": 53.365, \"pop\": 44066197, \"country\": \"South Africa\", \"cluster\": 2, \"year\": 2000, \"fertility\": 2.802}, {\"life_expect\": 49.339, \"pop\": 44344136, \"country\": \"South Africa\", \"cluster\": 2, \"year\": 2005, \"fertility\": 2.637}, {\"life_expect\": 66.66, \"pop\": 29318745, \"country\": \"Spain\", \"cluster\": 1, \"year\": 1955, \"fertility\": 2.75}, {\"life_expect\": 69.69, \"pop\": 30641187, \"country\": \"Spain\", \"cluster\": 1, \"year\": 1960, \"fertility\": 2.89}, {\"life_expect\": 71.44, \"pop\": 32084511, \"country\": \"Spain\", \"cluster\": 1, \"year\": 1965, \"fertility\": 2.92}, {\"life_expect\": 73.06, \"pop\": 33876479, \"country\": \"Spain\", \"cluster\": 1, \"year\": 1970, \"fertility\": 2.86}, {\"life_expect\": 74.39, \"pop\": 35563535, \"country\": \"Spain\", \"cluster\": 1, \"year\": 1975, \"fertility\": 2.5700000000000003}, {\"life_expect\": 76.3, \"pop\": 37488360, \"country\": \"Spain\", \"cluster\": 1, \"year\": 1980, \"fertility\": 1.8900000000000001}, {\"life_expect\": 76.9, \"pop\": 38534853, \"country\": \"Spain\", \"cluster\": 1, \"year\": 1985, \"fertility\": 1.48}, {\"life_expect\": 77.57, \"pop\": 39350769, \"country\": \"Spain\", \"cluster\": 1, \"year\": 1990, \"fertility\": 1.27}, {\"life_expect\": 78.77, \"pop\": 39749715, \"country\": \"Spain\", \"cluster\": 1, \"year\": 1995, \"fertility\": 1.182}, {\"life_expect\": 79.78, \"pop\": 40016081, \"country\": \"Spain\", \"cluster\": 1, \"year\": 2000, \"fertility\": 1.287}, {\"life_expect\": 80.941, \"pop\": 40341462, \"country\": \"Spain\", \"cluster\": 1, \"year\": 2005, \"fertility\": 1.409}, {\"life_expect\": 70.56, \"pop\": 4980000, \"country\": \"Switzerland\", \"cluster\": 1, \"year\": 1955, \"fertility\": 2.34}, {\"life_expect\": 71.32, \"pop\": 5362000, \"country\": \"Switzerland\", \"cluster\": 1, \"year\": 1960, \"fertility\": 2.51}, {\"life_expect\": 72.77, \"pop\": 5943000, \"country\": \"Switzerland\", \"cluster\": 1, \"year\": 1965, \"fertility\": 2.27}, {\"life_expect\": 73.78, \"pop\": 6267000, \"country\": \"Switzerland\", \"cluster\": 1, \"year\": 1970, \"fertility\": 1.82}, {\"life_expect\": 75.39, \"pop\": 6403500, \"country\": \"Switzerland\", \"cluster\": 1, \"year\": 1975, \"fertility\": 1.53}, {\"life_expect\": 76.21, \"pop\": 6385229, \"country\": \"Switzerland\", \"cluster\": 1, \"year\": 1980, \"fertility\": 1.53}, {\"life_expect\": 77.41, \"pop\": 6563770, \"country\": \"Switzerland\", \"cluster\": 1, \"year\": 1985, \"fertility\": 1.53}, {\"life_expect\": 78.03, \"pop\": 6836626, \"country\": \"Switzerland\", \"cluster\": 1, \"year\": 1990, \"fertility\": 1.54}, {\"life_expect\": 79.37, \"pop\": 7157106, \"country\": \"Switzerland\", \"cluster\": 1, \"year\": 1995, \"fertility\": 1.47}, {\"life_expect\": 80.62, \"pop\": 7266920, \"country\": \"Switzerland\", \"cluster\": 1, \"year\": 2000, \"fertility\": 1.415}, {\"life_expect\": 81.701, \"pop\": 7489370, \"country\": \"Switzerland\", \"cluster\": 1, \"year\": 2005, \"fertility\": 1.42}, {\"life_expect\": 48.079, \"pop\": 24144571, \"country\": \"Turkey\", \"cluster\": 1, \"year\": 1955, \"fertility\": 6.6}, {\"life_expect\": 52.098, \"pop\": 28217122, \"country\": \"Turkey\", \"cluster\": 1, \"year\": 1960, \"fertility\": 6.19}, {\"life_expect\": 54.336, \"pop\": 31950718, \"country\": \"Turkey\", \"cluster\": 1, \"year\": 1965, \"fertility\": 5.7}, {\"life_expect\": 57.005, \"pop\": 35758382, \"country\": \"Turkey\", \"cluster\": 1, \"year\": 1970, \"fertility\": 5.3}, {\"life_expect\": 59.507, \"pop\": 40529798, \"country\": \"Turkey\", \"cluster\": 1, \"year\": 1975, \"fertility\": 4.715}, {\"life_expect\": 61.036, \"pop\": 45120802, \"country\": \"Turkey\", \"cluster\": 1, \"year\": 1980, \"fertility\": 4.15}, {\"life_expect\": 63.108, \"pop\": 50669003, \"country\": \"Turkey\", \"cluster\": 1, \"year\": 1985, \"fertility\": 3.276}, {\"life_expect\": 66.146, \"pop\": 56084632, \"country\": \"Turkey\", \"cluster\": 1, \"year\": 1990, \"fertility\": 2.904}, {\"life_expect\": 68.835, \"pop\": 61188984, \"country\": \"Turkey\", \"cluster\": 1, \"year\": 1995, \"fertility\": 2.574}, {\"life_expect\": 70.845, \"pop\": 65666677, \"country\": \"Turkey\", \"cluster\": 1, \"year\": 2000, \"fertility\": 2.23}, {\"life_expect\": 71.777, \"pop\": 69660559, \"country\": \"Turkey\", \"cluster\": 1, \"year\": 2005, \"fertility\": 2.143}, {\"life_expect\": 70.42, \"pop\": 50946000, \"country\": \"United Kingdom\", \"cluster\": 1, \"year\": 1955, \"fertility\": 2.49}, {\"life_expect\": 70.76, \"pop\": 52372000, \"country\": \"United Kingdom\", \"cluster\": 1, \"year\": 1960, \"fertility\": 2.81}, {\"life_expect\": 71.36, \"pop\": 54350000, \"country\": \"United Kingdom\", \"cluster\": 1, \"year\": 1965, \"fertility\": 2.52}, {\"life_expect\": 72.01, \"pop\": 55632000, \"country\": \"United Kingdom\", \"cluster\": 1, \"year\": 1970, \"fertility\": 2.04}, {\"life_expect\": 72.76, \"pop\": 56215000, \"country\": \"United Kingdom\", \"cluster\": 1, \"year\": 1975, \"fertility\": 1.72}, {\"life_expect\": 74.04, \"pop\": 56314000, \"country\": \"United Kingdom\", \"cluster\": 1, \"year\": 1980, \"fertility\": 1.8}, {\"life_expect\": 75.007, \"pop\": 56620240, \"country\": \"United Kingdom\", \"cluster\": 1, \"year\": 1985, \"fertility\": 1.81}, {\"life_expect\": 76.42, \"pop\": 57493307, \"country\": \"United Kingdom\", \"cluster\": 1, \"year\": 1990, \"fertility\": 1.78}, {\"life_expect\": 77.218, \"pop\": 58426014, \"country\": \"United Kingdom\", \"cluster\": 1, \"year\": 1995, \"fertility\": 1.7000000000000002}, {\"life_expect\": 78.471, \"pop\": 59522468, \"country\": \"United Kingdom\", \"cluster\": 1, \"year\": 2000, \"fertility\": 1.695}, {\"life_expect\": 79.425, \"pop\": 60441457, \"country\": \"United Kingdom\", \"cluster\": 1, \"year\": 2005, \"fertility\": 1.815}, {\"life_expect\": 69.49, \"pop\": 165931000, \"country\": \"United States\", \"cluster\": 3, \"year\": 1955, \"fertility\": 3.706}, {\"life_expect\": 70.21, \"pop\": 180671000, \"country\": \"United States\", \"cluster\": 3, \"year\": 1960, \"fertility\": 3.314}, {\"life_expect\": 70.76, \"pop\": 194303000, \"country\": \"United States\", \"cluster\": 3, \"year\": 1965, \"fertility\": 2.545}, {\"life_expect\": 71.34, \"pop\": 205052000, \"country\": \"United States\", \"cluster\": 3, \"year\": 1970, \"fertility\": 2.016}, {\"life_expect\": 73.38, \"pop\": 215973000, \"country\": \"United States\", \"cluster\": 3, \"year\": 1975, \"fertility\": 1.788}, {\"life_expect\": 74.65, \"pop\": 227726463, \"country\": \"United States\", \"cluster\": 3, \"year\": 1980, \"fertility\": 1.8250000000000002}, {\"life_expect\": 75.02, \"pop\": 238466283, \"country\": \"United States\", \"cluster\": 3, \"year\": 1985, \"fertility\": 1.924}, {\"life_expect\": 76.09, \"pop\": 250131894, \"country\": \"United States\", \"cluster\": 3, \"year\": 1990, \"fertility\": 2.025}, {\"life_expect\": 76.81, \"pop\": 266557091, \"country\": \"United States\", \"cluster\": 3, \"year\": 1995, \"fertility\": 1.994}, {\"life_expect\": 77.31, \"pop\": 282338631, \"country\": \"United States\", \"cluster\": 3, \"year\": 2000, \"fertility\": 2.038}, {\"life_expect\": 78.242, \"pop\": 295734134, \"country\": \"United States\", \"cluster\": 3, \"year\": 2005, \"fertility\": 2.054}, {\"life_expect\": 57.907, \"pop\": 6170497, \"country\": \"Venezuela\", \"cluster\": 3, \"year\": 1955, \"fertility\": 6.4585}, {\"life_expect\": 60.77, \"pop\": 7556483, \"country\": \"Venezuela\", \"cluster\": 3, \"year\": 1960, \"fertility\": 6.657}, {\"life_expect\": 63.479, \"pop\": 9067735, \"country\": \"Venezuela\", \"cluster\": 3, \"year\": 1965, \"fertility\": 5.9045000000000005}, {\"life_expect\": 65.712, \"pop\": 10758017, \"country\": \"Venezuela\", \"cluster\": 3, \"year\": 1970, \"fertility\": 4.941}, {\"life_expect\": 67.456, \"pop\": 12674987, \"country\": \"Venezuela\", \"cluster\": 3, \"year\": 1975, \"fertility\": 4.4685}, {\"life_expect\": 68.557, \"pop\": 14767890, \"country\": \"Venezuela\", \"cluster\": 3, \"year\": 1980, \"fertility\": 3.957}, {\"life_expect\": 70.19, \"pop\": 16997509, \"country\": \"Venezuela\", \"cluster\": 3, \"year\": 1985, \"fertility\": 3.6485000000000003}, {\"life_expect\": 71.15, \"pop\": 19325222, \"country\": \"Venezuela\", \"cluster\": 3, \"year\": 1990, \"fertility\": 3.25}, {\"life_expect\": 72.146, \"pop\": 21555902, \"country\": \"Venezuela\", \"cluster\": 3, \"year\": 1995, \"fertility\": 2.9415}, {\"life_expect\": 72.766, \"pop\": 23542649, \"country\": \"Venezuela\", \"cluster\": 3, \"year\": 2000, \"fertility\": 2.723}, {\"life_expect\": 73.747, \"pop\": 25375281, \"country\": \"Venezuela\", \"cluster\": 3, \"year\": 2005, \"fertility\": 2.547}]}, \"$schema\": \"https://vega.github.io/schema/vega-lite/v2.6.0.json\", \"repeat\": {\"column\": [\"life_expect\", \"fertility\", \"pop\"], \"row\": [\"life_expect\", \"fertility\", \"pop\"]}, \"config\": {\"view\": {\"width\": 400, \"height\": 300}}, \"spec\": {\"encoding\": {\"y\": {\"field\": {\"repeat\": \"row\"}, \"type\": \"quantitative\"}, \"x\": {\"field\": {\"repeat\": \"column\"}, \"type\": \"quantitative\"}}, \"width\": 175, \"mark\": \"point\", \"data\": {\"name\": \"data-89be1acdd14c7effd56f4dd0fabf92c3\"}, \"height\": 175}};\n",
              "      var embedOpt = {\"mode\": \"vega-lite\"};\n",
              "\n",
              "      function showError(el, error){\n",
              "          el.innerHTML = ('<div class=\"error\" style=\"color:red;\">'\n",
              "                          + '<p>JavaScript Error: ' + error.message + '</p>'\n",
              "                          + \"<p>This usually means there's a typo in your chart specification. \"\n",
              "                          + \"See the javascript console for the full traceback.</p>\"\n",
              "                          + '</div>');\n",
              "          throw error;\n",
              "      }\n",
              "      const el = document.getElementById('altair-viz');\n",
              "      vegaEmbed(\"#altair-viz\", spec, embedOpt)\n",
              "        .catch(error => showError(el, error));\n",
              "\n",
              "  </script>\n",
              "</body>\n",
              "</html>"
            ]
          },
          "metadata": {
            "tags": []
          },
          "execution_count": 51
        }
      ]
    },
    {
      "metadata": {
        "id": "7JQuhhEp5D1U",
        "colab_type": "text"
      },
      "cell_type": "markdown",
      "source": [
        "**Create 2 more multivariate visualizations, exploring a range of marks and encoding channels.**"
      ]
    },
    {
      "metadata": {
        "id": "84Q--VCVkwUN",
        "colab_type": "code",
        "colab": {}
      },
      "cell_type": "code",
      "source": [
        ""
      ],
      "execution_count": 0,
      "outputs": []
    },
    {
      "metadata": {
        "id": "IyHAxv7s5Fjs",
        "colab_type": "code",
        "colab": {}
      },
      "cell_type": "code",
      "source": [
        ""
      ],
      "execution_count": 0,
      "outputs": []
    },
    {
      "metadata": {
        "id": "-xeXR-z7lVpS",
        "colab_type": "text"
      },
      "cell_type": "markdown",
      "source": [
        "## Effective Visual Encoding\n",
        "\n",
        "When we map data values to encoding channels, Altair/Vega-Lite makes a number of design decisions for us including what colors and sizes are used for plotted points, the size of the visualization, and how the axes ticks are drawn.\n",
        "\n",
        "To more effectively encode our data, we may wish to customize these defaults. And, in order to do so, we need to dig into _how_ visual encoding occurs. The workhorse that actually performs this mapping is called a _scale_: a function that takes a data value as input (the scale _domain_) and returns a visual value, such as a pixel position or RGB color, as output (the scale _range_). These scale functions are themselves visualized using _guides_: _axes_ visualize scales with spatial ranges and _legends_ visual scales with color, size, or shape ranges."
      ]
    },
    {
      "metadata": {
        "id": "xM_91a_s0ZtJ",
        "colab_type": "text"
      },
      "cell_type": "markdown",
      "source": [
        "Let's look again at our bubble chart for the year 2000:\n",
        "\n",
        "![Gapminder bubble chart](https://drive.google.com/uc?export=view&id=1koeBxLHMZ-VTErxK2ndTDtBnhrQmWa6m)\n",
        "\n",
        "By default, for linear quantitative scales, Altair/Vega-Lite includes zero to ensure a proper baseline for comparing ratio-valued data. However, in some cases, a zero baseline may be meaningless, or you may want to focus on interval comparisons.\n",
        "\n",
        "**Use [`alt.Scale`](https://altair-viz.github.io/user_guide/generated/core/altair.Scale.html#altair.Scale) to disable automatic zero-inclusion** for both axes to produce the following visualization:\n",
        "\n",
        "![Non-zero Gapminder bubble chart](https://drive.google.com/uc?export=view&id=1vsxVpeJoDpOnqhcCcCYIt48_9u4Bn53s)\n",
        "\n"
      ]
    },
    {
      "metadata": {
        "id": "BrQRFkq45i1k",
        "colab_type": "code",
        "colab": {}
      },
      "cell_type": "code",
      "source": [
        ""
      ],
      "execution_count": 0,
      "outputs": []
    },
    {
      "metadata": {
        "id": "ncqOyTE35jZS",
        "colab_type": "text"
      },
      "cell_type": "markdown",
      "source": [
        "Now the axis scales no longer include zero by default. Some padding still remains as the axis domain end points are automatically snapped to _nice_ numbers like multiples of 5 or 10. \n",
        "\n",
        "**What happens if you disable niceness?**"
      ]
    },
    {
      "metadata": {
        "id": "GaLxu0Xs5uMC",
        "colab_type": "code",
        "colab": {}
      },
      "cell_type": "code",
      "source": [
        ""
      ],
      "execution_count": 0,
      "outputs": []
    },
    {
      "metadata": {
        "id": "8nMdTjOE6Vam",
        "colab_type": "text"
      },
      "cell_type": "markdown",
      "source": [
        "Next, let's take a look at our _size_ channel. It encodes population but the plotted sizes are dominated by two countries: India and China (add a `tooltip` encoding to confirm this).\n",
        "\n",
        "One fix might be to have population values map to a wider _range_ of circle sizes. We can specify this by **customizing our size scale's `range` (e.g., `[0, 1000]`)**.\n",
        "\n",
        "![Bubble Chart with larger bubbles](https://drive.google.com/uc?export=view&id=1lxYc4k1zXd2B0MgQgQRIZYtrTEaxiaDc)\n"
      ]
    },
    {
      "metadata": {
        "id": "d0nuk9QRrY2i",
        "colab_type": "code",
        "colab": {}
      },
      "cell_type": "code",
      "source": [
        ""
      ],
      "execution_count": 0,
      "outputs": []
    },
    {
      "metadata": {
        "id": "7fZpakvlrZdT",
        "colab_type": "text"
      },
      "cell_type": "markdown",
      "source": [
        "Let's dive deeper into the distibution of populations in the year 2000. Here's a dot plot with tooltips enabled to help us identify which points correspond to which country:"
      ]
    },
    {
      "metadata": {
        "id": "efCJiq_Vr9lJ",
        "colab_type": "code",
        "outputId": "0587d578-e944-442e-fc2e-c68743a582b7",
        "colab": {
          "base_uri": "https://localhost:8080/",
          "height": 192
        }
      },
      "cell_type": "code",
      "source": [
        "alt.Chart(data2000).mark_circle().encode(\n",
        "  alt.X('pop'),\n",
        "  alt.Y('cluster:N'),\n",
        "  alt.Color('cluster:N'),\n",
        "  alt.Tooltip('country')\n",
        ")"
      ],
      "execution_count": 0,
      "outputs": [
        {
          "output_type": "execute_result",
          "data": {
            "text/plain": [
              "Chart({\n",
              "  data:      cluster             country  fertility  life_expect         pop  year\n",
              "  9          0         Afghanistan     7.4792       42.129    23898198  2000\n",
              "  20         3           Argentina     2.3500       74.340    37497728  2000\n",
              "  31         3               Aruba     2.1240       73.451       69539  2000\n",
              "  42         4           Australia     1.7560       80.370    19164620  2000\n",
              "  53         1             Austria     1.3820       78.980     8113413  2000\n",
              "  64         3             Bahamas     2.1111       71.068      290075  2000\n",
              "  75         0          Bangladesh     3.2240       62.013   130406594  2000\n",
              "  86         3            Barbados     1.5000       75.970      273483  2000\n",
              "  97         1             Belgium     1.6380       78.320    10263618  2000\n",
              "  108        3             Bolivia     3.9585       63.883     8152620  2000\n",
              "  119        3              Brazil     2.3450       71.006   175552771  2000\n",
              "  130        3              Canada     1.5220       79.770    31278097  2000\n",
              "  141        3               Chile     2.0000       77.860    15153450  2000\n",
              "  152        4               China     1.7000       72.028  1262645000  2000\n",
              "  163        3            Colombia     2.4705       71.682    39685655  2000\n",
              "  174        3          Costa Rica     2.2815       78.123     3710558  2000\n",
              "  185        1             Croatia     1.3480       74.876     4410830  2000\n",
              "  196        3                Cuba     1.6300       77.158    11134273  2000\n",
              "  207        3  Dominican Republic     2.9500       70.847     8385828  2000\n",
              "  218        3             Ecuador     2.8175       74.173    12505204  2000\n",
              "  229        5               Egypt     3.1740       69.806    70492342  2000\n",
              "  240        3         El Salvador     2.8830       70.734     6122515  2000\n",
              "  251        1             Finland     1.7540       78.370     5168595  2000\n",
              "  262        1              France     1.8833       79.590    59381628  2000\n",
              "  273        1             Georgia     1.4780       70.476     4777209  2000\n",
              "  284        1             Germany     1.3460       78.670    82187909  2000\n",
              "  295        1              Greece     1.2770       78.256    10559110  2000\n",
              "  306        3             Grenada     2.4290       67.746       89312  2000\n",
              "  317        3               Haiti     4.0000       58.137     7306302  2000\n",
              "  328        4           Hong Kong     0.9400       81.495     6658720  2000\n",
              "  ..       ...                 ...        ...          ...         ...   ...\n",
              "  372        5                Iran     2.1240       69.451    65660289  2000\n",
              "  383        5                Iraq     4.8580       57.046    22675617  2000\n",
              "  394        1             Ireland     1.9690       77.783     3791690  2000\n",
              "  405        5              Israel     2.9060       79.696     5842454  2000\n",
              "  416        1               Italy     1.2860       80.240    57719337  2000\n",
              "  427        3             Jamaica     2.6280       72.047     2615467  2000\n",
              "  438        4               Japan     1.2910       82.000   126699784  2000\n",
              "  449        2               Kenya     5.0000       50.992    29985839  2000\n",
              "  460        4         South Korea     1.9173       66.662    21647682  2000\n",
              "  471        4         North Korea     1.2420       77.045    47351083  2000\n",
              "  482        5             Lebanon     2.3190       71.028     3578036  2000\n",
              "  493        3              Mexico     2.4005       74.902    99926620  2000\n",
              "  504        1         Netherlands     1.7260       78.530    15907853  2000\n",
              "  515        4         New Zealand     1.9640       79.110     3819762  2000\n",
              "  526        2             Nigeria     5.8450       46.608   114306700  2000\n",
              "  537        1              Norway     1.8010       79.050     4492400  2000\n",
              "  548        0            Pakistan     3.9936       63.610   146342958  2000\n",
              "  559        3                Peru     2.7005       69.906    25979722  2000\n",
              "  570        4         Philippines     3.5436       70.303    79739825  2000\n",
              "  581        1              Poland     1.2510       74.670    38654164  2000\n",
              "  592        1            Portugal     1.4540       77.290    10335597  2000\n",
              "  603        2              Rwanda     6.0100       43.413     7507056  2000\n",
              "  614        5        Saudi Arabia     3.8100       71.626    23153090  2000\n",
              "  625        2        South Africa     2.8020       53.365    44066197  2000\n",
              "  636        1               Spain     1.2870       79.780    40016081  2000\n",
              "  647        1         Switzerland     1.4150       80.620     7266920  2000\n",
              "  658        1              Turkey     2.2300       70.845    65666677  2000\n",
              "  669        1      United Kingdom     1.6950       78.471    59522468  2000\n",
              "  680        3       United States     2.0380       77.310   282338631  2000\n",
              "  691        3           Venezuela     2.7230       72.766    23542649  2000\n",
              "  \n",
              "  [63 rows x 6 columns],\n",
              "  encoding: EncodingWithFacet({\n",
              "    color: Color({\n",
              "      shorthand: 'cluster:N'\n",
              "    }),\n",
              "    tooltip: Tooltip({\n",
              "      shorthand: 'country'\n",
              "    }),\n",
              "    x: X({\n",
              "      shorthand: 'pop'\n",
              "    }),\n",
              "    y: Y({\n",
              "      shorthand: 'cluster:N'\n",
              "    })\n",
              "  }),\n",
              "  mark: 'circle'\n",
              "})"
            ],
            "text/html": [
              "<!DOCTYPE html>\n",
              "<html>\n",
              "<head>\n",
              "  <style>\n",
              "    .vega-actions a {\n",
              "        margin-right: 12px;\n",
              "        color: #757575;\n",
              "        font-weight: normal;\n",
              "        font-size: 13px;\n",
              "    }\n",
              "    .error {\n",
              "        color: red;\n",
              "    }\n",
              "  </style>\n",
              "  <script type=\"text/javascript\" src=\"https://cdn.jsdelivr.net/npm//vega@4\"></script>\n",
              "  <script type=\"text/javascript\" src=\"https://cdn.jsdelivr.net/npm//vega-lite@2.6.0\"></script>\n",
              "  <script type=\"text/javascript\" src=\"https://cdn.jsdelivr.net/npm//vega-embed@3\"></script>\n",
              "</head>\n",
              "<body>\n",
              "  <div id=\"altair-viz\"></div>\n",
              "  <script>\n",
              "      var spec = {\"datasets\": {\"data-fdeb0b749a6385830bd1445d39ad6ea0\": [{\"life_expect\": 42.129, \"pop\": 23898198, \"country\": \"Afghanistan\", \"cluster\": 0, \"year\": 2000, \"fertility\": 7.4792}, {\"life_expect\": 74.34, \"pop\": 37497728, \"country\": \"Argentina\", \"cluster\": 3, \"year\": 2000, \"fertility\": 2.35}, {\"life_expect\": 73.451, \"pop\": 69539, \"country\": \"Aruba\", \"cluster\": 3, \"year\": 2000, \"fertility\": 2.124}, {\"life_expect\": 80.37, \"pop\": 19164620, \"country\": \"Australia\", \"cluster\": 4, \"year\": 2000, \"fertility\": 1.756}, {\"life_expect\": 78.98, \"pop\": 8113413, \"country\": \"Austria\", \"cluster\": 1, \"year\": 2000, \"fertility\": 1.3820000000000001}, {\"life_expect\": 71.068, \"pop\": 290075, \"country\": \"Bahamas\", \"cluster\": 3, \"year\": 2000, \"fertility\": 2.1111}, {\"life_expect\": 62.013, \"pop\": 130406594, \"country\": \"Bangladesh\", \"cluster\": 0, \"year\": 2000, \"fertility\": 3.224}, {\"life_expect\": 75.97, \"pop\": 273483, \"country\": \"Barbados\", \"cluster\": 3, \"year\": 2000, \"fertility\": 1.5}, {\"life_expect\": 78.32, \"pop\": 10263618, \"country\": \"Belgium\", \"cluster\": 1, \"year\": 2000, \"fertility\": 1.638}, {\"life_expect\": 63.883, \"pop\": 8152620, \"country\": \"Bolivia\", \"cluster\": 3, \"year\": 2000, \"fertility\": 3.9585}, {\"life_expect\": 71.006, \"pop\": 175552771, \"country\": \"Brazil\", \"cluster\": 3, \"year\": 2000, \"fertility\": 2.345}, {\"life_expect\": 79.77, \"pop\": 31278097, \"country\": \"Canada\", \"cluster\": 3, \"year\": 2000, \"fertility\": 1.522}, {\"life_expect\": 77.86, \"pop\": 15153450, \"country\": \"Chile\", \"cluster\": 3, \"year\": 2000, \"fertility\": 2.0}, {\"life_expect\": 72.028, \"pop\": 1262645000, \"country\": \"China\", \"cluster\": 4, \"year\": 2000, \"fertility\": 1.7000000000000002}, {\"life_expect\": 71.682, \"pop\": 39685655, \"country\": \"Colombia\", \"cluster\": 3, \"year\": 2000, \"fertility\": 2.4705}, {\"life_expect\": 78.123, \"pop\": 3710558, \"country\": \"Costa Rica\", \"cluster\": 3, \"year\": 2000, \"fertility\": 2.2815}, {\"life_expect\": 74.876, \"pop\": 4410830, \"country\": \"Croatia\", \"cluster\": 1, \"year\": 2000, \"fertility\": 1.348}, {\"life_expect\": 77.158, \"pop\": 11134273, \"country\": \"Cuba\", \"cluster\": 3, \"year\": 2000, \"fertility\": 1.63}, {\"life_expect\": 70.847, \"pop\": 8385828, \"country\": \"Dominican Republic\", \"cluster\": 3, \"year\": 2000, \"fertility\": 2.95}, {\"life_expect\": 74.173, \"pop\": 12505204, \"country\": \"Ecuador\", \"cluster\": 3, \"year\": 2000, \"fertility\": 2.8175}, {\"life_expect\": 69.806, \"pop\": 70492342, \"country\": \"Egypt\", \"cluster\": 5, \"year\": 2000, \"fertility\": 3.174}, {\"life_expect\": 70.734, \"pop\": 6122515, \"country\": \"El Salvador\", \"cluster\": 3, \"year\": 2000, \"fertility\": 2.883}, {\"life_expect\": 78.37, \"pop\": 5168595, \"country\": \"Finland\", \"cluster\": 1, \"year\": 2000, \"fertility\": 1.754}, {\"life_expect\": 79.59, \"pop\": 59381628, \"country\": \"France\", \"cluster\": 1, \"year\": 2000, \"fertility\": 1.8833000000000002}, {\"life_expect\": 70.476, \"pop\": 4777209, \"country\": \"Georgia\", \"cluster\": 1, \"year\": 2000, \"fertility\": 1.478}, {\"life_expect\": 78.67, \"pop\": 82187909, \"country\": \"Germany\", \"cluster\": 1, \"year\": 2000, \"fertility\": 1.346}, {\"life_expect\": 78.256, \"pop\": 10559110, \"country\": \"Greece\", \"cluster\": 1, \"year\": 2000, \"fertility\": 1.2770000000000001}, {\"life_expect\": 67.746, \"pop\": 89312, \"country\": \"Grenada\", \"cluster\": 3, \"year\": 2000, \"fertility\": 2.429}, {\"life_expect\": 58.137, \"pop\": 7306302, \"country\": \"Haiti\", \"cluster\": 3, \"year\": 2000, \"fertility\": 4.0}, {\"life_expect\": 81.495, \"pop\": 6658720, \"country\": \"Hong Kong\", \"cluster\": 4, \"year\": 2000, \"fertility\": 0.9400000000000001}, {\"life_expect\": 80.5, \"pop\": 281043, \"country\": \"Iceland\", \"cluster\": 1, \"year\": 2000, \"fertility\": 1.9929999999999999}, {\"life_expect\": 62.879, \"pop\": 1007702000, \"country\": \"India\", \"cluster\": 0, \"year\": 2000, \"fertility\": 3.1132}, {\"life_expect\": 68.588, \"pop\": 206265000, \"country\": \"Indonesia\", \"cluster\": 4, \"year\": 2000, \"fertility\": 2.3761}, {\"life_expect\": 69.451, \"pop\": 65660289, \"country\": \"Iran\", \"cluster\": 5, \"year\": 2000, \"fertility\": 2.124}, {\"life_expect\": 57.046, \"pop\": 22675617, \"country\": \"Iraq\", \"cluster\": 5, \"year\": 2000, \"fertility\": 4.858}, {\"life_expect\": 77.783, \"pop\": 3791690, \"country\": \"Ireland\", \"cluster\": 1, \"year\": 2000, \"fertility\": 1.9689999999999999}, {\"life_expect\": 79.696, \"pop\": 5842454, \"country\": \"Israel\", \"cluster\": 5, \"year\": 2000, \"fertility\": 2.906}, {\"life_expect\": 80.24, \"pop\": 57719337, \"country\": \"Italy\", \"cluster\": 1, \"year\": 2000, \"fertility\": 1.286}, {\"life_expect\": 72.047, \"pop\": 2615467, \"country\": \"Jamaica\", \"cluster\": 3, \"year\": 2000, \"fertility\": 2.628}, {\"life_expect\": 82.0, \"pop\": 126699784, \"country\": \"Japan\", \"cluster\": 4, \"year\": 2000, \"fertility\": 1.291}, {\"life_expect\": 50.992, \"pop\": 29985839, \"country\": \"Kenya\", \"cluster\": 2, \"year\": 2000, \"fertility\": 5.0}, {\"life_expect\": 66.662, \"pop\": 21647682, \"country\": \"South Korea\", \"cluster\": 4, \"year\": 2000, \"fertility\": 1.9173}, {\"life_expect\": 77.045, \"pop\": 47351083, \"country\": \"North Korea\", \"cluster\": 4, \"year\": 2000, \"fertility\": 1.242}, {\"life_expect\": 71.028, \"pop\": 3578036, \"country\": \"Lebanon\", \"cluster\": 5, \"year\": 2000, \"fertility\": 2.319}, {\"life_expect\": 74.902, \"pop\": 99926620, \"country\": \"Mexico\", \"cluster\": 3, \"year\": 2000, \"fertility\": 2.4005}, {\"life_expect\": 78.53, \"pop\": 15907853, \"country\": \"Netherlands\", \"cluster\": 1, \"year\": 2000, \"fertility\": 1.726}, {\"life_expect\": 79.11, \"pop\": 3819762, \"country\": \"New Zealand\", \"cluster\": 4, \"year\": 2000, \"fertility\": 1.964}, {\"life_expect\": 46.608, \"pop\": 114306700, \"country\": \"Nigeria\", \"cluster\": 2, \"year\": 2000, \"fertility\": 5.845}, {\"life_expect\": 79.05, \"pop\": 4492400, \"country\": \"Norway\", \"cluster\": 1, \"year\": 2000, \"fertility\": 1.8010000000000002}, {\"life_expect\": 63.61, \"pop\": 146342958, \"country\": \"Pakistan\", \"cluster\": 0, \"year\": 2000, \"fertility\": 3.9936}, {\"life_expect\": 69.906, \"pop\": 25979722, \"country\": \"Peru\", \"cluster\": 3, \"year\": 2000, \"fertility\": 2.7005}, {\"life_expect\": 70.303, \"pop\": 79739825, \"country\": \"Philippines\", \"cluster\": 4, \"year\": 2000, \"fertility\": 3.5436}, {\"life_expect\": 74.67, \"pop\": 38654164, \"country\": \"Poland\", \"cluster\": 1, \"year\": 2000, \"fertility\": 1.251}, {\"life_expect\": 77.29, \"pop\": 10335597, \"country\": \"Portugal\", \"cluster\": 1, \"year\": 2000, \"fertility\": 1.454}, {\"life_expect\": 43.413, \"pop\": 7507056, \"country\": \"Rwanda\", \"cluster\": 2, \"year\": 2000, \"fertility\": 6.01}, {\"life_expect\": 71.626, \"pop\": 23153090, \"country\": \"Saudi Arabia\", \"cluster\": 5, \"year\": 2000, \"fertility\": 3.81}, {\"life_expect\": 53.365, \"pop\": 44066197, \"country\": \"South Africa\", \"cluster\": 2, \"year\": 2000, \"fertility\": 2.802}, {\"life_expect\": 79.78, \"pop\": 40016081, \"country\": \"Spain\", \"cluster\": 1, \"year\": 2000, \"fertility\": 1.287}, {\"life_expect\": 80.62, \"pop\": 7266920, \"country\": \"Switzerland\", \"cluster\": 1, \"year\": 2000, \"fertility\": 1.415}, {\"life_expect\": 70.845, \"pop\": 65666677, \"country\": \"Turkey\", \"cluster\": 1, \"year\": 2000, \"fertility\": 2.23}, {\"life_expect\": 78.471, \"pop\": 59522468, \"country\": \"United Kingdom\", \"cluster\": 1, \"year\": 2000, \"fertility\": 1.695}, {\"life_expect\": 77.31, \"pop\": 282338631, \"country\": \"United States\", \"cluster\": 3, \"year\": 2000, \"fertility\": 2.038}, {\"life_expect\": 72.766, \"pop\": 23542649, \"country\": \"Venezuela\", \"cluster\": 3, \"year\": 2000, \"fertility\": 2.723}]}, \"encoding\": {\"color\": {\"field\": \"cluster\", \"type\": \"nominal\"}, \"y\": {\"field\": \"cluster\", \"type\": \"nominal\"}, \"tooltip\": {\"field\": \"country\", \"type\": \"nominal\"}, \"x\": {\"field\": \"pop\", \"type\": \"quantitative\"}}, \"config\": {\"view\": {\"width\": 400, \"height\": 300}}, \"mark\": \"circle\", \"$schema\": \"https://vega.github.io/schema/vega-lite/v2.6.0.json\", \"data\": {\"name\": \"data-fdeb0b749a6385830bd1445d39ad6ea0\"}};\n",
              "      var embedOpt = {\"mode\": \"vega-lite\"};\n",
              "\n",
              "      function showError(el, error){\n",
              "          el.innerHTML = ('<div class=\"error\" style=\"color:red;\">'\n",
              "                          + '<p>JavaScript Error: ' + error.message + '</p>'\n",
              "                          + \"<p>This usually means there's a typo in your chart specification. \"\n",
              "                          + \"See the javascript console for the full traceback.</p>\"\n",
              "                          + '</div>');\n",
              "          throw error;\n",
              "      }\n",
              "      const el = document.getElementById('altair-viz');\n",
              "      vegaEmbed(\"#altair-viz\", spec, embedOpt)\n",
              "        .catch(error => showError(el, error));\n",
              "\n",
              "  </script>\n",
              "</body>\n",
              "</html>"
            ]
          },
          "metadata": {
            "tags": []
          },
          "execution_count": 25
        }
      ]
    },
    {
      "metadata": {
        "id": "qoaNTs5arkqk",
        "colab_type": "text"
      },
      "cell_type": "markdown",
      "source": [
        "This dot plot isn't terrible informative right now because we have two outliers: the populations of India and China are orders of magnitude larger than other countries. \n",
        "\n",
        "So what are our options? \n",
        "\n",
        "One might be to just **adjust the domain of our x-scale** and **[clip the outliers](https://altair-viz.github.io/user_guide/customization.html?highlight=clip#adjusting-axis-limits)**:\n",
        "\n",
        "![Clipped population dot plot](https://drive.google.com/uc?export=view&id=1em5qy126q1T_hfzZLupOCVAn0Pnr17eC)\n",
        "\n"
      ]
    },
    {
      "metadata": {
        "id": "pDC42rN2t2gQ",
        "colab_type": "code",
        "colab": {}
      },
      "cell_type": "code",
      "source": [
        ""
      ],
      "execution_count": 0,
      "outputs": []
    },
    {
      "metadata": {
        "id": "l0yWN3ant2-K",
        "colab_type": "text"
      },
      "cell_type": "markdown",
      "source": [
        "**What are the pros and cons of this strategy?**"
      ]
    },
    {
      "metadata": {
        "id": "EX1UOBSYuMLq",
        "colab_type": "text"
      },
      "cell_type": "markdown",
      "source": [
        ""
      ]
    },
    {
      "metadata": {
        "id": "n36yW1Mzr94W",
        "colab_type": "text"
      },
      "cell_type": "markdown",
      "source": [
        "An alternate strategy might preserve the outliers but better depict that population values span several orders of magnitude. \n",
        "\n",
        "By default, Altair/Vega-Lite uses a `linear` mapping (`y = mx + b`) between the domain values (`population`) and the range values (_pixels_). To get a better overview of this data, we may  instead favor a **logarithmic (`log`) scale**:\n",
        "\n",
        "![Log dot plot of population in 2000](https://drive.google.com/uc?export=view&id=1-sRZg_d6hf5Vesx4C9joBWOn3OFLK4X9)\n"
      ]
    },
    {
      "metadata": {
        "id": "_FI-CzFryIN7",
        "colab_type": "code",
        "colab": {}
      },
      "cell_type": "code",
      "source": [
        ""
      ],
      "execution_count": 0,
      "outputs": []
    },
    {
      "metadata": {
        "id": "t1FSOvjsyIkG",
        "colab_type": "text"
      },
      "cell_type": "markdown",
      "source": [
        "Now, the domain values (`population`) map to range values (_pixels_) via the function `y = mlog(x) + b`.\n",
        "\n",
        "And, if we were only interested in demarcating every order of magnitude, we could **tweak [the number of x-axis ticks](https://altair-viz.github.io/user_guide/generated/core/altair.Axis.html?highlight=ticks)** for a less noisy display:\n",
        "\n",
        "![Log dot plot of population with 5 x-axis ticks](https://drive.google.com/uc?export=view&id=1UkK5CcOJVvtQbfVM_bF2VP-RrMpwTjES)\n"
      ]
    },
    {
      "metadata": {
        "id": "w5YY445NpbDE",
        "colab_type": "code",
        "colab": {}
      },
      "cell_type": "code",
      "source": [
        ""
      ],
      "execution_count": 0,
      "outputs": []
    },
    {
      "metadata": {
        "id": "efOjfE1wyQ7u",
        "colab_type": "text"
      },
      "cell_type": "markdown",
      "source": [
        "Besides addressing data skew, log scales are also useful when we want to focus on **multiplicative factors**. In a standard linear scale, a visual (pixel) distance of 10 units might correspond to an *addition* of 10 units in the data domain. A logarithmic transform maps between multiplication and addition, such that `log(u) + log(v) = log(u*v)`. As a result, in a logarithmic scale, a visual distance of 10 units instead corresponds to *multiplication* by 10 units in the data domain (assuming a base 10 logarithm).\n",
        "\n",
        "For instance, if we want to visualize Google's stock price over time, the default (`linear`) scale allows us to see the absolute change:\n"
      ]
    },
    {
      "metadata": {
        "id": "wLECfRaH2CAP",
        "colab_type": "code",
        "outputId": "f8d6d816-f943-4431-88db-fa3a77b29112",
        "colab": {
          "base_uri": "https://localhost:8080/",
          "height": 372
        }
      },
      "cell_type": "code",
      "source": [
        "stocks = vega_data.stocks()\n",
        "goog = stocks.loc[stocks['symbol'] == 'GOOG']\n",
        "alt.Chart(goog).mark_line().encode(\n",
        "  alt.X('date'),\n",
        "  alt.Y('price')\n",
        ")"
      ],
      "execution_count": 0,
      "outputs": [
        {
          "output_type": "execute_result",
          "data": {
            "text/plain": [
              "Chart({\n",
              "  data:     symbol       date   price\n",
              "  369   GOOG 2004-08-01  102.37\n",
              "  370   GOOG 2004-09-01  129.60\n",
              "  371   GOOG 2004-10-01  190.64\n",
              "  372   GOOG 2004-11-01  181.98\n",
              "  373   GOOG 2004-12-01  192.79\n",
              "  374   GOOG 2005-01-01  195.62\n",
              "  375   GOOG 2005-02-01  187.99\n",
              "  376   GOOG 2005-03-01  180.51\n",
              "  377   GOOG 2005-04-01  220.00\n",
              "  378   GOOG 2005-05-01  277.27\n",
              "  379   GOOG 2005-06-01  294.15\n",
              "  380   GOOG 2005-07-01  287.76\n",
              "  381   GOOG 2005-08-01  286.00\n",
              "  382   GOOG 2005-09-01  316.46\n",
              "  383   GOOG 2005-10-01  372.14\n",
              "  384   GOOG 2005-11-01  404.91\n",
              "  385   GOOG 2005-12-01  414.86\n",
              "  386   GOOG 2006-01-01  432.66\n",
              "  387   GOOG 2006-02-01  362.62\n",
              "  388   GOOG 2006-03-01  390.00\n",
              "  389   GOOG 2006-04-01  417.94\n",
              "  390   GOOG 2006-05-01  371.82\n",
              "  391   GOOG 2006-06-01  419.33\n",
              "  392   GOOG 2006-07-01  386.60\n",
              "  393   GOOG 2006-08-01  378.53\n",
              "  394   GOOG 2006-09-01  401.90\n",
              "  395   GOOG 2006-10-01  476.39\n",
              "  396   GOOG 2006-11-01  484.81\n",
              "  397   GOOG 2006-12-01  460.48\n",
              "  398   GOOG 2007-01-01  501.50\n",
              "  ..     ...        ...     ...\n",
              "  407   GOOG 2007-10-01  707.00\n",
              "  408   GOOG 2007-11-01  693.00\n",
              "  409   GOOG 2007-12-01  691.48\n",
              "  410   GOOG 2008-01-01  564.30\n",
              "  411   GOOG 2008-02-01  471.18\n",
              "  412   GOOG 2008-03-01  440.47\n",
              "  413   GOOG 2008-04-01  574.29\n",
              "  414   GOOG 2008-05-01  585.80\n",
              "  415   GOOG 2008-06-01  526.42\n",
              "  416   GOOG 2008-07-01  473.75\n",
              "  417   GOOG 2008-08-01  463.29\n",
              "  418   GOOG 2008-09-01  400.52\n",
              "  419   GOOG 2008-10-01  359.36\n",
              "  420   GOOG 2008-11-01  292.96\n",
              "  421   GOOG 2008-12-01  307.65\n",
              "  422   GOOG 2009-01-01  338.53\n",
              "  423   GOOG 2009-02-01  337.99\n",
              "  424   GOOG 2009-03-01  348.06\n",
              "  425   GOOG 2009-04-01  395.97\n",
              "  426   GOOG 2009-05-01  417.23\n",
              "  427   GOOG 2009-06-01  421.59\n",
              "  428   GOOG 2009-07-01  443.05\n",
              "  429   GOOG 2009-08-01  461.67\n",
              "  430   GOOG 2009-09-01  495.85\n",
              "  431   GOOG 2009-10-01  536.12\n",
              "  432   GOOG 2009-11-01  583.00\n",
              "  433   GOOG 2009-12-01  619.98\n",
              "  434   GOOG 2010-01-01  529.94\n",
              "  435   GOOG 2010-02-01  526.80\n",
              "  436   GOOG 2010-03-01  560.19\n",
              "  \n",
              "  [68 rows x 3 columns],\n",
              "  encoding: EncodingWithFacet({\n",
              "    x: X({\n",
              "      shorthand: 'date'\n",
              "    }),\n",
              "    y: Y({\n",
              "      shorthand: 'price'\n",
              "    })\n",
              "  }),\n",
              "  mark: 'line'\n",
              "})"
            ],
            "text/html": [
              "<!DOCTYPE html>\n",
              "<html>\n",
              "<head>\n",
              "  <style>\n",
              "    .vega-actions a {\n",
              "        margin-right: 12px;\n",
              "        color: #757575;\n",
              "        font-weight: normal;\n",
              "        font-size: 13px;\n",
              "    }\n",
              "    .error {\n",
              "        color: red;\n",
              "    }\n",
              "  </style>\n",
              "  <script type=\"text/javascript\" src=\"https://cdn.jsdelivr.net/npm//vega@4\"></script>\n",
              "  <script type=\"text/javascript\" src=\"https://cdn.jsdelivr.net/npm//vega-lite@2.6.0\"></script>\n",
              "  <script type=\"text/javascript\" src=\"https://cdn.jsdelivr.net/npm//vega-embed@3\"></script>\n",
              "</head>\n",
              "<body>\n",
              "  <div id=\"altair-viz\"></div>\n",
              "  <script>\n",
              "      var spec = {\"datasets\": {\"data-0fff2011ed9b71fa721c2b85edd74396\": [{\"date\": \"2004-08-01T00:00:00\", \"symbol\": \"GOOG\", \"price\": 102.37}, {\"date\": \"2004-09-01T00:00:00\", \"symbol\": \"GOOG\", \"price\": 129.6}, {\"date\": \"2004-10-01T00:00:00\", \"symbol\": \"GOOG\", \"price\": 190.64}, {\"date\": \"2004-11-01T00:00:00\", \"symbol\": \"GOOG\", \"price\": 181.98}, {\"date\": \"2004-12-01T00:00:00\", \"symbol\": \"GOOG\", \"price\": 192.79}, {\"date\": \"2005-01-01T00:00:00\", \"symbol\": \"GOOG\", \"price\": 195.62}, {\"date\": \"2005-02-01T00:00:00\", \"symbol\": \"GOOG\", \"price\": 187.99}, {\"date\": \"2005-03-01T00:00:00\", \"symbol\": \"GOOG\", \"price\": 180.51}, {\"date\": \"2005-04-01T00:00:00\", \"symbol\": \"GOOG\", \"price\": 220.0}, {\"date\": \"2005-05-01T00:00:00\", \"symbol\": \"GOOG\", \"price\": 277.27}, {\"date\": \"2005-06-01T00:00:00\", \"symbol\": \"GOOG\", \"price\": 294.15}, {\"date\": \"2005-07-01T00:00:00\", \"symbol\": \"GOOG\", \"price\": 287.76}, {\"date\": \"2005-08-01T00:00:00\", \"symbol\": \"GOOG\", \"price\": 286.0}, {\"date\": \"2005-09-01T00:00:00\", \"symbol\": \"GOOG\", \"price\": 316.46}, {\"date\": \"2005-10-01T00:00:00\", \"symbol\": \"GOOG\", \"price\": 372.14}, {\"date\": \"2005-11-01T00:00:00\", \"symbol\": \"GOOG\", \"price\": 404.91}, {\"date\": \"2005-12-01T00:00:00\", \"symbol\": \"GOOG\", \"price\": 414.86}, {\"date\": \"2006-01-01T00:00:00\", \"symbol\": \"GOOG\", \"price\": 432.66}, {\"date\": \"2006-02-01T00:00:00\", \"symbol\": \"GOOG\", \"price\": 362.62}, {\"date\": \"2006-03-01T00:00:00\", \"symbol\": \"GOOG\", \"price\": 390.0}, {\"date\": \"2006-04-01T00:00:00\", \"symbol\": \"GOOG\", \"price\": 417.94}, {\"date\": \"2006-05-01T00:00:00\", \"symbol\": \"GOOG\", \"price\": 371.82}, {\"date\": \"2006-06-01T00:00:00\", \"symbol\": \"GOOG\", \"price\": 419.33}, {\"date\": \"2006-07-01T00:00:00\", \"symbol\": \"GOOG\", \"price\": 386.6}, {\"date\": \"2006-08-01T00:00:00\", \"symbol\": \"GOOG\", \"price\": 378.53}, {\"date\": \"2006-09-01T00:00:00\", \"symbol\": \"GOOG\", \"price\": 401.9}, {\"date\": \"2006-10-01T00:00:00\", \"symbol\": \"GOOG\", \"price\": 476.39}, {\"date\": \"2006-11-01T00:00:00\", \"symbol\": \"GOOG\", \"price\": 484.81}, {\"date\": \"2006-12-01T00:00:00\", \"symbol\": \"GOOG\", \"price\": 460.48}, {\"date\": \"2007-01-01T00:00:00\", \"symbol\": \"GOOG\", \"price\": 501.5}, {\"date\": \"2007-02-01T00:00:00\", \"symbol\": \"GOOG\", \"price\": 449.45}, {\"date\": \"2007-03-01T00:00:00\", \"symbol\": \"GOOG\", \"price\": 458.16}, {\"date\": \"2007-04-01T00:00:00\", \"symbol\": \"GOOG\", \"price\": 471.38}, {\"date\": \"2007-05-01T00:00:00\", \"symbol\": \"GOOG\", \"price\": 497.91}, {\"date\": \"2007-06-01T00:00:00\", \"symbol\": \"GOOG\", \"price\": 522.7}, {\"date\": \"2007-07-01T00:00:00\", \"symbol\": \"GOOG\", \"price\": 510.0}, {\"date\": \"2007-08-01T00:00:00\", \"symbol\": \"GOOG\", \"price\": 515.25}, {\"date\": \"2007-09-01T00:00:00\", \"symbol\": \"GOOG\", \"price\": 567.27}, {\"date\": \"2007-10-01T00:00:00\", \"symbol\": \"GOOG\", \"price\": 707.0}, {\"date\": \"2007-11-01T00:00:00\", \"symbol\": \"GOOG\", \"price\": 693.0}, {\"date\": \"2007-12-01T00:00:00\", \"symbol\": \"GOOG\", \"price\": 691.48}, {\"date\": \"2008-01-01T00:00:00\", \"symbol\": \"GOOG\", \"price\": 564.3}, {\"date\": \"2008-02-01T00:00:00\", \"symbol\": \"GOOG\", \"price\": 471.18}, {\"date\": \"2008-03-01T00:00:00\", \"symbol\": \"GOOG\", \"price\": 440.47}, {\"date\": \"2008-04-01T00:00:00\", \"symbol\": \"GOOG\", \"price\": 574.29}, {\"date\": \"2008-05-01T00:00:00\", \"symbol\": \"GOOG\", \"price\": 585.8}, {\"date\": \"2008-06-01T00:00:00\", \"symbol\": \"GOOG\", \"price\": 526.42}, {\"date\": \"2008-07-01T00:00:00\", \"symbol\": \"GOOG\", \"price\": 473.75}, {\"date\": \"2008-08-01T00:00:00\", \"symbol\": \"GOOG\", \"price\": 463.29}, {\"date\": \"2008-09-01T00:00:00\", \"symbol\": \"GOOG\", \"price\": 400.52}, {\"date\": \"2008-10-01T00:00:00\", \"symbol\": \"GOOG\", \"price\": 359.36}, {\"date\": \"2008-11-01T00:00:00\", \"symbol\": \"GOOG\", \"price\": 292.96}, {\"date\": \"2008-12-01T00:00:00\", \"symbol\": \"GOOG\", \"price\": 307.65}, {\"date\": \"2009-01-01T00:00:00\", \"symbol\": \"GOOG\", \"price\": 338.53}, {\"date\": \"2009-02-01T00:00:00\", \"symbol\": \"GOOG\", \"price\": 337.99}, {\"date\": \"2009-03-01T00:00:00\", \"symbol\": \"GOOG\", \"price\": 348.06}, {\"date\": \"2009-04-01T00:00:00\", \"symbol\": \"GOOG\", \"price\": 395.97}, {\"date\": \"2009-05-01T00:00:00\", \"symbol\": \"GOOG\", \"price\": 417.23}, {\"date\": \"2009-06-01T00:00:00\", \"symbol\": \"GOOG\", \"price\": 421.59}, {\"date\": \"2009-07-01T00:00:00\", \"symbol\": \"GOOG\", \"price\": 443.05}, {\"date\": \"2009-08-01T00:00:00\", \"symbol\": \"GOOG\", \"price\": 461.67}, {\"date\": \"2009-09-01T00:00:00\", \"symbol\": \"GOOG\", \"price\": 495.85}, {\"date\": \"2009-10-01T00:00:00\", \"symbol\": \"GOOG\", \"price\": 536.12}, {\"date\": \"2009-11-01T00:00:00\", \"symbol\": \"GOOG\", \"price\": 583.0}, {\"date\": \"2009-12-01T00:00:00\", \"symbol\": \"GOOG\", \"price\": 619.98}, {\"date\": \"2010-01-01T00:00:00\", \"symbol\": \"GOOG\", \"price\": 529.94}, {\"date\": \"2010-02-01T00:00:00\", \"symbol\": \"GOOG\", \"price\": 526.8}, {\"date\": \"2010-03-01T00:00:00\", \"symbol\": \"GOOG\", \"price\": 560.19}]}, \"encoding\": {\"y\": {\"field\": \"price\", \"type\": \"quantitative\"}, \"x\": {\"field\": \"date\", \"type\": \"temporal\"}}, \"config\": {\"view\": {\"width\": 400, \"height\": 300}}, \"mark\": \"line\", \"$schema\": \"https://vega.github.io/schema/vega-lite/v2.6.0.json\", \"data\": {\"name\": \"data-0fff2011ed9b71fa721c2b85edd74396\"}};\n",
              "      var embedOpt = {\"mode\": \"vega-lite\"};\n",
              "\n",
              "      function showError(el, error){\n",
              "          el.innerHTML = ('<div class=\"error\" style=\"color:red;\">'\n",
              "                          + '<p>JavaScript Error: ' + error.message + '</p>'\n",
              "                          + \"<p>This usually means there's a typo in your chart specification. \"\n",
              "                          + \"See the javascript console for the full traceback.</p>\"\n",
              "                          + '</div>');\n",
              "          throw error;\n",
              "      }\n",
              "      const el = document.getElementById('altair-viz');\n",
              "      vegaEmbed(\"#altair-viz\", spec, embedOpt)\n",
              "        .catch(error => showError(el, error));\n",
              "\n",
              "  </script>\n",
              "</body>\n",
              "</html>"
            ]
          },
          "metadata": {
            "tags": []
          },
          "execution_count": 23
        }
      ]
    },
    {
      "metadata": {
        "id": "SQaEw7uD3iM7",
        "colab_type": "text"
      },
      "cell_type": "markdown",
      "source": [
        "By changing `price` to use a `log` scale, we instead visualize the percentage change. Each unit of distance now reflects an equal percentage change (i.e., percentage gains take up the same amount of space). For example, the vertical distance between \\$100 and \\$200 and \\$300 and \\$600 is the same as each range represents a 100% increase."
      ]
    },
    {
      "metadata": {
        "id": "DWuVjLqg3FL2",
        "colab_type": "code",
        "outputId": "ffd9dda5-fa13-41e6-df12-033945b74642",
        "colab": {
          "base_uri": "https://localhost:8080/",
          "height": 372
        }
      },
      "cell_type": "code",
      "source": [
        "alt.Chart(goog).mark_line().encode(\n",
        "  alt.X('date'),\n",
        "  alt.Y('price', scale=alt.Scale(type='log'))\n",
        ")"
      ],
      "execution_count": 0,
      "outputs": [
        {
          "output_type": "execute_result",
          "data": {
            "text/plain": [
              "Chart({\n",
              "  data:     symbol       date   price\n",
              "  369   GOOG 2004-08-01  102.37\n",
              "  370   GOOG 2004-09-01  129.60\n",
              "  371   GOOG 2004-10-01  190.64\n",
              "  372   GOOG 2004-11-01  181.98\n",
              "  373   GOOG 2004-12-01  192.79\n",
              "  374   GOOG 2005-01-01  195.62\n",
              "  375   GOOG 2005-02-01  187.99\n",
              "  376   GOOG 2005-03-01  180.51\n",
              "  377   GOOG 2005-04-01  220.00\n",
              "  378   GOOG 2005-05-01  277.27\n",
              "  379   GOOG 2005-06-01  294.15\n",
              "  380   GOOG 2005-07-01  287.76\n",
              "  381   GOOG 2005-08-01  286.00\n",
              "  382   GOOG 2005-09-01  316.46\n",
              "  383   GOOG 2005-10-01  372.14\n",
              "  384   GOOG 2005-11-01  404.91\n",
              "  385   GOOG 2005-12-01  414.86\n",
              "  386   GOOG 2006-01-01  432.66\n",
              "  387   GOOG 2006-02-01  362.62\n",
              "  388   GOOG 2006-03-01  390.00\n",
              "  389   GOOG 2006-04-01  417.94\n",
              "  390   GOOG 2006-05-01  371.82\n",
              "  391   GOOG 2006-06-01  419.33\n",
              "  392   GOOG 2006-07-01  386.60\n",
              "  393   GOOG 2006-08-01  378.53\n",
              "  394   GOOG 2006-09-01  401.90\n",
              "  395   GOOG 2006-10-01  476.39\n",
              "  396   GOOG 2006-11-01  484.81\n",
              "  397   GOOG 2006-12-01  460.48\n",
              "  398   GOOG 2007-01-01  501.50\n",
              "  ..     ...        ...     ...\n",
              "  407   GOOG 2007-10-01  707.00\n",
              "  408   GOOG 2007-11-01  693.00\n",
              "  409   GOOG 2007-12-01  691.48\n",
              "  410   GOOG 2008-01-01  564.30\n",
              "  411   GOOG 2008-02-01  471.18\n",
              "  412   GOOG 2008-03-01  440.47\n",
              "  413   GOOG 2008-04-01  574.29\n",
              "  414   GOOG 2008-05-01  585.80\n",
              "  415   GOOG 2008-06-01  526.42\n",
              "  416   GOOG 2008-07-01  473.75\n",
              "  417   GOOG 2008-08-01  463.29\n",
              "  418   GOOG 2008-09-01  400.52\n",
              "  419   GOOG 2008-10-01  359.36\n",
              "  420   GOOG 2008-11-01  292.96\n",
              "  421   GOOG 2008-12-01  307.65\n",
              "  422   GOOG 2009-01-01  338.53\n",
              "  423   GOOG 2009-02-01  337.99\n",
              "  424   GOOG 2009-03-01  348.06\n",
              "  425   GOOG 2009-04-01  395.97\n",
              "  426   GOOG 2009-05-01  417.23\n",
              "  427   GOOG 2009-06-01  421.59\n",
              "  428   GOOG 2009-07-01  443.05\n",
              "  429   GOOG 2009-08-01  461.67\n",
              "  430   GOOG 2009-09-01  495.85\n",
              "  431   GOOG 2009-10-01  536.12\n",
              "  432   GOOG 2009-11-01  583.00\n",
              "  433   GOOG 2009-12-01  619.98\n",
              "  434   GOOG 2010-01-01  529.94\n",
              "  435   GOOG 2010-02-01  526.80\n",
              "  436   GOOG 2010-03-01  560.19\n",
              "  \n",
              "  [68 rows x 3 columns],\n",
              "  encoding: EncodingWithFacet({\n",
              "    x: X({\n",
              "      shorthand: 'date'\n",
              "    }),\n",
              "    y: Y({\n",
              "      scale: Scale({\n",
              "        type: 'log'\n",
              "      }),\n",
              "      shorthand: 'price'\n",
              "    })\n",
              "  }),\n",
              "  mark: 'line'\n",
              "})"
            ],
            "text/html": [
              "<!DOCTYPE html>\n",
              "<html>\n",
              "<head>\n",
              "  <style>\n",
              "    .vega-actions a {\n",
              "        margin-right: 12px;\n",
              "        color: #757575;\n",
              "        font-weight: normal;\n",
              "        font-size: 13px;\n",
              "    }\n",
              "    .error {\n",
              "        color: red;\n",
              "    }\n",
              "  </style>\n",
              "  <script type=\"text/javascript\" src=\"https://cdn.jsdelivr.net/npm//vega@4\"></script>\n",
              "  <script type=\"text/javascript\" src=\"https://cdn.jsdelivr.net/npm//vega-lite@2.6.0\"></script>\n",
              "  <script type=\"text/javascript\" src=\"https://cdn.jsdelivr.net/npm//vega-embed@3\"></script>\n",
              "</head>\n",
              "<body>\n",
              "  <div id=\"altair-viz\"></div>\n",
              "  <script>\n",
              "      var spec = {\"datasets\": {\"data-0fff2011ed9b71fa721c2b85edd74396\": [{\"date\": \"2004-08-01T00:00:00\", \"symbol\": \"GOOG\", \"price\": 102.37}, {\"date\": \"2004-09-01T00:00:00\", \"symbol\": \"GOOG\", \"price\": 129.6}, {\"date\": \"2004-10-01T00:00:00\", \"symbol\": \"GOOG\", \"price\": 190.64}, {\"date\": \"2004-11-01T00:00:00\", \"symbol\": \"GOOG\", \"price\": 181.98}, {\"date\": \"2004-12-01T00:00:00\", \"symbol\": \"GOOG\", \"price\": 192.79}, {\"date\": \"2005-01-01T00:00:00\", \"symbol\": \"GOOG\", \"price\": 195.62}, {\"date\": \"2005-02-01T00:00:00\", \"symbol\": \"GOOG\", \"price\": 187.99}, {\"date\": \"2005-03-01T00:00:00\", \"symbol\": \"GOOG\", \"price\": 180.51}, {\"date\": \"2005-04-01T00:00:00\", \"symbol\": \"GOOG\", \"price\": 220.0}, {\"date\": \"2005-05-01T00:00:00\", \"symbol\": \"GOOG\", \"price\": 277.27}, {\"date\": \"2005-06-01T00:00:00\", \"symbol\": \"GOOG\", \"price\": 294.15}, {\"date\": \"2005-07-01T00:00:00\", \"symbol\": \"GOOG\", \"price\": 287.76}, {\"date\": \"2005-08-01T00:00:00\", \"symbol\": \"GOOG\", \"price\": 286.0}, {\"date\": \"2005-09-01T00:00:00\", \"symbol\": \"GOOG\", \"price\": 316.46}, {\"date\": \"2005-10-01T00:00:00\", \"symbol\": \"GOOG\", \"price\": 372.14}, {\"date\": \"2005-11-01T00:00:00\", \"symbol\": \"GOOG\", \"price\": 404.91}, {\"date\": \"2005-12-01T00:00:00\", \"symbol\": \"GOOG\", \"price\": 414.86}, {\"date\": \"2006-01-01T00:00:00\", \"symbol\": \"GOOG\", \"price\": 432.66}, {\"date\": \"2006-02-01T00:00:00\", \"symbol\": \"GOOG\", \"price\": 362.62}, {\"date\": \"2006-03-01T00:00:00\", \"symbol\": \"GOOG\", \"price\": 390.0}, {\"date\": \"2006-04-01T00:00:00\", \"symbol\": \"GOOG\", \"price\": 417.94}, {\"date\": \"2006-05-01T00:00:00\", \"symbol\": \"GOOG\", \"price\": 371.82}, {\"date\": \"2006-06-01T00:00:00\", \"symbol\": \"GOOG\", \"price\": 419.33}, {\"date\": \"2006-07-01T00:00:00\", \"symbol\": \"GOOG\", \"price\": 386.6}, {\"date\": \"2006-08-01T00:00:00\", \"symbol\": \"GOOG\", \"price\": 378.53}, {\"date\": \"2006-09-01T00:00:00\", \"symbol\": \"GOOG\", \"price\": 401.9}, {\"date\": \"2006-10-01T00:00:00\", \"symbol\": \"GOOG\", \"price\": 476.39}, {\"date\": \"2006-11-01T00:00:00\", \"symbol\": \"GOOG\", \"price\": 484.81}, {\"date\": \"2006-12-01T00:00:00\", \"symbol\": \"GOOG\", \"price\": 460.48}, {\"date\": \"2007-01-01T00:00:00\", \"symbol\": \"GOOG\", \"price\": 501.5}, {\"date\": \"2007-02-01T00:00:00\", \"symbol\": \"GOOG\", \"price\": 449.45}, {\"date\": \"2007-03-01T00:00:00\", \"symbol\": \"GOOG\", \"price\": 458.16}, {\"date\": \"2007-04-01T00:00:00\", \"symbol\": \"GOOG\", \"price\": 471.38}, {\"date\": \"2007-05-01T00:00:00\", \"symbol\": \"GOOG\", \"price\": 497.91}, {\"date\": \"2007-06-01T00:00:00\", \"symbol\": \"GOOG\", \"price\": 522.7}, {\"date\": \"2007-07-01T00:00:00\", \"symbol\": \"GOOG\", \"price\": 510.0}, {\"date\": \"2007-08-01T00:00:00\", \"symbol\": \"GOOG\", \"price\": 515.25}, {\"date\": \"2007-09-01T00:00:00\", \"symbol\": \"GOOG\", \"price\": 567.27}, {\"date\": \"2007-10-01T00:00:00\", \"symbol\": \"GOOG\", \"price\": 707.0}, {\"date\": \"2007-11-01T00:00:00\", \"symbol\": \"GOOG\", \"price\": 693.0}, {\"date\": \"2007-12-01T00:00:00\", \"symbol\": \"GOOG\", \"price\": 691.48}, {\"date\": \"2008-01-01T00:00:00\", \"symbol\": \"GOOG\", \"price\": 564.3}, {\"date\": \"2008-02-01T00:00:00\", \"symbol\": \"GOOG\", \"price\": 471.18}, {\"date\": \"2008-03-01T00:00:00\", \"symbol\": \"GOOG\", \"price\": 440.47}, {\"date\": \"2008-04-01T00:00:00\", \"symbol\": \"GOOG\", \"price\": 574.29}, {\"date\": \"2008-05-01T00:00:00\", \"symbol\": \"GOOG\", \"price\": 585.8}, {\"date\": \"2008-06-01T00:00:00\", \"symbol\": \"GOOG\", \"price\": 526.42}, {\"date\": \"2008-07-01T00:00:00\", \"symbol\": \"GOOG\", \"price\": 473.75}, {\"date\": \"2008-08-01T00:00:00\", \"symbol\": \"GOOG\", \"price\": 463.29}, {\"date\": \"2008-09-01T00:00:00\", \"symbol\": \"GOOG\", \"price\": 400.52}, {\"date\": \"2008-10-01T00:00:00\", \"symbol\": \"GOOG\", \"price\": 359.36}, {\"date\": \"2008-11-01T00:00:00\", \"symbol\": \"GOOG\", \"price\": 292.96}, {\"date\": \"2008-12-01T00:00:00\", \"symbol\": \"GOOG\", \"price\": 307.65}, {\"date\": \"2009-01-01T00:00:00\", \"symbol\": \"GOOG\", \"price\": 338.53}, {\"date\": \"2009-02-01T00:00:00\", \"symbol\": \"GOOG\", \"price\": 337.99}, {\"date\": \"2009-03-01T00:00:00\", \"symbol\": \"GOOG\", \"price\": 348.06}, {\"date\": \"2009-04-01T00:00:00\", \"symbol\": \"GOOG\", \"price\": 395.97}, {\"date\": \"2009-05-01T00:00:00\", \"symbol\": \"GOOG\", \"price\": 417.23}, {\"date\": \"2009-06-01T00:00:00\", \"symbol\": \"GOOG\", \"price\": 421.59}, {\"date\": \"2009-07-01T00:00:00\", \"symbol\": \"GOOG\", \"price\": 443.05}, {\"date\": \"2009-08-01T00:00:00\", \"symbol\": \"GOOG\", \"price\": 461.67}, {\"date\": \"2009-09-01T00:00:00\", \"symbol\": \"GOOG\", \"price\": 495.85}, {\"date\": \"2009-10-01T00:00:00\", \"symbol\": \"GOOG\", \"price\": 536.12}, {\"date\": \"2009-11-01T00:00:00\", \"symbol\": \"GOOG\", \"price\": 583.0}, {\"date\": \"2009-12-01T00:00:00\", \"symbol\": \"GOOG\", \"price\": 619.98}, {\"date\": \"2010-01-01T00:00:00\", \"symbol\": \"GOOG\", \"price\": 529.94}, {\"date\": \"2010-02-01T00:00:00\", \"symbol\": \"GOOG\", \"price\": 526.8}, {\"date\": \"2010-03-01T00:00:00\", \"symbol\": \"GOOG\", \"price\": 560.19}]}, \"encoding\": {\"y\": {\"field\": \"price\", \"scale\": {\"type\": \"log\"}, \"type\": \"quantitative\"}, \"x\": {\"field\": \"date\", \"type\": \"temporal\"}}, \"config\": {\"view\": {\"width\": 400, \"height\": 300}}, \"mark\": \"line\", \"$schema\": \"https://vega.github.io/schema/vega-lite/v2.6.0.json\", \"data\": {\"name\": \"data-0fff2011ed9b71fa721c2b85edd74396\"}};\n",
              "      var embedOpt = {\"mode\": \"vega-lite\"};\n",
              "\n",
              "      function showError(el, error){\n",
              "          el.innerHTML = ('<div class=\"error\" style=\"color:red;\">'\n",
              "                          + '<p>JavaScript Error: ' + error.message + '</p>'\n",
              "                          + \"<p>This usually means there's a typo in your chart specification. \"\n",
              "                          + \"See the javascript console for the full traceback.</p>\"\n",
              "                          + '</div>');\n",
              "          throw error;\n",
              "      }\n",
              "      const el = document.getElementById('altair-viz');\n",
              "      vegaEmbed(\"#altair-viz\", spec, embedOpt)\n",
              "        .catch(error => showError(el, error));\n",
              "\n",
              "  </script>\n",
              "</body>\n",
              "</html>"
            ]
          },
          "metadata": {
            "tags": []
          },
          "execution_count": 24
        }
      ]
    },
    {
      "metadata": {
        "id": "-D5YO_pnkfiZ",
        "colab_type": "text"
      },
      "cell_type": "markdown",
      "source": [
        "Log scales, however, do come with some constraints:\n",
        "\n",
        "*   Only positive numbers are supported as the logarithm of negative numbers is undefined.\n",
        "*   They require some level of audience familiarity -- your readers must understand that log scales depict changes in terms of orders of magnitude or percentage change.\n",
        "\n"
      ]
    },
    {
      "metadata": {
        "id": "jE2DYKQu6SSg",
        "colab_type": "text"
      },
      "cell_type": "markdown",
      "source": [
        "## Submit\n",
        "\n",
        "Remember to submit your notebook to LMOD by doing the following:\n",
        "\n",
        "1. Click the _Share_ button in the upper right-hand corner.\n",
        "2. Click _Get a Shareable Link_ in the dialog box, and double check that _Anyone with a link **can view**_ is selected."
      ]
    },
    {
      "metadata": {
        "id": "jB6i4iYdmHpz",
        "colab_type": "text"
      },
      "cell_type": "markdown",
      "source": [
        "## Acknowledgements\n",
        "\n",
        "This notebook was adapted from material developed by Jeffrey Heer, Dominik Moritz, and Brock Craft."
      ]
    }
  ]
}